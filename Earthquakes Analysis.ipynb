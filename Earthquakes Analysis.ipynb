{
 "cells": [
  {
   "cell_type": "code",
   "execution_count": 68,
   "metadata": {},
   "outputs": [],
   "source": [
    "import plotly.graph_objects as go\n",
    "# Create figure\n",
    "import matplotlib.pyplot as plt\n",
    "plt.rcParams['figure.figsize'] = [16, 5]\n",
    "import numpy as np\n",
    "import pandas as pd\n",
    " "
   ]
  },
  {
   "cell_type": "code",
   "execution_count": 69,
   "metadata": {},
   "outputs": [
    {
     "data": {
      "text/html": [
       "<div>\n",
       "<style scoped>\n",
       "    .dataframe tbody tr th:only-of-type {\n",
       "        vertical-align: middle;\n",
       "    }\n",
       "\n",
       "    .dataframe tbody tr th {\n",
       "        vertical-align: top;\n",
       "    }\n",
       "\n",
       "    .dataframe thead th {\n",
       "        text-align: right;\n",
       "    }\n",
       "</style>\n",
       "<table border=\"1\" class=\"dataframe\">\n",
       "  <thead>\n",
       "    <tr style=\"text-align: right;\">\n",
       "      <th></th>\n",
       "      <th>I_D</th>\n",
       "      <th>FLAG_TSUNAMI</th>\n",
       "      <th>YEAR</th>\n",
       "      <th>MONTH</th>\n",
       "      <th>DAY</th>\n",
       "      <th>HOUR</th>\n",
       "      <th>MINUTE</th>\n",
       "      <th>SECOND</th>\n",
       "      <th>FOCAL_DEPTH</th>\n",
       "      <th>EQ_PRIMARY</th>\n",
       "      <th>...</th>\n",
       "      <th>TOTAL_MISSING</th>\n",
       "      <th>TOTAL_MISSING_DESCRIPTION</th>\n",
       "      <th>TOTAL_INJURIES</th>\n",
       "      <th>TOTAL_INJURIES_DESCRIPTION</th>\n",
       "      <th>TOTAL_DAMAGE_MILLIONS_DOLLARS</th>\n",
       "      <th>TOTAL_DAMAGE_DESCRIPTION</th>\n",
       "      <th>TOTAL_HOUSES_DESTROYED</th>\n",
       "      <th>TOTAL_HOUSES_DESTROYED_DESCRIPTION</th>\n",
       "      <th>TOTAL_HOUSES_DAMAGED</th>\n",
       "      <th>TOTAL_HOUSES_DAMAGED_DESCRIPTION</th>\n",
       "    </tr>\n",
       "  </thead>\n",
       "  <tbody>\n",
       "    <tr>\n",
       "      <th>1925</th>\n",
       "      <td>5367</td>\n",
       "      <td>NaN</td>\n",
       "      <td>1993</td>\n",
       "      <td>10.0</td>\n",
       "      <td>20.0</td>\n",
       "      <td>16.0</td>\n",
       "      <td>15.0</td>\n",
       "      <td>59.6</td>\n",
       "      <td>37.0</td>\n",
       "      <td>5.1</td>\n",
       "      <td>...</td>\n",
       "      <td>NaN</td>\n",
       "      <td>NaN</td>\n",
       "      <td>NaN</td>\n",
       "      <td>NaN</td>\n",
       "      <td>NaN</td>\n",
       "      <td>NaN</td>\n",
       "      <td>NaN</td>\n",
       "      <td>NaN</td>\n",
       "      <td>NaN</td>\n",
       "      <td>NaN</td>\n",
       "    </tr>\n",
       "    <tr>\n",
       "      <th>1926</th>\n",
       "      <td>5368</td>\n",
       "      <td>NaN</td>\n",
       "      <td>1993</td>\n",
       "      <td>11.0</td>\n",
       "      <td>12.0</td>\n",
       "      <td>13.0</td>\n",
       "      <td>27.0</td>\n",
       "      <td>28.1</td>\n",
       "      <td>10.0</td>\n",
       "      <td>4.6</td>\n",
       "      <td>...</td>\n",
       "      <td>NaN</td>\n",
       "      <td>NaN</td>\n",
       "      <td>25.0</td>\n",
       "      <td>1.0</td>\n",
       "      <td>NaN</td>\n",
       "      <td>1.0</td>\n",
       "      <td>NaN</td>\n",
       "      <td>NaN</td>\n",
       "      <td>100.0</td>\n",
       "      <td>2.0</td>\n",
       "    </tr>\n",
       "    <tr>\n",
       "      <th>1927</th>\n",
       "      <td>6487</td>\n",
       "      <td>Tsu</td>\n",
       "      <td>1993</td>\n",
       "      <td>11.0</td>\n",
       "      <td>13.0</td>\n",
       "      <td>1.0</td>\n",
       "      <td>18.0</td>\n",
       "      <td>4.1</td>\n",
       "      <td>34.0</td>\n",
       "      <td>7.0</td>\n",
       "      <td>...</td>\n",
       "      <td>NaN</td>\n",
       "      <td>NaN</td>\n",
       "      <td>NaN</td>\n",
       "      <td>NaN</td>\n",
       "      <td>NaN</td>\n",
       "      <td>1.0</td>\n",
       "      <td>NaN</td>\n",
       "      <td>NaN</td>\n",
       "      <td>NaN</td>\n",
       "      <td>NaN</td>\n",
       "    </tr>\n",
       "    <tr>\n",
       "      <th>1928</th>\n",
       "      <td>5369</td>\n",
       "      <td>NaN</td>\n",
       "      <td>1993</td>\n",
       "      <td>11.0</td>\n",
       "      <td>30.0</td>\n",
       "      <td>20.0</td>\n",
       "      <td>37.0</td>\n",
       "      <td>12.8</td>\n",
       "      <td>18.0</td>\n",
       "      <td>5.6</td>\n",
       "      <td>...</td>\n",
       "      <td>NaN</td>\n",
       "      <td>NaN</td>\n",
       "      <td>4.0</td>\n",
       "      <td>1.0</td>\n",
       "      <td>NaN</td>\n",
       "      <td>1.0</td>\n",
       "      <td>100.0</td>\n",
       "      <td>2.0</td>\n",
       "      <td>NaN</td>\n",
       "      <td>NaN</td>\n",
       "    </tr>\n",
       "    <tr>\n",
       "      <th>1929</th>\n",
       "      <td>5370</td>\n",
       "      <td>NaN</td>\n",
       "      <td>1994</td>\n",
       "      <td>1.0</td>\n",
       "      <td>3.0</td>\n",
       "      <td>5.0</td>\n",
       "      <td>52.0</td>\n",
       "      <td>27.6</td>\n",
       "      <td>8.0</td>\n",
       "      <td>5.7</td>\n",
       "      <td>...</td>\n",
       "      <td>NaN</td>\n",
       "      <td>NaN</td>\n",
       "      <td>5.0</td>\n",
       "      <td>1.0</td>\n",
       "      <td>NaN</td>\n",
       "      <td>1.0</td>\n",
       "      <td>56.0</td>\n",
       "      <td>2.0</td>\n",
       "      <td>NaN</td>\n",
       "      <td>NaN</td>\n",
       "    </tr>\n",
       "    <tr>\n",
       "      <th>...</th>\n",
       "      <td>...</td>\n",
       "      <td>...</td>\n",
       "      <td>...</td>\n",
       "      <td>...</td>\n",
       "      <td>...</td>\n",
       "      <td>...</td>\n",
       "      <td>...</td>\n",
       "      <td>...</td>\n",
       "      <td>...</td>\n",
       "      <td>...</td>\n",
       "      <td>...</td>\n",
       "      <td>...</td>\n",
       "      <td>...</td>\n",
       "      <td>...</td>\n",
       "      <td>...</td>\n",
       "      <td>...</td>\n",
       "      <td>...</td>\n",
       "      <td>...</td>\n",
       "      <td>...</td>\n",
       "      <td>...</td>\n",
       "      <td>...</td>\n",
       "    </tr>\n",
       "    <tr>\n",
       "      <th>3285</th>\n",
       "      <td>10487</td>\n",
       "      <td>Tsu</td>\n",
       "      <td>2020</td>\n",
       "      <td>3.0</td>\n",
       "      <td>25.0</td>\n",
       "      <td>2.0</td>\n",
       "      <td>49.0</td>\n",
       "      <td>21.0</td>\n",
       "      <td>57.0</td>\n",
       "      <td>7.5</td>\n",
       "      <td>...</td>\n",
       "      <td>NaN</td>\n",
       "      <td>NaN</td>\n",
       "      <td>NaN</td>\n",
       "      <td>NaN</td>\n",
       "      <td>NaN</td>\n",
       "      <td>NaN</td>\n",
       "      <td>NaN</td>\n",
       "      <td>NaN</td>\n",
       "      <td>NaN</td>\n",
       "      <td>NaN</td>\n",
       "    </tr>\n",
       "    <tr>\n",
       "      <th>3286</th>\n",
       "      <td>10488</td>\n",
       "      <td>NaN</td>\n",
       "      <td>2020</td>\n",
       "      <td>4.0</td>\n",
       "      <td>1.0</td>\n",
       "      <td>12.0</td>\n",
       "      <td>23.0</td>\n",
       "      <td>27.0</td>\n",
       "      <td>10.0</td>\n",
       "      <td>5.3</td>\n",
       "      <td>...</td>\n",
       "      <td>NaN</td>\n",
       "      <td>NaN</td>\n",
       "      <td>NaN</td>\n",
       "      <td>NaN</td>\n",
       "      <td>11.28</td>\n",
       "      <td>3.0</td>\n",
       "      <td>NaN</td>\n",
       "      <td>NaN</td>\n",
       "      <td>790.0</td>\n",
       "      <td>3.0</td>\n",
       "    </tr>\n",
       "    <tr>\n",
       "      <th>3287</th>\n",
       "      <td>10490</td>\n",
       "      <td>Tsu</td>\n",
       "      <td>2020</td>\n",
       "      <td>5.0</td>\n",
       "      <td>2.0</td>\n",
       "      <td>12.0</td>\n",
       "      <td>51.0</td>\n",
       "      <td>6.0</td>\n",
       "      <td>17.0</td>\n",
       "      <td>6.6</td>\n",
       "      <td>...</td>\n",
       "      <td>NaN</td>\n",
       "      <td>NaN</td>\n",
       "      <td>NaN</td>\n",
       "      <td>NaN</td>\n",
       "      <td>NaN</td>\n",
       "      <td>NaN</td>\n",
       "      <td>NaN</td>\n",
       "      <td>NaN</td>\n",
       "      <td>NaN</td>\n",
       "      <td>NaN</td>\n",
       "    </tr>\n",
       "    <tr>\n",
       "      <th>3288</th>\n",
       "      <td>10491</td>\n",
       "      <td>NaN</td>\n",
       "      <td>2020</td>\n",
       "      <td>5.0</td>\n",
       "      <td>7.0</td>\n",
       "      <td>20.0</td>\n",
       "      <td>18.0</td>\n",
       "      <td>22.0</td>\n",
       "      <td>10.0</td>\n",
       "      <td>4.6</td>\n",
       "      <td>...</td>\n",
       "      <td>NaN</td>\n",
       "      <td>NaN</td>\n",
       "      <td>22.0</td>\n",
       "      <td>1.0</td>\n",
       "      <td>NaN</td>\n",
       "      <td>NaN</td>\n",
       "      <td>NaN</td>\n",
       "      <td>NaN</td>\n",
       "      <td>NaN</td>\n",
       "      <td>NaN</td>\n",
       "    </tr>\n",
       "    <tr>\n",
       "      <th>3289</th>\n",
       "      <td>10494</td>\n",
       "      <td>NaN</td>\n",
       "      <td>2020</td>\n",
       "      <td>5.0</td>\n",
       "      <td>18.0</td>\n",
       "      <td>13.0</td>\n",
       "      <td>48.0</td>\n",
       "      <td>3.0</td>\n",
       "      <td>10.0</td>\n",
       "      <td>5.2</td>\n",
       "      <td>...</td>\n",
       "      <td>NaN</td>\n",
       "      <td>NaN</td>\n",
       "      <td>24.0</td>\n",
       "      <td>1.0</td>\n",
       "      <td>NaN</td>\n",
       "      <td>2.0</td>\n",
       "      <td>NaN</td>\n",
       "      <td>1.0</td>\n",
       "      <td>NaN</td>\n",
       "      <td>NaN</td>\n",
       "    </tr>\n",
       "  </tbody>\n",
       "</table>\n",
       "<p>1365 rows × 47 columns</p>\n",
       "</div>"
      ],
      "text/plain": [
       "        I_D FLAG_TSUNAMI  YEAR  MONTH   DAY  HOUR  MINUTE SECOND  FOCAL_DEPTH  \\\n",
       "1925   5367          NaN  1993   10.0  20.0  16.0    15.0   59.6         37.0   \n",
       "1926   5368          NaN  1993   11.0  12.0  13.0    27.0   28.1         10.0   \n",
       "1927   6487          Tsu  1993   11.0  13.0   1.0    18.0    4.1         34.0   \n",
       "1928   5369          NaN  1993   11.0  30.0  20.0    37.0   12.8         18.0   \n",
       "1929   5370          NaN  1994    1.0   3.0   5.0    52.0   27.6          8.0   \n",
       "...     ...          ...   ...    ...   ...   ...     ...    ...          ...   \n",
       "3285  10487          Tsu  2020    3.0  25.0   2.0    49.0   21.0         57.0   \n",
       "3286  10488          NaN  2020    4.0   1.0  12.0    23.0   27.0         10.0   \n",
       "3287  10490          Tsu  2020    5.0   2.0  12.0    51.0    6.0         17.0   \n",
       "3288  10491          NaN  2020    5.0   7.0  20.0    18.0   22.0         10.0   \n",
       "3289  10494          NaN  2020    5.0  18.0  13.0    48.0    3.0         10.0   \n",
       "\n",
       "      EQ_PRIMARY  ...  TOTAL_MISSING  TOTAL_MISSING_DESCRIPTION  \\\n",
       "1925         5.1  ...            NaN                        NaN   \n",
       "1926         4.6  ...            NaN                        NaN   \n",
       "1927         7.0  ...            NaN                        NaN   \n",
       "1928         5.6  ...            NaN                        NaN   \n",
       "1929         5.7  ...            NaN                        NaN   \n",
       "...          ...  ...            ...                        ...   \n",
       "3285         7.5  ...            NaN                        NaN   \n",
       "3286         5.3  ...            NaN                        NaN   \n",
       "3287         6.6  ...            NaN                        NaN   \n",
       "3288         4.6  ...            NaN                        NaN   \n",
       "3289         5.2  ...            NaN                        NaN   \n",
       "\n",
       "      TOTAL_INJURIES  TOTAL_INJURIES_DESCRIPTION  \\\n",
       "1925             NaN                         NaN   \n",
       "1926            25.0                         1.0   \n",
       "1927             NaN                         NaN   \n",
       "1928             4.0                         1.0   \n",
       "1929             5.0                         1.0   \n",
       "...              ...                         ...   \n",
       "3285             NaN                         NaN   \n",
       "3286             NaN                         NaN   \n",
       "3287             NaN                         NaN   \n",
       "3288            22.0                         1.0   \n",
       "3289            24.0                         1.0   \n",
       "\n",
       "      TOTAL_DAMAGE_MILLIONS_DOLLARS  TOTAL_DAMAGE_DESCRIPTION  \\\n",
       "1925                            NaN                       NaN   \n",
       "1926                            NaN                       1.0   \n",
       "1927                            NaN                       1.0   \n",
       "1928                            NaN                       1.0   \n",
       "1929                            NaN                       1.0   \n",
       "...                             ...                       ...   \n",
       "3285                            NaN                       NaN   \n",
       "3286                          11.28                       3.0   \n",
       "3287                            NaN                       NaN   \n",
       "3288                            NaN                       NaN   \n",
       "3289                            NaN                       2.0   \n",
       "\n",
       "      TOTAL_HOUSES_DESTROYED TOTAL_HOUSES_DESTROYED_DESCRIPTION  \\\n",
       "1925                     NaN                                NaN   \n",
       "1926                     NaN                                NaN   \n",
       "1927                     NaN                                NaN   \n",
       "1928                   100.0                                2.0   \n",
       "1929                    56.0                                2.0   \n",
       "...                      ...                                ...   \n",
       "3285                     NaN                                NaN   \n",
       "3286                     NaN                                NaN   \n",
       "3287                     NaN                                NaN   \n",
       "3288                     NaN                                NaN   \n",
       "3289                     NaN                                1.0   \n",
       "\n",
       "     TOTAL_HOUSES_DAMAGED TOTAL_HOUSES_DAMAGED_DESCRIPTION  \n",
       "1925                  NaN                              NaN  \n",
       "1926                100.0                              2.0  \n",
       "1927                  NaN                              NaN  \n",
       "1928                  NaN                              NaN  \n",
       "1929                  NaN                              NaN  \n",
       "...                   ...                              ...  \n",
       "3285                  NaN                              NaN  \n",
       "3286                790.0                              3.0  \n",
       "3287                  NaN                              NaN  \n",
       "3288                  NaN                              NaN  \n",
       "3289                  NaN                              NaN  \n",
       "\n",
       "[1365 rows x 47 columns]"
      ]
     },
     "execution_count": 69,
     "metadata": {},
     "output_type": "execute_result"
    }
   ],
   "source": [
    "filename = \"data/data.tsv\"\n",
    "data = pd.read_csv(filename, sep='\\t', error_bad_lines=False)\n",
    "df = data.iloc[1925:3290,[i for i in range(47)]]\n",
    "df\n"
   ]
  },
  {
   "cell_type": "code",
   "execution_count": 70,
   "metadata": {},
   "outputs": [
    {
     "data": {
      "text/html": [
       "<div>\n",
       "<style scoped>\n",
       "    .dataframe tbody tr th:only-of-type {\n",
       "        vertical-align: middle;\n",
       "    }\n",
       "\n",
       "    .dataframe tbody tr th {\n",
       "        vertical-align: top;\n",
       "    }\n",
       "\n",
       "    .dataframe thead th {\n",
       "        text-align: right;\n",
       "    }\n",
       "</style>\n",
       "<table border=\"1\" class=\"dataframe\">\n",
       "  <thead>\n",
       "    <tr style=\"text-align: right;\">\n",
       "      <th></th>\n",
       "      <th>I_D</th>\n",
       "      <th>YEAR</th>\n",
       "      <th>MONTH</th>\n",
       "      <th>DAY</th>\n",
       "      <th>HOUR</th>\n",
       "      <th>MINUTE</th>\n",
       "      <th>SECOND</th>\n",
       "      <th>FOCAL_DEPTH</th>\n",
       "      <th>EQ_MAG_MW</th>\n",
       "      <th>COUNTRY</th>\n",
       "      <th>LATITUDE</th>\n",
       "      <th>LONGITUDE</th>\n",
       "      <th>TOTAL_DEATHS</th>\n",
       "      <th>TOTAL_INJURIES</th>\n",
       "    </tr>\n",
       "  </thead>\n",
       "  <tbody>\n",
       "    <tr>\n",
       "      <th>1925</th>\n",
       "      <td>5367</td>\n",
       "      <td>1993</td>\n",
       "      <td>10.0</td>\n",
       "      <td>20.0</td>\n",
       "      <td>16.0</td>\n",
       "      <td>15.0</td>\n",
       "      <td>59.6</td>\n",
       "      <td>37.0</td>\n",
       "      <td>NaN</td>\n",
       "      <td>NEPAL</td>\n",
       "      <td>28.723</td>\n",
       "      <td>82.280</td>\n",
       "      <td>NaN</td>\n",
       "      <td>NaN</td>\n",
       "    </tr>\n",
       "    <tr>\n",
       "      <th>1926</th>\n",
       "      <td>5368</td>\n",
       "      <td>1993</td>\n",
       "      <td>11.0</td>\n",
       "      <td>12.0</td>\n",
       "      <td>13.0</td>\n",
       "      <td>27.0</td>\n",
       "      <td>28.1</td>\n",
       "      <td>10.0</td>\n",
       "      <td>NaN</td>\n",
       "      <td>INDIA</td>\n",
       "      <td>18.120</td>\n",
       "      <td>76.533</td>\n",
       "      <td>NaN</td>\n",
       "      <td>25.0</td>\n",
       "    </tr>\n",
       "    <tr>\n",
       "      <th>1927</th>\n",
       "      <td>6487</td>\n",
       "      <td>1993</td>\n",
       "      <td>11.0</td>\n",
       "      <td>13.0</td>\n",
       "      <td>1.0</td>\n",
       "      <td>18.0</td>\n",
       "      <td>4.1</td>\n",
       "      <td>34.0</td>\n",
       "      <td>7.0</td>\n",
       "      <td>RUSSIA</td>\n",
       "      <td>51.934</td>\n",
       "      <td>158.647</td>\n",
       "      <td>NaN</td>\n",
       "      <td>NaN</td>\n",
       "    </tr>\n",
       "    <tr>\n",
       "      <th>1928</th>\n",
       "      <td>5369</td>\n",
       "      <td>1993</td>\n",
       "      <td>11.0</td>\n",
       "      <td>30.0</td>\n",
       "      <td>20.0</td>\n",
       "      <td>37.0</td>\n",
       "      <td>12.8</td>\n",
       "      <td>18.0</td>\n",
       "      <td>5.6</td>\n",
       "      <td>CHINA</td>\n",
       "      <td>39.263</td>\n",
       "      <td>75.533</td>\n",
       "      <td>NaN</td>\n",
       "      <td>4.0</td>\n",
       "    </tr>\n",
       "    <tr>\n",
       "      <th>1929</th>\n",
       "      <td>5370</td>\n",
       "      <td>1994</td>\n",
       "      <td>1.0</td>\n",
       "      <td>3.0</td>\n",
       "      <td>5.0</td>\n",
       "      <td>52.0</td>\n",
       "      <td>27.6</td>\n",
       "      <td>8.0</td>\n",
       "      <td>5.7</td>\n",
       "      <td>CHINA</td>\n",
       "      <td>36.028</td>\n",
       "      <td>100.104</td>\n",
       "      <td>NaN</td>\n",
       "      <td>5.0</td>\n",
       "    </tr>\n",
       "    <tr>\n",
       "      <th>...</th>\n",
       "      <td>...</td>\n",
       "      <td>...</td>\n",
       "      <td>...</td>\n",
       "      <td>...</td>\n",
       "      <td>...</td>\n",
       "      <td>...</td>\n",
       "      <td>...</td>\n",
       "      <td>...</td>\n",
       "      <td>...</td>\n",
       "      <td>...</td>\n",
       "      <td>...</td>\n",
       "      <td>...</td>\n",
       "      <td>...</td>\n",
       "      <td>...</td>\n",
       "    </tr>\n",
       "    <tr>\n",
       "      <th>3285</th>\n",
       "      <td>10487</td>\n",
       "      <td>2020</td>\n",
       "      <td>3.0</td>\n",
       "      <td>25.0</td>\n",
       "      <td>2.0</td>\n",
       "      <td>49.0</td>\n",
       "      <td>21.0</td>\n",
       "      <td>57.0</td>\n",
       "      <td>7.5</td>\n",
       "      <td>RUSSIA</td>\n",
       "      <td>48.986</td>\n",
       "      <td>157.693</td>\n",
       "      <td>NaN</td>\n",
       "      <td>NaN</td>\n",
       "    </tr>\n",
       "    <tr>\n",
       "      <th>3286</th>\n",
       "      <td>10488</td>\n",
       "      <td>2020</td>\n",
       "      <td>4.0</td>\n",
       "      <td>1.0</td>\n",
       "      <td>12.0</td>\n",
       "      <td>23.0</td>\n",
       "      <td>27.0</td>\n",
       "      <td>10.0</td>\n",
       "      <td>5.3</td>\n",
       "      <td>CHINA</td>\n",
       "      <td>33.124</td>\n",
       "      <td>98.916</td>\n",
       "      <td>NaN</td>\n",
       "      <td>NaN</td>\n",
       "    </tr>\n",
       "    <tr>\n",
       "      <th>3287</th>\n",
       "      <td>10490</td>\n",
       "      <td>2020</td>\n",
       "      <td>5.0</td>\n",
       "      <td>2.0</td>\n",
       "      <td>12.0</td>\n",
       "      <td>51.0</td>\n",
       "      <td>6.0</td>\n",
       "      <td>17.0</td>\n",
       "      <td>6.6</td>\n",
       "      <td>GREECE</td>\n",
       "      <td>34.205</td>\n",
       "      <td>25.712</td>\n",
       "      <td>NaN</td>\n",
       "      <td>NaN</td>\n",
       "    </tr>\n",
       "    <tr>\n",
       "      <th>3288</th>\n",
       "      <td>10491</td>\n",
       "      <td>2020</td>\n",
       "      <td>5.0</td>\n",
       "      <td>7.0</td>\n",
       "      <td>20.0</td>\n",
       "      <td>18.0</td>\n",
       "      <td>22.0</td>\n",
       "      <td>10.0</td>\n",
       "      <td>NaN</td>\n",
       "      <td>IRAN</td>\n",
       "      <td>35.725</td>\n",
       "      <td>52.044</td>\n",
       "      <td>2.0</td>\n",
       "      <td>22.0</td>\n",
       "    </tr>\n",
       "    <tr>\n",
       "      <th>3289</th>\n",
       "      <td>10494</td>\n",
       "      <td>2020</td>\n",
       "      <td>5.0</td>\n",
       "      <td>18.0</td>\n",
       "      <td>13.0</td>\n",
       "      <td>48.0</td>\n",
       "      <td>3.0</td>\n",
       "      <td>10.0</td>\n",
       "      <td>5.2</td>\n",
       "      <td>CHINA</td>\n",
       "      <td>27.296</td>\n",
       "      <td>103.281</td>\n",
       "      <td>4.0</td>\n",
       "      <td>24.0</td>\n",
       "    </tr>\n",
       "  </tbody>\n",
       "</table>\n",
       "<p>1365 rows × 14 columns</p>\n",
       "</div>"
      ],
      "text/plain": [
       "        I_D  YEAR  MONTH   DAY  HOUR  MINUTE SECOND  FOCAL_DEPTH  EQ_MAG_MW  \\\n",
       "1925   5367  1993   10.0  20.0  16.0    15.0   59.6         37.0        NaN   \n",
       "1926   5368  1993   11.0  12.0  13.0    27.0   28.1         10.0        NaN   \n",
       "1927   6487  1993   11.0  13.0   1.0    18.0    4.1         34.0        7.0   \n",
       "1928   5369  1993   11.0  30.0  20.0    37.0   12.8         18.0        5.6   \n",
       "1929   5370  1994    1.0   3.0   5.0    52.0   27.6          8.0        5.7   \n",
       "...     ...   ...    ...   ...   ...     ...    ...          ...        ...   \n",
       "3285  10487  2020    3.0  25.0   2.0    49.0   21.0         57.0        7.5   \n",
       "3286  10488  2020    4.0   1.0  12.0    23.0   27.0         10.0        5.3   \n",
       "3287  10490  2020    5.0   2.0  12.0    51.0    6.0         17.0        6.6   \n",
       "3288  10491  2020    5.0   7.0  20.0    18.0   22.0         10.0        NaN   \n",
       "3289  10494  2020    5.0  18.0  13.0    48.0    3.0         10.0        5.2   \n",
       "\n",
       "     COUNTRY  LATITUDE  LONGITUDE  TOTAL_DEATHS  TOTAL_INJURIES  \n",
       "1925   NEPAL    28.723     82.280           NaN             NaN  \n",
       "1926   INDIA    18.120     76.533           NaN            25.0  \n",
       "1927  RUSSIA    51.934    158.647           NaN             NaN  \n",
       "1928   CHINA    39.263     75.533           NaN             4.0  \n",
       "1929   CHINA    36.028    100.104           NaN             5.0  \n",
       "...      ...       ...        ...           ...             ...  \n",
       "3285  RUSSIA    48.986    157.693           NaN             NaN  \n",
       "3286   CHINA    33.124     98.916           NaN             NaN  \n",
       "3287  GREECE    34.205     25.712           NaN             NaN  \n",
       "3288    IRAN    35.725     52.044           2.0            22.0  \n",
       "3289   CHINA    27.296    103.281           4.0            24.0  \n",
       "\n",
       "[1365 rows x 14 columns]"
      ]
     },
     "execution_count": 70,
     "metadata": {},
     "output_type": "execute_result"
    }
   ],
   "source": [
    "df.columns.values\n",
    "df1 = df[['I_D',\n",
    "          'YEAR', \n",
    "          'MONTH', \n",
    "          'DAY', \n",
    "          'HOUR',\n",
    "          'MINUTE',\n",
    "          'SECOND',\n",
    "          'FOCAL_DEPTH', \n",
    "          'EQ_MAG_MW', 'COUNTRY', \n",
    "          'LATITUDE', 'LONGITUDE',\n",
    "          'TOTAL_DEATHS', \n",
    "          'TOTAL_INJURIES']]\n",
    "df1\n"
   ]
  },
  {
   "cell_type": "code",
   "execution_count": 71,
   "metadata": {},
   "outputs": [],
   "source": [
    "df1 = df1.fillna(0)"
   ]
  },
  {
   "cell_type": "code",
   "execution_count": 72,
   "metadata": {},
   "outputs": [],
   "source": [
    "from datetime import datetime\n",
    "df1['DateTime'] = df1.apply(lambda row: datetime(\n",
    "    int(row['YEAR']),\n",
    "    int(row['MONTH']), \n",
    "    int(row['DAY']), \n",
    "    int(row['HOUR']), \n",
    "    int(row['MINUTE']),), axis=1)\n"
   ]
  },
  {
   "cell_type": "code",
   "execution_count": 73,
   "metadata": {},
   "outputs": [],
   "source": [
    "df1=df1.drop(columns={'YEAR', 'MONTH', 'DAY', 'HOUR', 'MINUTE', 'SECOND'})"
   ]
  },
  {
   "cell_type": "code",
   "execution_count": 74,
   "metadata": {},
   "outputs": [
    {
     "data": {
      "text/html": [
       "<div>\n",
       "<style scoped>\n",
       "    .dataframe tbody tr th:only-of-type {\n",
       "        vertical-align: middle;\n",
       "    }\n",
       "\n",
       "    .dataframe tbody tr th {\n",
       "        vertical-align: top;\n",
       "    }\n",
       "\n",
       "    .dataframe thead th {\n",
       "        text-align: right;\n",
       "    }\n",
       "</style>\n",
       "<table border=\"1\" class=\"dataframe\">\n",
       "  <thead>\n",
       "    <tr style=\"text-align: right;\">\n",
       "      <th></th>\n",
       "      <th>EventID</th>\n",
       "      <th>Depth</th>\n",
       "      <th>Magnitude</th>\n",
       "      <th>Country</th>\n",
       "      <th>Latitude</th>\n",
       "      <th>Longitude</th>\n",
       "      <th>Deaths</th>\n",
       "      <th>Injuries</th>\n",
       "      <th>DateTime</th>\n",
       "    </tr>\n",
       "  </thead>\n",
       "  <tbody>\n",
       "    <tr>\n",
       "      <th>1925</th>\n",
       "      <td>5367</td>\n",
       "      <td>37.0</td>\n",
       "      <td>0.0</td>\n",
       "      <td>NEPAL</td>\n",
       "      <td>28.723</td>\n",
       "      <td>82.280</td>\n",
       "      <td>0.0</td>\n",
       "      <td>0.0</td>\n",
       "      <td>1993-10-20 16:15:00</td>\n",
       "    </tr>\n",
       "    <tr>\n",
       "      <th>1926</th>\n",
       "      <td>5368</td>\n",
       "      <td>10.0</td>\n",
       "      <td>0.0</td>\n",
       "      <td>INDIA</td>\n",
       "      <td>18.120</td>\n",
       "      <td>76.533</td>\n",
       "      <td>0.0</td>\n",
       "      <td>25.0</td>\n",
       "      <td>1993-11-12 13:27:00</td>\n",
       "    </tr>\n",
       "    <tr>\n",
       "      <th>1927</th>\n",
       "      <td>6487</td>\n",
       "      <td>34.0</td>\n",
       "      <td>7.0</td>\n",
       "      <td>RUSSIA</td>\n",
       "      <td>51.934</td>\n",
       "      <td>158.647</td>\n",
       "      <td>0.0</td>\n",
       "      <td>0.0</td>\n",
       "      <td>1993-11-13 01:18:00</td>\n",
       "    </tr>\n",
       "    <tr>\n",
       "      <th>1928</th>\n",
       "      <td>5369</td>\n",
       "      <td>18.0</td>\n",
       "      <td>5.6</td>\n",
       "      <td>CHINA</td>\n",
       "      <td>39.263</td>\n",
       "      <td>75.533</td>\n",
       "      <td>0.0</td>\n",
       "      <td>4.0</td>\n",
       "      <td>1993-11-30 20:37:00</td>\n",
       "    </tr>\n",
       "    <tr>\n",
       "      <th>1929</th>\n",
       "      <td>5370</td>\n",
       "      <td>8.0</td>\n",
       "      <td>5.7</td>\n",
       "      <td>CHINA</td>\n",
       "      <td>36.028</td>\n",
       "      <td>100.104</td>\n",
       "      <td>0.0</td>\n",
       "      <td>5.0</td>\n",
       "      <td>1994-01-03 05:52:00</td>\n",
       "    </tr>\n",
       "    <tr>\n",
       "      <th>...</th>\n",
       "      <td>...</td>\n",
       "      <td>...</td>\n",
       "      <td>...</td>\n",
       "      <td>...</td>\n",
       "      <td>...</td>\n",
       "      <td>...</td>\n",
       "      <td>...</td>\n",
       "      <td>...</td>\n",
       "      <td>...</td>\n",
       "    </tr>\n",
       "    <tr>\n",
       "      <th>3285</th>\n",
       "      <td>10487</td>\n",
       "      <td>57.0</td>\n",
       "      <td>7.5</td>\n",
       "      <td>RUSSIA</td>\n",
       "      <td>48.986</td>\n",
       "      <td>157.693</td>\n",
       "      <td>0.0</td>\n",
       "      <td>0.0</td>\n",
       "      <td>2020-03-25 02:49:00</td>\n",
       "    </tr>\n",
       "    <tr>\n",
       "      <th>3286</th>\n",
       "      <td>10488</td>\n",
       "      <td>10.0</td>\n",
       "      <td>5.3</td>\n",
       "      <td>CHINA</td>\n",
       "      <td>33.124</td>\n",
       "      <td>98.916</td>\n",
       "      <td>0.0</td>\n",
       "      <td>0.0</td>\n",
       "      <td>2020-04-01 12:23:00</td>\n",
       "    </tr>\n",
       "    <tr>\n",
       "      <th>3287</th>\n",
       "      <td>10490</td>\n",
       "      <td>17.0</td>\n",
       "      <td>6.6</td>\n",
       "      <td>GREECE</td>\n",
       "      <td>34.205</td>\n",
       "      <td>25.712</td>\n",
       "      <td>0.0</td>\n",
       "      <td>0.0</td>\n",
       "      <td>2020-05-02 12:51:00</td>\n",
       "    </tr>\n",
       "    <tr>\n",
       "      <th>3288</th>\n",
       "      <td>10491</td>\n",
       "      <td>10.0</td>\n",
       "      <td>0.0</td>\n",
       "      <td>IRAN</td>\n",
       "      <td>35.725</td>\n",
       "      <td>52.044</td>\n",
       "      <td>2.0</td>\n",
       "      <td>22.0</td>\n",
       "      <td>2020-05-07 20:18:00</td>\n",
       "    </tr>\n",
       "    <tr>\n",
       "      <th>3289</th>\n",
       "      <td>10494</td>\n",
       "      <td>10.0</td>\n",
       "      <td>5.2</td>\n",
       "      <td>CHINA</td>\n",
       "      <td>27.296</td>\n",
       "      <td>103.281</td>\n",
       "      <td>4.0</td>\n",
       "      <td>24.0</td>\n",
       "      <td>2020-05-18 13:48:00</td>\n",
       "    </tr>\n",
       "  </tbody>\n",
       "</table>\n",
       "<p>1365 rows × 9 columns</p>\n",
       "</div>"
      ],
      "text/plain": [
       "      EventID  Depth  Magnitude Country  Latitude  Longitude  Deaths  \\\n",
       "1925     5367   37.0        0.0   NEPAL    28.723     82.280     0.0   \n",
       "1926     5368   10.0        0.0   INDIA    18.120     76.533     0.0   \n",
       "1927     6487   34.0        7.0  RUSSIA    51.934    158.647     0.0   \n",
       "1928     5369   18.0        5.6   CHINA    39.263     75.533     0.0   \n",
       "1929     5370    8.0        5.7   CHINA    36.028    100.104     0.0   \n",
       "...       ...    ...        ...     ...       ...        ...     ...   \n",
       "3285    10487   57.0        7.5  RUSSIA    48.986    157.693     0.0   \n",
       "3286    10488   10.0        5.3   CHINA    33.124     98.916     0.0   \n",
       "3287    10490   17.0        6.6  GREECE    34.205     25.712     0.0   \n",
       "3288    10491   10.0        0.0    IRAN    35.725     52.044     2.0   \n",
       "3289    10494   10.0        5.2   CHINA    27.296    103.281     4.0   \n",
       "\n",
       "      Injuries            DateTime  \n",
       "1925       0.0 1993-10-20 16:15:00  \n",
       "1926      25.0 1993-11-12 13:27:00  \n",
       "1927       0.0 1993-11-13 01:18:00  \n",
       "1928       4.0 1993-11-30 20:37:00  \n",
       "1929       5.0 1994-01-03 05:52:00  \n",
       "...        ...                 ...  \n",
       "3285       0.0 2020-03-25 02:49:00  \n",
       "3286       0.0 2020-04-01 12:23:00  \n",
       "3287       0.0 2020-05-02 12:51:00  \n",
       "3288      22.0 2020-05-07 20:18:00  \n",
       "3289      24.0 2020-05-18 13:48:00  \n",
       "\n",
       "[1365 rows x 9 columns]"
      ]
     },
     "execution_count": 74,
     "metadata": {},
     "output_type": "execute_result"
    }
   ],
   "source": [
    "df_new = df1.rename(columns={'I_D':'EventID',\n",
    "                             'FOCAL_DEPTH':'Depth', \n",
    "                             'LATITUDE':'Latitude', \n",
    "                             'LONGITUDE':'Longitude',\n",
    "                             'EQ_MAG_MW':'Magnitude',\n",
    "                             'COUNTRY':'Country',\n",
    "                             'TOTAL_DEATHS':'Deaths',\n",
    "                             'TOTAL_INJURIES':'Injuries'\n",
    "                             })\n",
    "df_new\n",
    "#DateTime,Latitude,Longitude,Depth,Magnitude,MagType,NbStations,Gap,Distance,RMS,Source,EventID"
   ]
  },
  {
   "cell_type": "code",
   "execution_count": 91,
   "metadata": {},
   "outputs": [],
   "source": [
    "df_new['Latitude'] = pd.to_numeric(df_new['Latitude'])"
   ]
  },
  {
   "cell_type": "code",
   "execution_count": 93,
   "metadata": {},
   "outputs": [],
   "source": [
    "df_new.to_csv('data.csv', index=False)"
   ]
  },
  {
   "cell_type": "code",
   "execution_count": 76,
   "metadata": {},
   "outputs": [
    {
     "name": "stdout",
     "output_type": "stream",
     "text": [
      "User Guide: https://docs.kepler.gl/docs/keplergl-jupyter\n"
     ]
    },
    {
     "data": {
      "application/vnd.jupyter.widget-view+json": {
       "model_id": "0e9f7b233be942f4a2be4d6e478f1d20",
       "version_major": 2,
       "version_minor": 0
      },
      "text/plain": [
       "KeplerGl(height=300)"
      ]
     },
     "metadata": {},
     "output_type": "display_data"
    }
   ],
   "source": [
    "# Load an empty map\n",
    "from keplergl import KeplerGl \n",
    "map_1 = KeplerGl(height=300)\n",
    "map_1"
   ]
  },
  {
   "cell_type": "code",
   "execution_count": 77,
   "metadata": {},
   "outputs": [
    {
     "name": "stdout",
     "output_type": "stream",
     "text": [
      "Map saved to index.html!\n"
     ]
    }
   ],
   "source": [
    "map_1.save_to_html(file_name='index.html')"
   ]
  },
  {
   "cell_type": "code",
   "execution_count": 78,
   "metadata": {
    "scrolled": false
   },
   "outputs": [],
   "source": [
    "magnitude = df['EQ_MAG_MW'].dropna()\n",
    "#display(magnitude)\n",
    "#print(magnitude.shape)\n",
    "row_num = df.loc[~df['EQ_MAG_MW'].isna()].index.tolist()"
   ]
  },
  {
   "cell_type": "code",
   "execution_count": 79,
   "metadata": {},
   "outputs": [
    {
     "data": {
      "application/vnd.plotly.v1+json": {
       "config": {
        "plotlyServerURL": "https://plot.ly"
       },
       "data": [
        {
         "fill": "tozeroy",
         "name": "Earthquakes Per Year",
         "type": "scatter",
         "x": [
          1927,
          1928,
          1929,
          1931,
          1932,
          1933,
          1934,
          1935,
          1936,
          1937,
          1938,
          1939,
          1940,
          1941,
          1942,
          1943,
          1944,
          1945,
          1946,
          1947,
          1948,
          1949,
          1950,
          1951,
          1952,
          1953,
          1954,
          1955,
          1956,
          1957,
          1958,
          1959,
          1960,
          1961,
          1962,
          1963,
          1964,
          1965,
          1966,
          1967,
          1968,
          1969,
          1970,
          1971,
          1972,
          1975,
          1976,
          1977,
          1978,
          1979,
          1980,
          1981,
          1982,
          1983,
          1984,
          1985,
          1986,
          1987,
          1988,
          1989,
          1990,
          1991,
          1992,
          1993,
          1994,
          1995,
          1996,
          1997,
          1998,
          1999,
          2000,
          2001,
          2002,
          2003,
          2004,
          2005,
          2006,
          2007,
          2008,
          2009,
          2010,
          2011,
          2012,
          2014,
          2015,
          2016,
          2017,
          2018,
          2020,
          2021,
          2022,
          2023,
          2024,
          2025,
          2026,
          2027,
          2028,
          2029,
          2030,
          2031,
          2033,
          2034,
          2035,
          2036,
          2037,
          2038,
          2039,
          2040,
          2041,
          2042,
          2043,
          2044,
          2045,
          2046,
          2047,
          2048,
          2049,
          2050,
          2051,
          2052,
          2053,
          2054,
          2055,
          2056,
          2057,
          2058,
          2059,
          2060,
          2061,
          2062,
          2063,
          2064,
          2065,
          2066,
          2067,
          2068,
          2069,
          2070,
          2071,
          2072,
          2073,
          2074,
          2076,
          2079,
          2080,
          2081,
          2082,
          2083,
          2084,
          2085,
          2086,
          2087,
          2088,
          2090,
          2091,
          2092,
          2093,
          2094,
          2095,
          2096,
          2097,
          2098,
          2100,
          2101,
          2102,
          2104,
          2105,
          2107,
          2108,
          2109,
          2110,
          2112,
          2113,
          2114,
          2116,
          2117,
          2118,
          2120,
          2121,
          2122,
          2123,
          2124,
          2125,
          2126,
          2127,
          2128,
          2129,
          2130,
          2131,
          2132,
          2133,
          2134,
          2135,
          2137,
          2138,
          2139,
          2140,
          2141,
          2142,
          2143,
          2144,
          2145,
          2146,
          2147,
          2148,
          2149,
          2150,
          2151,
          2152,
          2153,
          2154,
          2155,
          2156,
          2157,
          2158,
          2159,
          2160,
          2161,
          2163,
          2164,
          2166,
          2167,
          2168,
          2169,
          2170,
          2171,
          2173,
          2174,
          2175,
          2176,
          2178,
          2179,
          2181,
          2182,
          2183,
          2184,
          2185,
          2186,
          2187,
          2188,
          2189,
          2190,
          2191,
          2192,
          2193,
          2195,
          2196,
          2197,
          2199,
          2201,
          2202,
          2203,
          2204,
          2205,
          2206,
          2208,
          2209,
          2210,
          2211,
          2212,
          2213,
          2215,
          2216,
          2218,
          2219,
          2220,
          2222,
          2223,
          2224,
          2225,
          2226,
          2227,
          2228,
          2229,
          2230,
          2231,
          2232,
          2233,
          2234,
          2235,
          2236,
          2238,
          2239,
          2240,
          2241,
          2242,
          2243,
          2244,
          2245,
          2248,
          2249,
          2250,
          2251,
          2252,
          2253,
          2254,
          2255,
          2256,
          2257,
          2258,
          2259,
          2260,
          2261,
          2262,
          2263,
          2264,
          2265,
          2266,
          2268,
          2269,
          2270,
          2271,
          2272,
          2273,
          2274,
          2275,
          2276,
          2277,
          2278,
          2279,
          2280,
          2281,
          2282,
          2285,
          2286,
          2288,
          2289,
          2290,
          2291,
          2292,
          2293,
          2294,
          2296,
          2298,
          2301,
          2302,
          2303,
          2304,
          2305,
          2306,
          2309,
          2310,
          2311,
          2312,
          2313,
          2314,
          2315,
          2316,
          2317,
          2319,
          2320,
          2321,
          2322,
          2323,
          2324,
          2325,
          2326,
          2327,
          2328,
          2329,
          2330,
          2334,
          2335,
          2337,
          2338,
          2339,
          2341,
          2342,
          2344,
          2345,
          2346,
          2347,
          2348,
          2349,
          2351,
          2352,
          2353,
          2354,
          2355,
          2357,
          2358,
          2359,
          2360,
          2361,
          2362,
          2363,
          2364,
          2366,
          2367,
          2368,
          2369,
          2370,
          2371,
          2372,
          2374,
          2375,
          2377,
          2378,
          2379,
          2380,
          2381,
          2382,
          2383,
          2384,
          2385,
          2386,
          2387,
          2389,
          2392,
          2393,
          2395,
          2398,
          2399,
          2400,
          2401,
          2403,
          2404,
          2405,
          2406,
          2407,
          2408,
          2409,
          2410,
          2411,
          2412,
          2413,
          2415,
          2416,
          2421,
          2423,
          2426,
          2427,
          2428,
          2430,
          2431,
          2434,
          2435,
          2436,
          2438,
          2439,
          2440,
          2443,
          2444,
          2445,
          2447,
          2448,
          2449,
          2450,
          2452,
          2454,
          2456,
          2458,
          2460,
          2461,
          2462,
          2463,
          2464,
          2467,
          2468,
          2472,
          2475,
          2476,
          2477,
          2478,
          2482,
          2483,
          2484,
          2485,
          2486,
          2487,
          2490,
          2495,
          2496,
          2499,
          2501,
          2502,
          2504,
          2507,
          2509,
          2511,
          2512,
          2515,
          2516,
          2517,
          2518,
          2519,
          2522,
          2524,
          2525,
          2526,
          2527,
          2528,
          2529,
          2531,
          2532,
          2533,
          2534,
          2536,
          2537,
          2538,
          2539,
          2541,
          2542,
          2546,
          2548,
          2549,
          2550,
          2551,
          2552,
          2553,
          2555,
          2556,
          2559,
          2560,
          2562,
          2564,
          2566,
          2567,
          2568,
          2569,
          2570,
          2571,
          2572,
          2573,
          2576,
          2577,
          2579,
          2583,
          2584,
          2585,
          2589,
          2590,
          2591,
          2592,
          2593,
          2594,
          2595,
          2597,
          2598,
          2600,
          2601,
          2602,
          2603,
          2604,
          2605,
          2607,
          2608,
          2609,
          2610,
          2611,
          2612,
          2613,
          2614,
          2615,
          2616,
          2617,
          2618,
          2619,
          2620,
          2622,
          2623,
          2624,
          2626,
          2627,
          2630,
          2631,
          2633,
          2634,
          2635,
          2636,
          2637,
          2638,
          2639,
          2640,
          2642,
          2646,
          2647,
          2648,
          2649,
          2650,
          2651,
          2653,
          2654,
          2656,
          2659,
          2660,
          2664,
          2666,
          2667,
          2668,
          2669,
          2670,
          2671,
          2672,
          2673,
          2674,
          2675,
          2677,
          2678,
          2679,
          2680,
          2682,
          2683,
          2684,
          2685,
          2686,
          2687,
          2689,
          2690,
          2691,
          2692,
          2693,
          2695,
          2697,
          2699,
          2700,
          2702,
          2705,
          2706,
          2707,
          2710,
          2711,
          2712,
          2714,
          2715,
          2716,
          2721,
          2722,
          2724,
          2725,
          2726,
          2727,
          2728,
          2729,
          2730,
          2731,
          2734,
          2735,
          2737,
          2739,
          2740,
          2741,
          2742,
          2744,
          2745,
          2746,
          2747,
          2748,
          2749,
          2750,
          2751,
          2752,
          2754,
          2759,
          2761,
          2762,
          2767,
          2768,
          2769,
          2772,
          2773,
          2775,
          2776,
          2778,
          2779,
          2780,
          2781,
          2782,
          2783,
          2784,
          2785,
          2786,
          2787,
          2789,
          2790,
          2791,
          2792,
          2795,
          2797,
          2799,
          2800,
          2801,
          2803,
          2804,
          2805,
          2806,
          2807,
          2808,
          2809,
          2811,
          2812,
          2814,
          2815,
          2816,
          2819,
          2820,
          2821,
          2822,
          2823,
          2824,
          2828,
          2829,
          2830,
          2831,
          2832,
          2833,
          2834,
          2835,
          2837,
          2838,
          2839,
          2840,
          2841,
          2842,
          2843,
          2844,
          2845,
          2846,
          2847,
          2848,
          2849,
          2850,
          2851,
          2853,
          2854,
          2855,
          2856,
          2857,
          2858,
          2859,
          2861,
          2862,
          2864,
          2865,
          2866,
          2867,
          2868,
          2869,
          2870,
          2871,
          2872,
          2874,
          2875,
          2876,
          2877,
          2878,
          2879,
          2880,
          2881,
          2882,
          2883,
          2884,
          2886,
          2888,
          2890,
          2891,
          2892,
          2893,
          2894,
          2895,
          2897,
          2898,
          2899,
          2900,
          2901,
          2903,
          2904,
          2905,
          2906,
          2907,
          2908,
          2909,
          2911,
          2912,
          2914,
          2915,
          2916,
          2917,
          2918,
          2919,
          2920,
          2921,
          2922,
          2923,
          2924,
          2925,
          2926,
          2927,
          2929,
          2930,
          2931,
          2932,
          2933,
          2934,
          2935,
          2936,
          2937,
          2939,
          2940,
          2941,
          2942,
          2943,
          2944,
          2945,
          2946,
          2947,
          2949,
          2950,
          2951,
          2952,
          2953,
          2954,
          2955,
          2956,
          2957,
          2958,
          2959,
          2960,
          2961,
          2962,
          2963,
          2964,
          2965,
          2966,
          2967,
          2968,
          2969,
          2970,
          2971,
          2972,
          2973,
          2974,
          2975,
          2976,
          2978,
          2979,
          2980,
          2981,
          2982,
          2983,
          2984,
          2985,
          2988,
          2989,
          2996,
          2997,
          2999,
          3000,
          3001,
          3002,
          3003,
          3004,
          3005,
          3006,
          3007,
          3008,
          3009,
          3010,
          3011,
          3012,
          3013,
          3014,
          3015,
          3016,
          3017,
          3018,
          3019,
          3020,
          3021,
          3022,
          3023,
          3024,
          3025,
          3026,
          3027,
          3028,
          3029,
          3030,
          3031,
          3032,
          3033,
          3034,
          3035,
          3036,
          3037,
          3038,
          3039,
          3040,
          3041,
          3042,
          3043,
          3044,
          3045,
          3046,
          3047,
          3048,
          3049,
          3050,
          3051,
          3052,
          3054,
          3055,
          3056,
          3057,
          3058,
          3059,
          3060,
          3061,
          3062,
          3063,
          3064,
          3066,
          3068,
          3069,
          3070,
          3071,
          3072,
          3073,
          3074,
          3075,
          3077,
          3078,
          3079,
          3080,
          3081,
          3082,
          3083,
          3084,
          3085,
          3086,
          3087,
          3088,
          3089,
          3090,
          3091,
          3092,
          3093,
          3094,
          3095,
          3096,
          3097,
          3098,
          3100,
          3102,
          3103,
          3105,
          3106,
          3107,
          3108,
          3109,
          3111,
          3113,
          3114,
          3115,
          3116,
          3118,
          3119,
          3120,
          3121,
          3122,
          3123,
          3124,
          3125,
          3126,
          3127,
          3128,
          3131,
          3132,
          3133,
          3134,
          3135,
          3136,
          3137,
          3138,
          3139,
          3140,
          3141,
          3142,
          3143,
          3144,
          3145,
          3147,
          3148,
          3152,
          3154,
          3155,
          3156,
          3157,
          3158,
          3159,
          3161,
          3162,
          3163,
          3164,
          3165,
          3166,
          3169,
          3170,
          3171,
          3173,
          3174,
          3176,
          3178,
          3179,
          3180,
          3181,
          3182,
          3183,
          3184,
          3185,
          3187,
          3188,
          3189,
          3191,
          3192,
          3193,
          3194,
          3195,
          3196,
          3197,
          3198,
          3200,
          3201,
          3202,
          3203,
          3204,
          3205,
          3206,
          3207,
          3208,
          3209,
          3210,
          3211,
          3212,
          3213,
          3214,
          3217,
          3219,
          3221,
          3223,
          3224,
          3225,
          3227,
          3228,
          3229,
          3230,
          3231,
          3232,
          3233,
          3234,
          3235,
          3238,
          3239,
          3240,
          3241,
          3242,
          3243,
          3244,
          3246,
          3247,
          3248,
          3249,
          3250,
          3251,
          3252,
          3254,
          3255,
          3256,
          3257,
          3258,
          3259,
          3260,
          3261,
          3262,
          3263,
          3264,
          3266,
          3267,
          3268,
          3271,
          3272,
          3273,
          3274,
          3275,
          3277,
          3278,
          3279,
          3280,
          3281,
          3283,
          3284,
          3285,
          3286,
          3287,
          3289
         ],
         "y": [
          7,
          5.6,
          5.7,
          6.7,
          7,
          5.8,
          6.2,
          6.9,
          6.1,
          6.1,
          5.4,
          7.6,
          6.4,
          6.1,
          6.5,
          7.8,
          6.6,
          6.5,
          6.4,
          6.1,
          6.8,
          8.2,
          6.8,
          5.9,
          5.9,
          7,
          8.3,
          6.8,
          7.3,
          7.1,
          5.5,
          7.8,
          5.3,
          6.9,
          6.5,
          7.1,
          6.4,
          5.9,
          6.9,
          5.4,
          7.4,
          7.2,
          6.8,
          6.6,
          6.9,
          6.5,
          6.8,
          5.6,
          8,
          7.7,
          7.4,
          6.4,
          7,
          6,
          6.8,
          8,
          7.1,
          6.8,
          6.2,
          6.7,
          7.2,
          7.9,
          7.9,
          6.6,
          8.2,
          7.5,
          7.1,
          6.3,
          5.9,
          7.2,
          6,
          7.9,
          7.3,
          5.7,
          6.9,
          6,
          6.8,
          6.6,
          6.7,
          7.7,
          6.7,
          5.8,
          7.2,
          5.9,
          6.5,
          7.1,
          6.1,
          5.6,
          6.1,
          5.9,
          6,
          6.2,
          7.7,
          6.7,
          6.5,
          7.2,
          6.4,
          5.8,
          5.9,
          7,
          6,
          5.7,
          6,
          5.9,
          6.2,
          7.7,
          7.1,
          7.5,
          6.6,
          6.1,
          7,
          7.8,
          5.7,
          6.6,
          6.3,
          5.9,
          6.4,
          6.6,
          5.6,
          8.1,
          5.2,
          5.8,
          5.7,
          7.5,
          6.6,
          5.6,
          6.6,
          6.2,
          6.3,
          6.2,
          6,
          5.7,
          7,
          7.2,
          6.4,
          6.6,
          5.5,
          5.3,
          5.4,
          5.4,
          5.6,
          7.7,
          6.2,
          6,
          6.6,
          5.1,
          6.6,
          6.8,
          6.2,
          5.4,
          7,
          6.3,
          6.7,
          7.6,
          5.2,
          6,
          5.8,
          7.7,
          6.5,
          7.5,
          7.2,
          5.9,
          5.3,
          5.7,
          7.2,
          5.3,
          7.5,
          5.7,
          7.3,
          6.5,
          5.6,
          5.1,
          5.9,
          5.3,
          7.6,
          5.5,
          7.6,
          5.4,
          7.9,
          6,
          6.3,
          6.7,
          6.4,
          6.5,
          7.9,
          6.5,
          6.1,
          5.4,
          5.4,
          6.1,
          6.4,
          6.5,
          6.8,
          5,
          6.5,
          6.7,
          5.1,
          6.5,
          8,
          7.8,
          7.8,
          6.8,
          7,
          6,
          7.5,
          7.7,
          7.7,
          6.6,
          5.6,
          6.8,
          6.8,
          5.7,
          5.5,
          5,
          8.4,
          5.5,
          6.6,
          7.6,
          6.5,
          5.8,
          6.1,
          7,
          7.5,
          5.6,
          7.8,
          6.8,
          7.2,
          5.3,
          6.7,
          5.6,
          5.9,
          6.5,
          5.4,
          5.5,
          7.4,
          7.5,
          6.1,
          6.4,
          7.1,
          6.4,
          5.9,
          6.6,
          5.2,
          5.7,
          5.4,
          7.1,
          5.5,
          6,
          6.5,
          6.5,
          5.3,
          6.5,
          6.2,
          7.7,
          7.7,
          5.2,
          5.5,
          6,
          7.6,
          6.5,
          6.4,
          5.3,
          5.6,
          7.6,
          6.7,
          6.2,
          5.7,
          5.4,
          7.3,
          7.9,
          6.3,
          5.9,
          5.7,
          5.5,
          5.2,
          5.7,
          5.5,
          5.2,
          7.3,
          7.5,
          5.5,
          6.1,
          5.3,
          5.8,
          6.3,
          5.2,
          5,
          6.3,
          5.4,
          6.5,
          5.5,
          5.7,
          6.4,
          4.6,
          6.4,
          5.8,
          6.8,
          7,
          7,
          5.7,
          4,
          5.2,
          6.8,
          5.2,
          5.8,
          7.6,
          5.9,
          5.5,
          5.4,
          5.7,
          7.6,
          6,
          5.4,
          6.3,
          5.4,
          5.5,
          7.2,
          5.3,
          5.7,
          6.6,
          6.4,
          8.3,
          7.3,
          6.7,
          5.2,
          5.6,
          5.8,
          7,
          5.1,
          5.6,
          7.8,
          6.5,
          6,
          6.8,
          6.6,
          6.5,
          6.6,
          6.1,
          5.8,
          6.1,
          5.2,
          6.7,
          6.1,
          7,
          7.3,
          5.3,
          5.4,
          5.1,
          6,
          6.4,
          5.2,
          5.4,
          5.6,
          5.6,
          6.5,
          5.4,
          5.5,
          6.7,
          5.2,
          6.6,
          5.4,
          6.3,
          4.9,
          5.9,
          5.1,
          5.2,
          5.4,
          5.2,
          5.6,
          5.4,
          5.7,
          7.2,
          7.4,
          6.1,
          4.8,
          6,
          5.6,
          5.6,
          6.6,
          6.6,
          5.9,
          5.8,
          6.6,
          5.2,
          5.5,
          7.5,
          7.2,
          6.4,
          6.3,
          5,
          7.1,
          5.1,
          7.1,
          7,
          5.8,
          4.8,
          6.8,
          5.4,
          5.8,
          5.4,
          8.1,
          9.1,
          5.4,
          6.6,
          5.3,
          6.3,
          6.1,
          5.9,
          5.8,
          6.1,
          6.4,
          5.6,
          6,
          5.8,
          4.9,
          6.6,
          8.6,
          6.7,
          7.7,
          7.2,
          6.7,
          5.9,
          5.2,
          5.3,
          5.9,
          7.2,
          5.6,
          5.3,
          5.8,
          7.2,
          7.7,
          5.6,
          7.5,
          7.6,
          5.9,
          5.4,
          7,
          5.2,
          6,
          6.8,
          6.5,
          6.7,
          7.6,
          5.3,
          7,
          5.8,
          6,
          5.5,
          6.7,
          5.9,
          6.1,
          6.2,
          5.5,
          5.5,
          5.7,
          7.6,
          7.9,
          5.5,
          6.3,
          6.3,
          7.7,
          4.9,
          5.6,
          5.6,
          5.8,
          6.9,
          6.1,
          5.5,
          6.7,
          6.7,
          8.3,
          6.2,
          6.3,
          5.8,
          5.8,
          7,
          6,
          8.1,
          7.5,
          5.7,
          6.4,
          7.1,
          6.7,
          5.8,
          8.1,
          6,
          6.2,
          4.5,
          6.3,
          6.1,
          6.1,
          6.7,
          5.5,
          6.6,
          5.6,
          4.2,
          5.2,
          6.9,
          7.2,
          6.2,
          6.7,
          7.5,
          8,
          7.2,
          6.8,
          8.4,
          7.9,
          7.5,
          7.4,
          6.8,
          5.6,
          5.1,
          7.7,
          6.8,
          6.5,
          7.4,
          7.8,
          5.9,
          6.6,
          5.7,
          5.6,
          5.6,
          5.6,
          5.9,
          6.1,
          5.9,
          5.1,
          7.4,
          6,
          6.5,
          7.2,
          5.3,
          7.3,
          6.1,
          5.3,
          5,
          6.4,
          6.8,
          7.9,
          5.6,
          6,
          5.6,
          5.7,
          6.3,
          5.5,
          6.3,
          6.9,
          5.5,
          5,
          7.7,
          6.2,
          6.9,
          6.8,
          5.6,
          5.4,
          5.7,
          6,
          5.2,
          6,
          6,
          5.5,
          6.7,
          6.2,
          5.9,
          6.1,
          6.8,
          6.6,
          6.3,
          5.7,
          6.4,
          6.4,
          6.3,
          7.3,
          6.1,
          5.4,
          4.8,
          5.8,
          7.6,
          7.3,
          6.1,
          7.4,
          7.2,
          5.4,
          7.6,
          6.3,
          5.5,
          5.7,
          5.3,
          7.3,
          5.7,
          6.3,
          5.4,
          6.4,
          6,
          5.7,
          7.8,
          5.8,
          7.5,
          6.4,
          6.7,
          6.2,
          7,
          6,
          6.3,
          5.7,
          5.7,
          6.1,
          8.1,
          7.5,
          6.6,
          7.6,
          7.8,
          6.1,
          4.9,
          6.6,
          5.4,
          5.9,
          6.4,
          6,
          5.9,
          6.6,
          7.1,
          6.8,
          6.5,
          7,
          5.5,
          7,
          8.8,
          6.3,
          6.1,
          6.9,
          6.7,
          7.2,
          7.8,
          6.9,
          5.6,
          6.2,
          7.2,
          5.8,
          7.5,
          5.8,
          7,
          5.9,
          5.2,
          6.2,
          5.8,
          7.6,
          5.4,
          7.2,
          7.1,
          6.9,
          5.7,
          7,
          5.8,
          7.8,
          5.5,
          6.5,
          7.4,
          7.3,
          6.5,
          7.2,
          6.3,
          6.8,
          6.1,
          5.5,
          7.5,
          5.5,
          9.1,
          7.9,
          7.6,
          6.8,
          5.4,
          7.1,
          6.6,
          6.1,
          6.8,
          5.1,
          6,
          7.3,
          7.6,
          7,
          6.1,
          5.7,
          7.1,
          7,
          5.4,
          5.8,
          6.8,
          6.7,
          6.9,
          5.6,
          7.4,
          7.1,
          6.9,
          5.6,
          5.7,
          5,
          5,
          5.7,
          5.8,
          6.4,
          5.8,
          6.7,
          5.3,
          6.4,
          7,
          6.7,
          5.9,
          5.6,
          6.7,
          6.9,
          5.8,
          7.4,
          7.2,
          8.6,
          8.2,
          6.3,
          6.7,
          5.4,
          5.7,
          5.4,
          5.7,
          6.3,
          6.1,
          5.1,
          5.6,
          5.9,
          5.8,
          6.1,
          5.8,
          5.5,
          6.3,
          6.5,
          6.4,
          6.5,
          7.7,
          6.3,
          7.3,
          7.6,
          7.6,
          5.6,
          7.7,
          7.3,
          6.8,
          5.1,
          5.7,
          7.2,
          7.5,
          6.1,
          7.9,
          7,
          7,
          4.9,
          5.4,
          6,
          6.3,
          5.4,
          5.8,
          7.7,
          5.8,
          7.2,
          6.6,
          5.5,
          5.7,
          6.1,
          8.3,
          5.7,
          6.3,
          5.3,
          5.1,
          6.1,
          5.7,
          6.5,
          6,
          5.5,
          5.7,
          6.5,
          6.2,
          5.2,
          5.8,
          6.4,
          7.7,
          7.1,
          6.8,
          6.6,
          7.1,
          5.5,
          7.1,
          7.7,
          5.3,
          5.7,
          5.3,
          5.6,
          6.4,
          6.1,
          6.1,
          6.1,
          6,
          4.1,
          6.9,
          4.5,
          6.3,
          6.7,
          5.1,
          8.2,
          7.7,
          6.1,
          7.1,
          7.6,
          7.4,
          5.2,
          7.2,
          7.5,
          6.1,
          6.4,
          4.5,
          3.6,
          5,
          6.9,
          5.9,
          6.9,
          7.9,
          6.9,
          6.5,
          3.9,
          6.1,
          6.3,
          5.5,
          6.2,
          5.5,
          5.1,
          5,
          6.2,
          6.1,
          5.1,
          6.1,
          7,
          7.3,
          7.1,
          5.9,
          6.2,
          5.6,
          6.7,
          6.4,
          4.4,
          6.2,
          7.5,
          6.4,
          7.8,
          5.7,
          7.5,
          7.3,
          7.8,
          6,
          5.3,
          6.4,
          6.1,
          6.7,
          7,
          5.1,
          6.9,
          7,
          5.9,
          5.8,
          4.5,
          8.3,
          6.6,
          5.8,
          7.5,
          6.5,
          5.3,
          6.9,
          6.7,
          6.5,
          5.6,
          6.8,
          5.1,
          7.6,
          7.6,
          7.2,
          6.6,
          6.3,
          6.7,
          5.6,
          7.1,
          6.3,
          6.4,
          7.8,
          6.6,
          6.9,
          7,
          7.8,
          7,
          5.2,
          6.9,
          5.4,
          6.6,
          6.3,
          5,
          7.7,
          5.6,
          7.2,
          5.5,
          7.4,
          6,
          6.2,
          6.8,
          7,
          5.9,
          5.1,
          5.4,
          5.5,
          6.2,
          6.1,
          6.6,
          5,
          7.8,
          6.9,
          6.9,
          6.6,
          4.2,
          5.3,
          6.2,
          6.5,
          6,
          7.8,
          6.9,
          7.9,
          5.4,
          7.6,
          5.7,
          6.9,
          5,
          5.5,
          5.7,
          7.9,
          5.3,
          5.5,
          6.3,
          6.5,
          5.9,
          5.7,
          5.6,
          6.1,
          5.9,
          6.9,
          6.9,
          6.2,
          6,
          5.4,
          5.6,
          4.9,
          6.6,
          6.3,
          6.9,
          6.8,
          5.6,
          6.5,
          7.7,
          6.4,
          6.6,
          5.4,
          6.5,
          6.3,
          5.6,
          5.8,
          8.2,
          7.1,
          6.1,
          5.7,
          6.7,
          6.1,
          6.6,
          7.3,
          6.5,
          5.5,
          6.4,
          5.8,
          6.3,
          6.6,
          7,
          6,
          6.5,
          5,
          7.5,
          5.5,
          7.1,
          6,
          7.9,
          6.1,
          6.4,
          7.2,
          7.5,
          6.1,
          6,
          6.7,
          6.3,
          5.6,
          4.7,
          5.2,
          5.3,
          6.9,
          5.6,
          6.2,
          5.8,
          5.1,
          5.3,
          4.9,
          5.5,
          5.2,
          6.4,
          6.9,
          5.9,
          8.2,
          6.3,
          6.9,
          7.3,
          6,
          7.1,
          6.6,
          7.8,
          5.6,
          5.3,
          7.5,
          5.9,
          6,
          6.5,
          6.8,
          5.6,
          6.3,
          4.9,
          7,
          7.5,
          5.6,
          5.4,
          5.5,
          5.6,
          6.7,
          5.6,
          6.6,
          5.1,
          7.5,
          5.4,
          7,
          5.5,
          5.5,
          6.8,
          6.1,
          6.1,
          7.2,
          7.6,
          8,
          6.6,
          5.2,
          6.4,
          7.2,
          5.8,
          6.4,
          6.4,
          7.1,
          5.7,
          5.6,
          5.8,
          7.3,
          5.3,
          6,
          6.9,
          5.9,
          5.8,
          5.1,
          5.6,
          5.6,
          6.5,
          5.7,
          6.1,
          6.8,
          6.4,
          6.6,
          6.5,
          7.1,
          5.9,
          5,
          6.4,
          6.8,
          6.4,
          6,
          6.7,
          7.7,
          6,
          5.7,
          5.4,
          7.5,
          5.3,
          6.6,
          5.2
         ]
        }
       ],
       "layout": {
        "showlegend": true,
        "template": {
         "data": {
          "bar": [
           {
            "error_x": {
             "color": "#2a3f5f"
            },
            "error_y": {
             "color": "#2a3f5f"
            },
            "marker": {
             "line": {
              "color": "#E5ECF6",
              "width": 0.5
             }
            },
            "type": "bar"
           }
          ],
          "barpolar": [
           {
            "marker": {
             "line": {
              "color": "#E5ECF6",
              "width": 0.5
             }
            },
            "type": "barpolar"
           }
          ],
          "carpet": [
           {
            "aaxis": {
             "endlinecolor": "#2a3f5f",
             "gridcolor": "white",
             "linecolor": "white",
             "minorgridcolor": "white",
             "startlinecolor": "#2a3f5f"
            },
            "baxis": {
             "endlinecolor": "#2a3f5f",
             "gridcolor": "white",
             "linecolor": "white",
             "minorgridcolor": "white",
             "startlinecolor": "#2a3f5f"
            },
            "type": "carpet"
           }
          ],
          "choropleth": [
           {
            "colorbar": {
             "outlinewidth": 0,
             "ticks": ""
            },
            "type": "choropleth"
           }
          ],
          "contour": [
           {
            "colorbar": {
             "outlinewidth": 0,
             "ticks": ""
            },
            "colorscale": [
             [
              0,
              "#0d0887"
             ],
             [
              0.1111111111111111,
              "#46039f"
             ],
             [
              0.2222222222222222,
              "#7201a8"
             ],
             [
              0.3333333333333333,
              "#9c179e"
             ],
             [
              0.4444444444444444,
              "#bd3786"
             ],
             [
              0.5555555555555556,
              "#d8576b"
             ],
             [
              0.6666666666666666,
              "#ed7953"
             ],
             [
              0.7777777777777778,
              "#fb9f3a"
             ],
             [
              0.8888888888888888,
              "#fdca26"
             ],
             [
              1,
              "#f0f921"
             ]
            ],
            "type": "contour"
           }
          ],
          "contourcarpet": [
           {
            "colorbar": {
             "outlinewidth": 0,
             "ticks": ""
            },
            "type": "contourcarpet"
           }
          ],
          "heatmap": [
           {
            "colorbar": {
             "outlinewidth": 0,
             "ticks": ""
            },
            "colorscale": [
             [
              0,
              "#0d0887"
             ],
             [
              0.1111111111111111,
              "#46039f"
             ],
             [
              0.2222222222222222,
              "#7201a8"
             ],
             [
              0.3333333333333333,
              "#9c179e"
             ],
             [
              0.4444444444444444,
              "#bd3786"
             ],
             [
              0.5555555555555556,
              "#d8576b"
             ],
             [
              0.6666666666666666,
              "#ed7953"
             ],
             [
              0.7777777777777778,
              "#fb9f3a"
             ],
             [
              0.8888888888888888,
              "#fdca26"
             ],
             [
              1,
              "#f0f921"
             ]
            ],
            "type": "heatmap"
           }
          ],
          "heatmapgl": [
           {
            "colorbar": {
             "outlinewidth": 0,
             "ticks": ""
            },
            "colorscale": [
             [
              0,
              "#0d0887"
             ],
             [
              0.1111111111111111,
              "#46039f"
             ],
             [
              0.2222222222222222,
              "#7201a8"
             ],
             [
              0.3333333333333333,
              "#9c179e"
             ],
             [
              0.4444444444444444,
              "#bd3786"
             ],
             [
              0.5555555555555556,
              "#d8576b"
             ],
             [
              0.6666666666666666,
              "#ed7953"
             ],
             [
              0.7777777777777778,
              "#fb9f3a"
             ],
             [
              0.8888888888888888,
              "#fdca26"
             ],
             [
              1,
              "#f0f921"
             ]
            ],
            "type": "heatmapgl"
           }
          ],
          "histogram": [
           {
            "marker": {
             "colorbar": {
              "outlinewidth": 0,
              "ticks": ""
             }
            },
            "type": "histogram"
           }
          ],
          "histogram2d": [
           {
            "colorbar": {
             "outlinewidth": 0,
             "ticks": ""
            },
            "colorscale": [
             [
              0,
              "#0d0887"
             ],
             [
              0.1111111111111111,
              "#46039f"
             ],
             [
              0.2222222222222222,
              "#7201a8"
             ],
             [
              0.3333333333333333,
              "#9c179e"
             ],
             [
              0.4444444444444444,
              "#bd3786"
             ],
             [
              0.5555555555555556,
              "#d8576b"
             ],
             [
              0.6666666666666666,
              "#ed7953"
             ],
             [
              0.7777777777777778,
              "#fb9f3a"
             ],
             [
              0.8888888888888888,
              "#fdca26"
             ],
             [
              1,
              "#f0f921"
             ]
            ],
            "type": "histogram2d"
           }
          ],
          "histogram2dcontour": [
           {
            "colorbar": {
             "outlinewidth": 0,
             "ticks": ""
            },
            "colorscale": [
             [
              0,
              "#0d0887"
             ],
             [
              0.1111111111111111,
              "#46039f"
             ],
             [
              0.2222222222222222,
              "#7201a8"
             ],
             [
              0.3333333333333333,
              "#9c179e"
             ],
             [
              0.4444444444444444,
              "#bd3786"
             ],
             [
              0.5555555555555556,
              "#d8576b"
             ],
             [
              0.6666666666666666,
              "#ed7953"
             ],
             [
              0.7777777777777778,
              "#fb9f3a"
             ],
             [
              0.8888888888888888,
              "#fdca26"
             ],
             [
              1,
              "#f0f921"
             ]
            ],
            "type": "histogram2dcontour"
           }
          ],
          "mesh3d": [
           {
            "colorbar": {
             "outlinewidth": 0,
             "ticks": ""
            },
            "type": "mesh3d"
           }
          ],
          "parcoords": [
           {
            "line": {
             "colorbar": {
              "outlinewidth": 0,
              "ticks": ""
             }
            },
            "type": "parcoords"
           }
          ],
          "pie": [
           {
            "automargin": true,
            "type": "pie"
           }
          ],
          "scatter": [
           {
            "marker": {
             "colorbar": {
              "outlinewidth": 0,
              "ticks": ""
             }
            },
            "type": "scatter"
           }
          ],
          "scatter3d": [
           {
            "line": {
             "colorbar": {
              "outlinewidth": 0,
              "ticks": ""
             }
            },
            "marker": {
             "colorbar": {
              "outlinewidth": 0,
              "ticks": ""
             }
            },
            "type": "scatter3d"
           }
          ],
          "scattercarpet": [
           {
            "marker": {
             "colorbar": {
              "outlinewidth": 0,
              "ticks": ""
             }
            },
            "type": "scattercarpet"
           }
          ],
          "scattergeo": [
           {
            "marker": {
             "colorbar": {
              "outlinewidth": 0,
              "ticks": ""
             }
            },
            "type": "scattergeo"
           }
          ],
          "scattergl": [
           {
            "marker": {
             "colorbar": {
              "outlinewidth": 0,
              "ticks": ""
             }
            },
            "type": "scattergl"
           }
          ],
          "scattermapbox": [
           {
            "marker": {
             "colorbar": {
              "outlinewidth": 0,
              "ticks": ""
             }
            },
            "type": "scattermapbox"
           }
          ],
          "scatterpolar": [
           {
            "marker": {
             "colorbar": {
              "outlinewidth": 0,
              "ticks": ""
             }
            },
            "type": "scatterpolar"
           }
          ],
          "scatterpolargl": [
           {
            "marker": {
             "colorbar": {
              "outlinewidth": 0,
              "ticks": ""
             }
            },
            "type": "scatterpolargl"
           }
          ],
          "scatterternary": [
           {
            "marker": {
             "colorbar": {
              "outlinewidth": 0,
              "ticks": ""
             }
            },
            "type": "scatterternary"
           }
          ],
          "surface": [
           {
            "colorbar": {
             "outlinewidth": 0,
             "ticks": ""
            },
            "colorscale": [
             [
              0,
              "#0d0887"
             ],
             [
              0.1111111111111111,
              "#46039f"
             ],
             [
              0.2222222222222222,
              "#7201a8"
             ],
             [
              0.3333333333333333,
              "#9c179e"
             ],
             [
              0.4444444444444444,
              "#bd3786"
             ],
             [
              0.5555555555555556,
              "#d8576b"
             ],
             [
              0.6666666666666666,
              "#ed7953"
             ],
             [
              0.7777777777777778,
              "#fb9f3a"
             ],
             [
              0.8888888888888888,
              "#fdca26"
             ],
             [
              1,
              "#f0f921"
             ]
            ],
            "type": "surface"
           }
          ],
          "table": [
           {
            "cells": {
             "fill": {
              "color": "#EBF0F8"
             },
             "line": {
              "color": "white"
             }
            },
            "header": {
             "fill": {
              "color": "#C8D4E3"
             },
             "line": {
              "color": "white"
             }
            },
            "type": "table"
           }
          ]
         },
         "layout": {
          "annotationdefaults": {
           "arrowcolor": "#2a3f5f",
           "arrowhead": 0,
           "arrowwidth": 1
          },
          "coloraxis": {
           "colorbar": {
            "outlinewidth": 0,
            "ticks": ""
           }
          },
          "colorscale": {
           "diverging": [
            [
             0,
             "#8e0152"
            ],
            [
             0.1,
             "#c51b7d"
            ],
            [
             0.2,
             "#de77ae"
            ],
            [
             0.3,
             "#f1b6da"
            ],
            [
             0.4,
             "#fde0ef"
            ],
            [
             0.5,
             "#f7f7f7"
            ],
            [
             0.6,
             "#e6f5d0"
            ],
            [
             0.7,
             "#b8e186"
            ],
            [
             0.8,
             "#7fbc41"
            ],
            [
             0.9,
             "#4d9221"
            ],
            [
             1,
             "#276419"
            ]
           ],
           "sequential": [
            [
             0,
             "#0d0887"
            ],
            [
             0.1111111111111111,
             "#46039f"
            ],
            [
             0.2222222222222222,
             "#7201a8"
            ],
            [
             0.3333333333333333,
             "#9c179e"
            ],
            [
             0.4444444444444444,
             "#bd3786"
            ],
            [
             0.5555555555555556,
             "#d8576b"
            ],
            [
             0.6666666666666666,
             "#ed7953"
            ],
            [
             0.7777777777777778,
             "#fb9f3a"
            ],
            [
             0.8888888888888888,
             "#fdca26"
            ],
            [
             1,
             "#f0f921"
            ]
           ],
           "sequentialminus": [
            [
             0,
             "#0d0887"
            ],
            [
             0.1111111111111111,
             "#46039f"
            ],
            [
             0.2222222222222222,
             "#7201a8"
            ],
            [
             0.3333333333333333,
             "#9c179e"
            ],
            [
             0.4444444444444444,
             "#bd3786"
            ],
            [
             0.5555555555555556,
             "#d8576b"
            ],
            [
             0.6666666666666666,
             "#ed7953"
            ],
            [
             0.7777777777777778,
             "#fb9f3a"
            ],
            [
             0.8888888888888888,
             "#fdca26"
            ],
            [
             1,
             "#f0f921"
            ]
           ]
          },
          "colorway": [
           "#636efa",
           "#EF553B",
           "#00cc96",
           "#ab63fa",
           "#FFA15A",
           "#19d3f3",
           "#FF6692",
           "#B6E880",
           "#FF97FF",
           "#FECB52"
          ],
          "font": {
           "color": "#2a3f5f"
          },
          "geo": {
           "bgcolor": "white",
           "lakecolor": "white",
           "landcolor": "#E5ECF6",
           "showlakes": true,
           "showland": true,
           "subunitcolor": "white"
          },
          "hoverlabel": {
           "align": "left"
          },
          "hovermode": "closest",
          "mapbox": {
           "style": "light"
          },
          "paper_bgcolor": "white",
          "plot_bgcolor": "#E5ECF6",
          "polar": {
           "angularaxis": {
            "gridcolor": "white",
            "linecolor": "white",
            "ticks": ""
           },
           "bgcolor": "#E5ECF6",
           "radialaxis": {
            "gridcolor": "white",
            "linecolor": "white",
            "ticks": ""
           }
          },
          "scene": {
           "xaxis": {
            "backgroundcolor": "#E5ECF6",
            "gridcolor": "white",
            "gridwidth": 2,
            "linecolor": "white",
            "showbackground": true,
            "ticks": "",
            "zerolinecolor": "white"
           },
           "yaxis": {
            "backgroundcolor": "#E5ECF6",
            "gridcolor": "white",
            "gridwidth": 2,
            "linecolor": "white",
            "showbackground": true,
            "ticks": "",
            "zerolinecolor": "white"
           },
           "zaxis": {
            "backgroundcolor": "#E5ECF6",
            "gridcolor": "white",
            "gridwidth": 2,
            "linecolor": "white",
            "showbackground": true,
            "ticks": "",
            "zerolinecolor": "white"
           }
          },
          "shapedefaults": {
           "line": {
            "color": "#2a3f5f"
           }
          },
          "ternary": {
           "aaxis": {
            "gridcolor": "white",
            "linecolor": "white",
            "ticks": ""
           },
           "baxis": {
            "gridcolor": "white",
            "linecolor": "white",
            "ticks": ""
           },
           "bgcolor": "#E5ECF6",
           "caxis": {
            "gridcolor": "white",
            "linecolor": "white",
            "ticks": ""
           }
          },
          "title": {
           "x": 0.05
          },
          "xaxis": {
           "automargin": true,
           "gridcolor": "white",
           "linecolor": "white",
           "ticks": "",
           "title": {
            "standoff": 15
           },
           "zerolinecolor": "white",
           "zerolinewidth": 2
          },
          "yaxis": {
           "automargin": true,
           "gridcolor": "white",
           "linecolor": "white",
           "ticks": "",
           "title": {
            "standoff": 15
           },
           "zerolinecolor": "white",
           "zerolinewidth": 2
          }
         }
        },
        "title": {
         "text": "哈咯你好嗎"
        },
        "xaxis": {
         "rangeslider": {
          "visible": true
         }
        }
       }
      },
      "text/html": [
       "<div>\n",
       "        \n",
       "        \n",
       "            <div id=\"93f90fee-dbbe-4418-943b-88068dd12199\" class=\"plotly-graph-div\" style=\"height:525px; width:100%;\"></div>\n",
       "            <script type=\"text/javascript\">\n",
       "                require([\"plotly\"], function(Plotly) {\n",
       "                    window.PLOTLYENV=window.PLOTLYENV || {};\n",
       "                    \n",
       "                if (document.getElementById(\"93f90fee-dbbe-4418-943b-88068dd12199\")) {\n",
       "                    Plotly.newPlot(\n",
       "                        '93f90fee-dbbe-4418-943b-88068dd12199',\n",
       "                        [{\"fill\": \"tozeroy\", \"name\": \"Earthquakes Per Year\", \"type\": \"scatter\", \"x\": [1927, 1928, 1929, 1931, 1932, 1933, 1934, 1935, 1936, 1937, 1938, 1939, 1940, 1941, 1942, 1943, 1944, 1945, 1946, 1947, 1948, 1949, 1950, 1951, 1952, 1953, 1954, 1955, 1956, 1957, 1958, 1959, 1960, 1961, 1962, 1963, 1964, 1965, 1966, 1967, 1968, 1969, 1970, 1971, 1972, 1975, 1976, 1977, 1978, 1979, 1980, 1981, 1982, 1983, 1984, 1985, 1986, 1987, 1988, 1989, 1990, 1991, 1992, 1993, 1994, 1995, 1996, 1997, 1998, 1999, 2000, 2001, 2002, 2003, 2004, 2005, 2006, 2007, 2008, 2009, 2010, 2011, 2012, 2014, 2015, 2016, 2017, 2018, 2020, 2021, 2022, 2023, 2024, 2025, 2026, 2027, 2028, 2029, 2030, 2031, 2033, 2034, 2035, 2036, 2037, 2038, 2039, 2040, 2041, 2042, 2043, 2044, 2045, 2046, 2047, 2048, 2049, 2050, 2051, 2052, 2053, 2054, 2055, 2056, 2057, 2058, 2059, 2060, 2061, 2062, 2063, 2064, 2065, 2066, 2067, 2068, 2069, 2070, 2071, 2072, 2073, 2074, 2076, 2079, 2080, 2081, 2082, 2083, 2084, 2085, 2086, 2087, 2088, 2090, 2091, 2092, 2093, 2094, 2095, 2096, 2097, 2098, 2100, 2101, 2102, 2104, 2105, 2107, 2108, 2109, 2110, 2112, 2113, 2114, 2116, 2117, 2118, 2120, 2121, 2122, 2123, 2124, 2125, 2126, 2127, 2128, 2129, 2130, 2131, 2132, 2133, 2134, 2135, 2137, 2138, 2139, 2140, 2141, 2142, 2143, 2144, 2145, 2146, 2147, 2148, 2149, 2150, 2151, 2152, 2153, 2154, 2155, 2156, 2157, 2158, 2159, 2160, 2161, 2163, 2164, 2166, 2167, 2168, 2169, 2170, 2171, 2173, 2174, 2175, 2176, 2178, 2179, 2181, 2182, 2183, 2184, 2185, 2186, 2187, 2188, 2189, 2190, 2191, 2192, 2193, 2195, 2196, 2197, 2199, 2201, 2202, 2203, 2204, 2205, 2206, 2208, 2209, 2210, 2211, 2212, 2213, 2215, 2216, 2218, 2219, 2220, 2222, 2223, 2224, 2225, 2226, 2227, 2228, 2229, 2230, 2231, 2232, 2233, 2234, 2235, 2236, 2238, 2239, 2240, 2241, 2242, 2243, 2244, 2245, 2248, 2249, 2250, 2251, 2252, 2253, 2254, 2255, 2256, 2257, 2258, 2259, 2260, 2261, 2262, 2263, 2264, 2265, 2266, 2268, 2269, 2270, 2271, 2272, 2273, 2274, 2275, 2276, 2277, 2278, 2279, 2280, 2281, 2282, 2285, 2286, 2288, 2289, 2290, 2291, 2292, 2293, 2294, 2296, 2298, 2301, 2302, 2303, 2304, 2305, 2306, 2309, 2310, 2311, 2312, 2313, 2314, 2315, 2316, 2317, 2319, 2320, 2321, 2322, 2323, 2324, 2325, 2326, 2327, 2328, 2329, 2330, 2334, 2335, 2337, 2338, 2339, 2341, 2342, 2344, 2345, 2346, 2347, 2348, 2349, 2351, 2352, 2353, 2354, 2355, 2357, 2358, 2359, 2360, 2361, 2362, 2363, 2364, 2366, 2367, 2368, 2369, 2370, 2371, 2372, 2374, 2375, 2377, 2378, 2379, 2380, 2381, 2382, 2383, 2384, 2385, 2386, 2387, 2389, 2392, 2393, 2395, 2398, 2399, 2400, 2401, 2403, 2404, 2405, 2406, 2407, 2408, 2409, 2410, 2411, 2412, 2413, 2415, 2416, 2421, 2423, 2426, 2427, 2428, 2430, 2431, 2434, 2435, 2436, 2438, 2439, 2440, 2443, 2444, 2445, 2447, 2448, 2449, 2450, 2452, 2454, 2456, 2458, 2460, 2461, 2462, 2463, 2464, 2467, 2468, 2472, 2475, 2476, 2477, 2478, 2482, 2483, 2484, 2485, 2486, 2487, 2490, 2495, 2496, 2499, 2501, 2502, 2504, 2507, 2509, 2511, 2512, 2515, 2516, 2517, 2518, 2519, 2522, 2524, 2525, 2526, 2527, 2528, 2529, 2531, 2532, 2533, 2534, 2536, 2537, 2538, 2539, 2541, 2542, 2546, 2548, 2549, 2550, 2551, 2552, 2553, 2555, 2556, 2559, 2560, 2562, 2564, 2566, 2567, 2568, 2569, 2570, 2571, 2572, 2573, 2576, 2577, 2579, 2583, 2584, 2585, 2589, 2590, 2591, 2592, 2593, 2594, 2595, 2597, 2598, 2600, 2601, 2602, 2603, 2604, 2605, 2607, 2608, 2609, 2610, 2611, 2612, 2613, 2614, 2615, 2616, 2617, 2618, 2619, 2620, 2622, 2623, 2624, 2626, 2627, 2630, 2631, 2633, 2634, 2635, 2636, 2637, 2638, 2639, 2640, 2642, 2646, 2647, 2648, 2649, 2650, 2651, 2653, 2654, 2656, 2659, 2660, 2664, 2666, 2667, 2668, 2669, 2670, 2671, 2672, 2673, 2674, 2675, 2677, 2678, 2679, 2680, 2682, 2683, 2684, 2685, 2686, 2687, 2689, 2690, 2691, 2692, 2693, 2695, 2697, 2699, 2700, 2702, 2705, 2706, 2707, 2710, 2711, 2712, 2714, 2715, 2716, 2721, 2722, 2724, 2725, 2726, 2727, 2728, 2729, 2730, 2731, 2734, 2735, 2737, 2739, 2740, 2741, 2742, 2744, 2745, 2746, 2747, 2748, 2749, 2750, 2751, 2752, 2754, 2759, 2761, 2762, 2767, 2768, 2769, 2772, 2773, 2775, 2776, 2778, 2779, 2780, 2781, 2782, 2783, 2784, 2785, 2786, 2787, 2789, 2790, 2791, 2792, 2795, 2797, 2799, 2800, 2801, 2803, 2804, 2805, 2806, 2807, 2808, 2809, 2811, 2812, 2814, 2815, 2816, 2819, 2820, 2821, 2822, 2823, 2824, 2828, 2829, 2830, 2831, 2832, 2833, 2834, 2835, 2837, 2838, 2839, 2840, 2841, 2842, 2843, 2844, 2845, 2846, 2847, 2848, 2849, 2850, 2851, 2853, 2854, 2855, 2856, 2857, 2858, 2859, 2861, 2862, 2864, 2865, 2866, 2867, 2868, 2869, 2870, 2871, 2872, 2874, 2875, 2876, 2877, 2878, 2879, 2880, 2881, 2882, 2883, 2884, 2886, 2888, 2890, 2891, 2892, 2893, 2894, 2895, 2897, 2898, 2899, 2900, 2901, 2903, 2904, 2905, 2906, 2907, 2908, 2909, 2911, 2912, 2914, 2915, 2916, 2917, 2918, 2919, 2920, 2921, 2922, 2923, 2924, 2925, 2926, 2927, 2929, 2930, 2931, 2932, 2933, 2934, 2935, 2936, 2937, 2939, 2940, 2941, 2942, 2943, 2944, 2945, 2946, 2947, 2949, 2950, 2951, 2952, 2953, 2954, 2955, 2956, 2957, 2958, 2959, 2960, 2961, 2962, 2963, 2964, 2965, 2966, 2967, 2968, 2969, 2970, 2971, 2972, 2973, 2974, 2975, 2976, 2978, 2979, 2980, 2981, 2982, 2983, 2984, 2985, 2988, 2989, 2996, 2997, 2999, 3000, 3001, 3002, 3003, 3004, 3005, 3006, 3007, 3008, 3009, 3010, 3011, 3012, 3013, 3014, 3015, 3016, 3017, 3018, 3019, 3020, 3021, 3022, 3023, 3024, 3025, 3026, 3027, 3028, 3029, 3030, 3031, 3032, 3033, 3034, 3035, 3036, 3037, 3038, 3039, 3040, 3041, 3042, 3043, 3044, 3045, 3046, 3047, 3048, 3049, 3050, 3051, 3052, 3054, 3055, 3056, 3057, 3058, 3059, 3060, 3061, 3062, 3063, 3064, 3066, 3068, 3069, 3070, 3071, 3072, 3073, 3074, 3075, 3077, 3078, 3079, 3080, 3081, 3082, 3083, 3084, 3085, 3086, 3087, 3088, 3089, 3090, 3091, 3092, 3093, 3094, 3095, 3096, 3097, 3098, 3100, 3102, 3103, 3105, 3106, 3107, 3108, 3109, 3111, 3113, 3114, 3115, 3116, 3118, 3119, 3120, 3121, 3122, 3123, 3124, 3125, 3126, 3127, 3128, 3131, 3132, 3133, 3134, 3135, 3136, 3137, 3138, 3139, 3140, 3141, 3142, 3143, 3144, 3145, 3147, 3148, 3152, 3154, 3155, 3156, 3157, 3158, 3159, 3161, 3162, 3163, 3164, 3165, 3166, 3169, 3170, 3171, 3173, 3174, 3176, 3178, 3179, 3180, 3181, 3182, 3183, 3184, 3185, 3187, 3188, 3189, 3191, 3192, 3193, 3194, 3195, 3196, 3197, 3198, 3200, 3201, 3202, 3203, 3204, 3205, 3206, 3207, 3208, 3209, 3210, 3211, 3212, 3213, 3214, 3217, 3219, 3221, 3223, 3224, 3225, 3227, 3228, 3229, 3230, 3231, 3232, 3233, 3234, 3235, 3238, 3239, 3240, 3241, 3242, 3243, 3244, 3246, 3247, 3248, 3249, 3250, 3251, 3252, 3254, 3255, 3256, 3257, 3258, 3259, 3260, 3261, 3262, 3263, 3264, 3266, 3267, 3268, 3271, 3272, 3273, 3274, 3275, 3277, 3278, 3279, 3280, 3281, 3283, 3284, 3285, 3286, 3287, 3289], \"y\": [7.0, 5.6, 5.7, 6.7, 7.0, 5.8, 6.2, 6.9, 6.1, 6.1, 5.4, 7.6, 6.4, 6.1, 6.5, 7.8, 6.6, 6.5, 6.4, 6.1, 6.8, 8.2, 6.8, 5.9, 5.9, 7.0, 8.3, 6.8, 7.3, 7.1, 5.5, 7.8, 5.3, 6.9, 6.5, 7.1, 6.4, 5.9, 6.9, 5.4, 7.4, 7.2, 6.8, 6.6, 6.9, 6.5, 6.8, 5.6, 8.0, 7.7, 7.4, 6.4, 7.0, 6.0, 6.8, 8.0, 7.1, 6.8, 6.2, 6.7, 7.2, 7.9, 7.9, 6.6, 8.2, 7.5, 7.1, 6.3, 5.9, 7.2, 6.0, 7.9, 7.3, 5.7, 6.9, 6.0, 6.8, 6.6, 6.7, 7.7, 6.7, 5.8, 7.2, 5.9, 6.5, 7.1, 6.1, 5.6, 6.1, 5.9, 6.0, 6.2, 7.7, 6.7, 6.5, 7.2, 6.4, 5.8, 5.9, 7.0, 6.0, 5.7, 6.0, 5.9, 6.2, 7.7, 7.1, 7.5, 6.6, 6.1, 7.0, 7.8, 5.7, 6.6, 6.3, 5.9, 6.4, 6.6, 5.6, 8.1, 5.2, 5.8, 5.7, 7.5, 6.6, 5.6, 6.6, 6.2, 6.3, 6.2, 6.0, 5.7, 7.0, 7.2, 6.4, 6.6, 5.5, 5.3, 5.4, 5.4, 5.6, 7.7, 6.2, 6.0, 6.6, 5.1, 6.6, 6.8, 6.2, 5.4, 7.0, 6.3, 6.7, 7.6, 5.2, 6.0, 5.8, 7.7, 6.5, 7.5, 7.2, 5.9, 5.3, 5.7, 7.2, 5.3, 7.5, 5.7, 7.3, 6.5, 5.6, 5.1, 5.9, 5.3, 7.6, 5.5, 7.6, 5.4, 7.9, 6.0, 6.3, 6.7, 6.4, 6.5, 7.9, 6.5, 6.1, 5.4, 5.4, 6.1, 6.4, 6.5, 6.8, 5.0, 6.5, 6.7, 5.1, 6.5, 8.0, 7.8, 7.8, 6.8, 7.0, 6.0, 7.5, 7.7, 7.7, 6.6, 5.6, 6.8, 6.8, 5.7, 5.5, 5.0, 8.4, 5.5, 6.6, 7.6, 6.5, 5.8, 6.1, 7.0, 7.5, 5.6, 7.8, 6.8, 7.2, 5.3, 6.7, 5.6, 5.9, 6.5, 5.4, 5.5, 7.4, 7.5, 6.1, 6.4, 7.1, 6.4, 5.9, 6.6, 5.2, 5.7, 5.4, 7.1, 5.5, 6.0, 6.5, 6.5, 5.3, 6.5, 6.2, 7.7, 7.7, 5.2, 5.5, 6.0, 7.6, 6.5, 6.4, 5.3, 5.6, 7.6, 6.7, 6.2, 5.7, 5.4, 7.3, 7.9, 6.3, 5.9, 5.7, 5.5, 5.2, 5.7, 5.5, 5.2, 7.3, 7.5, 5.5, 6.1, 5.3, 5.8, 6.3, 5.2, 5.0, 6.3, 5.4, 6.5, 5.5, 5.7, 6.4, 4.6, 6.4, 5.8, 6.8, 7.0, 7.0, 5.7, 4.0, 5.2, 6.8, 5.2, 5.8, 7.6, 5.9, 5.5, 5.4, 5.7, 7.6, 6.0, 5.4, 6.3, 5.4, 5.5, 7.2, 5.3, 5.7, 6.6, 6.4, 8.3, 7.3, 6.7, 5.2, 5.6, 5.8, 7.0, 5.1, 5.6, 7.8, 6.5, 6.0, 6.8, 6.6, 6.5, 6.6, 6.1, 5.8, 6.1, 5.2, 6.7, 6.1, 7.0, 7.3, 5.3, 5.4, 5.1, 6.0, 6.4, 5.2, 5.4, 5.6, 5.6, 6.5, 5.4, 5.5, 6.7, 5.2, 6.6, 5.4, 6.3, 4.9, 5.9, 5.1, 5.2, 5.4, 5.2, 5.6, 5.4, 5.7, 7.2, 7.4, 6.1, 4.8, 6.0, 5.6, 5.6, 6.6, 6.6, 5.9, 5.8, 6.6, 5.2, 5.5, 7.5, 7.2, 6.4, 6.3, 5.0, 7.1, 5.1, 7.1, 7.0, 5.8, 4.8, 6.8, 5.4, 5.8, 5.4, 8.1, 9.1, 5.4, 6.6, 5.3, 6.3, 6.1, 5.9, 5.8, 6.1, 6.4, 5.6, 6.0, 5.8, 4.9, 6.6, 8.6, 6.7, 7.7, 7.2, 6.7, 5.9, 5.2, 5.3, 5.9, 7.2, 5.6, 5.3, 5.8, 7.2, 7.7, 5.6, 7.5, 7.6, 5.9, 5.4, 7.0, 5.2, 6.0, 6.8, 6.5, 6.7, 7.6, 5.3, 7.0, 5.8, 6.0, 5.5, 6.7, 5.9, 6.1, 6.2, 5.5, 5.5, 5.7, 7.6, 7.9, 5.5, 6.3, 6.3, 7.7, 4.9, 5.6, 5.6, 5.8, 6.9, 6.1, 5.5, 6.7, 6.7, 8.3, 6.2, 6.3, 5.8, 5.8, 7.0, 6.0, 8.1, 7.5, 5.7, 6.4, 7.1, 6.7, 5.8, 8.1, 6.0, 6.2, 4.5, 6.3, 6.1, 6.1, 6.7, 5.5, 6.6, 5.6, 4.2, 5.2, 6.9, 7.2, 6.2, 6.7, 7.5, 8.0, 7.2, 6.8, 8.4, 7.9, 7.5, 7.4, 6.8, 5.6, 5.1, 7.7, 6.8, 6.5, 7.4, 7.8, 5.9, 6.6, 5.7, 5.6, 5.6, 5.6, 5.9, 6.1, 5.9, 5.1, 7.4, 6.0, 6.5, 7.2, 5.3, 7.3, 6.1, 5.3, 5.0, 6.4, 6.8, 7.9, 5.6, 6.0, 5.6, 5.7, 6.3, 5.5, 6.3, 6.9, 5.5, 5.0, 7.7, 6.2, 6.9, 6.8, 5.6, 5.4, 5.7, 6.0, 5.2, 6.0, 6.0, 5.5, 6.7, 6.2, 5.9, 6.1, 6.8, 6.6, 6.3, 5.7, 6.4, 6.4, 6.3, 7.3, 6.1, 5.4, 4.8, 5.8, 7.6, 7.3, 6.1, 7.4, 7.2, 5.4, 7.6, 6.3, 5.5, 5.7, 5.3, 7.3, 5.7, 6.3, 5.4, 6.4, 6.0, 5.7, 7.8, 5.8, 7.5, 6.4, 6.7, 6.2, 7.0, 6.0, 6.3, 5.7, 5.7, 6.1, 8.1, 7.5, 6.6, 7.6, 7.8, 6.1, 4.9, 6.6, 5.4, 5.9, 6.4, 6.0, 5.9, 6.6, 7.1, 6.8, 6.5, 7.0, 5.5, 7.0, 8.8, 6.3, 6.1, 6.9, 6.7, 7.2, 7.8, 6.9, 5.6, 6.2, 7.2, 5.8, 7.5, 5.8, 7.0, 5.9, 5.2, 6.2, 5.8, 7.6, 5.4, 7.2, 7.1, 6.9, 5.7, 7.0, 5.8, 7.8, 5.5, 6.5, 7.4, 7.3, 6.5, 7.2, 6.3, 6.8, 6.1, 5.5, 7.5, 5.5, 9.1, 7.9, 7.6, 6.8, 5.4, 7.1, 6.6, 6.1, 6.8, 5.1, 6.0, 7.3, 7.6, 7.0, 6.1, 5.7, 7.1, 7.0, 5.4, 5.8, 6.8, 6.7, 6.9, 5.6, 7.4, 7.1, 6.9, 5.6, 5.7, 5.0, 5.0, 5.7, 5.8, 6.4, 5.8, 6.7, 5.3, 6.4, 7.0, 6.7, 5.9, 5.6, 6.7, 6.9, 5.8, 7.4, 7.2, 8.6, 8.2, 6.3, 6.7, 5.4, 5.7, 5.4, 5.7, 6.3, 6.1, 5.1, 5.6, 5.9, 5.8, 6.1, 5.8, 5.5, 6.3, 6.5, 6.4, 6.5, 7.7, 6.3, 7.3, 7.6, 7.6, 5.6, 7.7, 7.3, 6.8, 5.1, 5.7, 7.2, 7.5, 6.1, 7.9, 7.0, 7.0, 4.9, 5.4, 6.0, 6.3, 5.4, 5.8, 7.7, 5.8, 7.2, 6.6, 5.5, 5.7, 6.1, 8.3, 5.7, 6.3, 5.3, 5.1, 6.1, 5.7, 6.5, 6.0, 5.5, 5.7, 6.5, 6.2, 5.2, 5.8, 6.4, 7.7, 7.1, 6.8, 6.6, 7.1, 5.5, 7.1, 7.7, 5.3, 5.7, 5.3, 5.6, 6.4, 6.1, 6.1, 6.1, 6.0, 4.1, 6.9, 4.5, 6.3, 6.7, 5.1, 8.2, 7.7, 6.1, 7.1, 7.6, 7.4, 5.2, 7.2, 7.5, 6.1, 6.4, 4.5, 3.6, 5.0, 6.9, 5.9, 6.9, 7.9, 6.9, 6.5, 3.9, 6.1, 6.3, 5.5, 6.2, 5.5, 5.1, 5.0, 6.2, 6.1, 5.1, 6.1, 7.0, 7.3, 7.1, 5.9, 6.2, 5.6, 6.7, 6.4, 4.4, 6.2, 7.5, 6.4, 7.8, 5.7, 7.5, 7.3, 7.8, 6.0, 5.3, 6.4, 6.1, 6.7, 7.0, 5.1, 6.9, 7.0, 5.9, 5.8, 4.5, 8.3, 6.6, 5.8, 7.5, 6.5, 5.3, 6.9, 6.7, 6.5, 5.6, 6.8, 5.1, 7.6, 7.6, 7.2, 6.6, 6.3, 6.7, 5.6, 7.1, 6.3, 6.4, 7.8, 6.6, 6.9, 7.0, 7.8, 7.0, 5.2, 6.9, 5.4, 6.6, 6.3, 5.0, 7.7, 5.6, 7.2, 5.5, 7.4, 6.0, 6.2, 6.8, 7.0, 5.9, 5.1, 5.4, 5.5, 6.2, 6.1, 6.6, 5.0, 7.8, 6.9, 6.9, 6.6, 4.2, 5.3, 6.2, 6.5, 6.0, 7.8, 6.9, 7.9, 5.4, 7.6, 5.7, 6.9, 5.0, 5.5, 5.7, 7.9, 5.3, 5.5, 6.3, 6.5, 5.9, 5.7, 5.6, 6.1, 5.9, 6.9, 6.9, 6.2, 6.0, 5.4, 5.6, 4.9, 6.6, 6.3, 6.9, 6.8, 5.6, 6.5, 7.7, 6.4, 6.6, 5.4, 6.5, 6.3, 5.6, 5.8, 8.2, 7.1, 6.1, 5.7, 6.7, 6.1, 6.6, 7.3, 6.5, 5.5, 6.4, 5.8, 6.3, 6.6, 7.0, 6.0, 6.5, 5.0, 7.5, 5.5, 7.1, 6.0, 7.9, 6.1, 6.4, 7.2, 7.5, 6.1, 6.0, 6.7, 6.3, 5.6, 4.7, 5.2, 5.3, 6.9, 5.6, 6.2, 5.8, 5.1, 5.3, 4.9, 5.5, 5.2, 6.4, 6.9, 5.9, 8.2, 6.3, 6.9, 7.3, 6.0, 7.1, 6.6, 7.8, 5.6, 5.3, 7.5, 5.9, 6.0, 6.5, 6.8, 5.6, 6.3, 4.9, 7.0, 7.5, 5.6, 5.4, 5.5, 5.6, 6.7, 5.6, 6.6, 5.1, 7.5, 5.4, 7.0, 5.5, 5.5, 6.8, 6.1, 6.1, 7.2, 7.6, 8.0, 6.6, 5.2, 6.4, 7.2, 5.8, 6.4, 6.4, 7.1, 5.7, 5.6, 5.8, 7.3, 5.3, 6.0, 6.9, 5.9, 5.8, 5.1, 5.6, 5.6, 6.5, 5.7, 6.1, 6.8, 6.4, 6.6, 6.5, 7.1, 5.9, 5.0, 6.4, 6.8, 6.4, 6.0, 6.7, 7.7, 6.0, 5.7, 5.4, 7.5, 5.3, 6.6, 5.2]}],\n",
       "                        {\"showlegend\": true, \"template\": {\"data\": {\"bar\": [{\"error_x\": {\"color\": \"#2a3f5f\"}, \"error_y\": {\"color\": \"#2a3f5f\"}, \"marker\": {\"line\": {\"color\": \"#E5ECF6\", \"width\": 0.5}}, \"type\": \"bar\"}], \"barpolar\": [{\"marker\": {\"line\": {\"color\": \"#E5ECF6\", \"width\": 0.5}}, \"type\": \"barpolar\"}], \"carpet\": [{\"aaxis\": {\"endlinecolor\": \"#2a3f5f\", \"gridcolor\": \"white\", \"linecolor\": \"white\", \"minorgridcolor\": \"white\", \"startlinecolor\": \"#2a3f5f\"}, \"baxis\": {\"endlinecolor\": \"#2a3f5f\", \"gridcolor\": \"white\", \"linecolor\": \"white\", \"minorgridcolor\": \"white\", \"startlinecolor\": \"#2a3f5f\"}, \"type\": \"carpet\"}], \"choropleth\": [{\"colorbar\": {\"outlinewidth\": 0, \"ticks\": \"\"}, \"type\": \"choropleth\"}], \"contour\": [{\"colorbar\": {\"outlinewidth\": 0, \"ticks\": \"\"}, \"colorscale\": [[0.0, \"#0d0887\"], [0.1111111111111111, \"#46039f\"], [0.2222222222222222, \"#7201a8\"], [0.3333333333333333, \"#9c179e\"], [0.4444444444444444, \"#bd3786\"], [0.5555555555555556, \"#d8576b\"], [0.6666666666666666, \"#ed7953\"], [0.7777777777777778, \"#fb9f3a\"], [0.8888888888888888, \"#fdca26\"], [1.0, \"#f0f921\"]], \"type\": \"contour\"}], \"contourcarpet\": [{\"colorbar\": {\"outlinewidth\": 0, \"ticks\": \"\"}, \"type\": \"contourcarpet\"}], \"heatmap\": [{\"colorbar\": {\"outlinewidth\": 0, \"ticks\": \"\"}, \"colorscale\": [[0.0, \"#0d0887\"], [0.1111111111111111, \"#46039f\"], [0.2222222222222222, \"#7201a8\"], [0.3333333333333333, \"#9c179e\"], [0.4444444444444444, \"#bd3786\"], [0.5555555555555556, \"#d8576b\"], [0.6666666666666666, \"#ed7953\"], [0.7777777777777778, \"#fb9f3a\"], [0.8888888888888888, \"#fdca26\"], [1.0, \"#f0f921\"]], \"type\": \"heatmap\"}], \"heatmapgl\": [{\"colorbar\": {\"outlinewidth\": 0, \"ticks\": \"\"}, \"colorscale\": [[0.0, \"#0d0887\"], [0.1111111111111111, \"#46039f\"], [0.2222222222222222, \"#7201a8\"], [0.3333333333333333, \"#9c179e\"], [0.4444444444444444, \"#bd3786\"], [0.5555555555555556, \"#d8576b\"], [0.6666666666666666, \"#ed7953\"], [0.7777777777777778, \"#fb9f3a\"], [0.8888888888888888, \"#fdca26\"], [1.0, \"#f0f921\"]], \"type\": \"heatmapgl\"}], \"histogram\": [{\"marker\": {\"colorbar\": {\"outlinewidth\": 0, \"ticks\": \"\"}}, \"type\": \"histogram\"}], \"histogram2d\": [{\"colorbar\": {\"outlinewidth\": 0, \"ticks\": \"\"}, \"colorscale\": [[0.0, \"#0d0887\"], [0.1111111111111111, \"#46039f\"], [0.2222222222222222, \"#7201a8\"], [0.3333333333333333, \"#9c179e\"], [0.4444444444444444, \"#bd3786\"], [0.5555555555555556, \"#d8576b\"], [0.6666666666666666, \"#ed7953\"], [0.7777777777777778, \"#fb9f3a\"], [0.8888888888888888, \"#fdca26\"], [1.0, \"#f0f921\"]], \"type\": \"histogram2d\"}], \"histogram2dcontour\": [{\"colorbar\": {\"outlinewidth\": 0, \"ticks\": \"\"}, \"colorscale\": [[0.0, \"#0d0887\"], [0.1111111111111111, \"#46039f\"], [0.2222222222222222, \"#7201a8\"], [0.3333333333333333, \"#9c179e\"], [0.4444444444444444, \"#bd3786\"], [0.5555555555555556, \"#d8576b\"], [0.6666666666666666, \"#ed7953\"], [0.7777777777777778, \"#fb9f3a\"], [0.8888888888888888, \"#fdca26\"], [1.0, \"#f0f921\"]], \"type\": \"histogram2dcontour\"}], \"mesh3d\": [{\"colorbar\": {\"outlinewidth\": 0, \"ticks\": \"\"}, \"type\": \"mesh3d\"}], \"parcoords\": [{\"line\": {\"colorbar\": {\"outlinewidth\": 0, \"ticks\": \"\"}}, \"type\": \"parcoords\"}], \"pie\": [{\"automargin\": true, \"type\": \"pie\"}], \"scatter\": [{\"marker\": {\"colorbar\": {\"outlinewidth\": 0, \"ticks\": \"\"}}, \"type\": \"scatter\"}], \"scatter3d\": [{\"line\": {\"colorbar\": {\"outlinewidth\": 0, \"ticks\": \"\"}}, \"marker\": {\"colorbar\": {\"outlinewidth\": 0, \"ticks\": \"\"}}, \"type\": \"scatter3d\"}], \"scattercarpet\": [{\"marker\": {\"colorbar\": {\"outlinewidth\": 0, \"ticks\": \"\"}}, \"type\": \"scattercarpet\"}], \"scattergeo\": [{\"marker\": {\"colorbar\": {\"outlinewidth\": 0, \"ticks\": \"\"}}, \"type\": \"scattergeo\"}], \"scattergl\": [{\"marker\": {\"colorbar\": {\"outlinewidth\": 0, \"ticks\": \"\"}}, \"type\": \"scattergl\"}], \"scattermapbox\": [{\"marker\": {\"colorbar\": {\"outlinewidth\": 0, \"ticks\": \"\"}}, \"type\": \"scattermapbox\"}], \"scatterpolar\": [{\"marker\": {\"colorbar\": {\"outlinewidth\": 0, \"ticks\": \"\"}}, \"type\": \"scatterpolar\"}], \"scatterpolargl\": [{\"marker\": {\"colorbar\": {\"outlinewidth\": 0, \"ticks\": \"\"}}, \"type\": \"scatterpolargl\"}], \"scatterternary\": [{\"marker\": {\"colorbar\": {\"outlinewidth\": 0, \"ticks\": \"\"}}, \"type\": \"scatterternary\"}], \"surface\": [{\"colorbar\": {\"outlinewidth\": 0, \"ticks\": \"\"}, \"colorscale\": [[0.0, \"#0d0887\"], [0.1111111111111111, \"#46039f\"], [0.2222222222222222, \"#7201a8\"], [0.3333333333333333, \"#9c179e\"], [0.4444444444444444, \"#bd3786\"], [0.5555555555555556, \"#d8576b\"], [0.6666666666666666, \"#ed7953\"], [0.7777777777777778, \"#fb9f3a\"], [0.8888888888888888, \"#fdca26\"], [1.0, \"#f0f921\"]], \"type\": \"surface\"}], \"table\": [{\"cells\": {\"fill\": {\"color\": \"#EBF0F8\"}, \"line\": {\"color\": \"white\"}}, \"header\": {\"fill\": {\"color\": \"#C8D4E3\"}, \"line\": {\"color\": \"white\"}}, \"type\": \"table\"}]}, \"layout\": {\"annotationdefaults\": {\"arrowcolor\": \"#2a3f5f\", \"arrowhead\": 0, \"arrowwidth\": 1}, \"coloraxis\": {\"colorbar\": {\"outlinewidth\": 0, \"ticks\": \"\"}}, \"colorscale\": {\"diverging\": [[0, \"#8e0152\"], [0.1, \"#c51b7d\"], [0.2, \"#de77ae\"], [0.3, \"#f1b6da\"], [0.4, \"#fde0ef\"], [0.5, \"#f7f7f7\"], [0.6, \"#e6f5d0\"], [0.7, \"#b8e186\"], [0.8, \"#7fbc41\"], [0.9, \"#4d9221\"], [1, \"#276419\"]], \"sequential\": [[0.0, \"#0d0887\"], [0.1111111111111111, \"#46039f\"], [0.2222222222222222, \"#7201a8\"], [0.3333333333333333, \"#9c179e\"], [0.4444444444444444, \"#bd3786\"], [0.5555555555555556, \"#d8576b\"], [0.6666666666666666, \"#ed7953\"], [0.7777777777777778, \"#fb9f3a\"], [0.8888888888888888, \"#fdca26\"], [1.0, \"#f0f921\"]], \"sequentialminus\": [[0.0, \"#0d0887\"], [0.1111111111111111, \"#46039f\"], [0.2222222222222222, \"#7201a8\"], [0.3333333333333333, \"#9c179e\"], [0.4444444444444444, \"#bd3786\"], [0.5555555555555556, \"#d8576b\"], [0.6666666666666666, \"#ed7953\"], [0.7777777777777778, \"#fb9f3a\"], [0.8888888888888888, \"#fdca26\"], [1.0, \"#f0f921\"]]}, \"colorway\": [\"#636efa\", \"#EF553B\", \"#00cc96\", \"#ab63fa\", \"#FFA15A\", \"#19d3f3\", \"#FF6692\", \"#B6E880\", \"#FF97FF\", \"#FECB52\"], \"font\": {\"color\": \"#2a3f5f\"}, \"geo\": {\"bgcolor\": \"white\", \"lakecolor\": \"white\", \"landcolor\": \"#E5ECF6\", \"showlakes\": true, \"showland\": true, \"subunitcolor\": \"white\"}, \"hoverlabel\": {\"align\": \"left\"}, \"hovermode\": \"closest\", \"mapbox\": {\"style\": \"light\"}, \"paper_bgcolor\": \"white\", \"plot_bgcolor\": \"#E5ECF6\", \"polar\": {\"angularaxis\": {\"gridcolor\": \"white\", \"linecolor\": \"white\", \"ticks\": \"\"}, \"bgcolor\": \"#E5ECF6\", \"radialaxis\": {\"gridcolor\": \"white\", \"linecolor\": \"white\", \"ticks\": \"\"}}, \"scene\": {\"xaxis\": {\"backgroundcolor\": \"#E5ECF6\", \"gridcolor\": \"white\", \"gridwidth\": 2, \"linecolor\": \"white\", \"showbackground\": true, \"ticks\": \"\", \"zerolinecolor\": \"white\"}, \"yaxis\": {\"backgroundcolor\": \"#E5ECF6\", \"gridcolor\": \"white\", \"gridwidth\": 2, \"linecolor\": \"white\", \"showbackground\": true, \"ticks\": \"\", \"zerolinecolor\": \"white\"}, \"zaxis\": {\"backgroundcolor\": \"#E5ECF6\", \"gridcolor\": \"white\", \"gridwidth\": 2, \"linecolor\": \"white\", \"showbackground\": true, \"ticks\": \"\", \"zerolinecolor\": \"white\"}}, \"shapedefaults\": {\"line\": {\"color\": \"#2a3f5f\"}}, \"ternary\": {\"aaxis\": {\"gridcolor\": \"white\", \"linecolor\": \"white\", \"ticks\": \"\"}, \"baxis\": {\"gridcolor\": \"white\", \"linecolor\": \"white\", \"ticks\": \"\"}, \"bgcolor\": \"#E5ECF6\", \"caxis\": {\"gridcolor\": \"white\", \"linecolor\": \"white\", \"ticks\": \"\"}}, \"title\": {\"x\": 0.05}, \"xaxis\": {\"automargin\": true, \"gridcolor\": \"white\", \"linecolor\": \"white\", \"ticks\": \"\", \"title\": {\"standoff\": 15}, \"zerolinecolor\": \"white\", \"zerolinewidth\": 2}, \"yaxis\": {\"automargin\": true, \"gridcolor\": \"white\", \"linecolor\": \"white\", \"ticks\": \"\", \"title\": {\"standoff\": 15}, \"zerolinecolor\": \"white\", \"zerolinewidth\": 2}}}, \"title\": {\"text\": \"\\u54c8\\u54af\\u4f60\\u597d\\u55ce\"}, \"xaxis\": {\"rangeslider\": {\"visible\": true}}},\n",
       "                        {\"responsive\": true}\n",
       "                    ).then(function(){\n",
       "                            \n",
       "var gd = document.getElementById('93f90fee-dbbe-4418-943b-88068dd12199');\n",
       "var x = new MutationObserver(function (mutations, observer) {{\n",
       "        var display = window.getComputedStyle(gd).display;\n",
       "        if (!display || display === 'none') {{\n",
       "            console.log([gd, 'removed!']);\n",
       "            Plotly.purge(gd);\n",
       "            observer.disconnect();\n",
       "        }}\n",
       "}});\n",
       "\n",
       "// Listen for the removal of the full notebook cells\n",
       "var notebookContainer = gd.closest('#notebook-container');\n",
       "if (notebookContainer) {{\n",
       "    x.observe(notebookContainer, {childList: true});\n",
       "}}\n",
       "\n",
       "// Listen for the clearing of the current output cell\n",
       "var outputEl = gd.closest('.output');\n",
       "if (outputEl) {{\n",
       "    x.observe(outputEl, {childList: true});\n",
       "}}\n",
       "\n",
       "                        })\n",
       "                };\n",
       "                });\n",
       "            </script>\n",
       "        </div>"
      ]
     },
     "metadata": {},
     "output_type": "display_data"
    }
   ],
   "source": [
    "fig = go.Figure()\n",
    "\n",
    "fig.add_trace(go.Scatter(\n",
    "    x=row_num, \n",
    "    y=magnitude,\n",
    "    name='Earthquakes Per Year',\n",
    "    fill='tozeroy'\n",
    "))   \n",
    "\n",
    "# Set title\n",
    "fig.update_layout(\n",
    "    title_text=\"哈咯你好嗎\"\n",
    ")\n",
    "# Add range slider\n",
    "fig.update_layout(\n",
    "    xaxis=dict(\n",
    "        rangeslider=dict(\n",
    "            visible=True\n",
    "        )\n",
    "    ),\n",
    "    showlegend=True\n",
    ")\n",
    "fig.show()"
   ]
  },
  {
   "cell_type": "code",
   "execution_count": 80,
   "metadata": {},
   "outputs": [
    {
     "name": "stdout",
     "output_type": "stream",
     "text": [
      "{7.0: 37, 5.6: 56, 5.7: 49, 6.7: 39, 5.8: 45, 6.2: 29, 6.9: 34, 6.1: 56, 5.4: 45, 7.6: 25, 6.4: 45, 6.5: 45, 7.8: 19, 6.6: 48, 6.8: 39, 8.2: 6, 5.9: 41, 8.3: 5, 7.3: 20, 7.1: 27, 5.5: 46, 5.3: 31, 7.4: 13, 7.2: 32, 8.0: 5, 7.7: 24, 6.0: 46, 7.9: 15, 7.5: 29, 6.3: 43, 8.1: 5, 5.2: 28, 5.1: 22, 5.0: 15, 8.4: 2, 4.6: 1, 4.0: 1, 4.9: 8, 4.8: 3, 9.1: 2, 8.6: 2, 4.5: 4, 4.2: 2, 8.8: 1, 4.1: 1, 3.6: 1, 3.9: 1, 4.4: 1, 4.7: 1}\n"
     ]
    }
   ],
   "source": [
    "magnitude_count = {}\n",
    "for number in magnitude:\n",
    "    if number not in magnitude_count:\n",
    "        magnitude_count[number] = 1\n",
    "    else:\n",
    "        magnitude_count[number] += 1\n",
    "print(magnitude_count)"
   ]
  },
  {
   "cell_type": "code",
   "execution_count": 81,
   "metadata": {},
   "outputs": [
    {
     "data": {
      "text/plain": [
       "EQ_MAG_MW        2026\n",
       "EQ_MAG_MS        1338\n",
       "EQ_MAG_MB        1504\n",
       "EQ_MAG_ML        3127\n",
       "EQ_MAG_MFA       3289\n",
       "EQ_MAG_UNK       2844\n",
       "INTENSITY        2020\n",
       "COUNTRY             0\n",
       "STATE            3096\n",
       "LOCATION_NAME       0\n",
       "dtype: int64"
      ]
     },
     "metadata": {},
     "output_type": "display_data"
    },
    {
     "data": {
      "text/plain": [
       "0       10.0\n",
       "1        NaN\n",
       "2        NaN\n",
       "3        NaN\n",
       "4        NaN\n",
       "        ... \n",
       "3285     6.0\n",
       "3286     NaN\n",
       "3287     7.0\n",
       "3288     NaN\n",
       "3289     NaN\n",
       "Name: INTENSITY, Length: 3290, dtype: float64"
      ]
     },
     "metadata": {},
     "output_type": "display_data"
    }
   ],
   "source": [
    "display(data.iloc[0:3290,[i for i in range(10,20)]].isna().sum())\n",
    "display(data.iloc[0:3290,16])\n"
   ]
  },
  {
   "cell_type": "code",
   "execution_count": 82,
   "metadata": {},
   "outputs": [],
   "source": [
    "countries = df['COUNTRY'].tolist()"
   ]
  },
  {
   "cell_type": "code",
   "execution_count": 83,
   "metadata": {},
   "outputs": [
    {
     "name": "stdout",
     "output_type": "stream",
     "text": [
      "{'NEPAL': 6, 'INDIA': 53, 'RUSSIA': 28, 'CHINA': 163, 'USA': 61, 'INDONESIA': 140, 'UGANDA': 1, 'IRAN': 92, 'HAITI': 3, 'FIJI': 6, 'JAPAN': 80, 'AFGHANISTAN': 27, 'TAIWAN': 27, 'COLOMBIA': 14, 'BOLIVIA': 2, 'NEW ZEALAND': 28, 'ALGERIA': 16, 'PHILIPPINES': 42, 'CYPRUS': 1, 'SAMOA': 3, 'GREECE': 26, 'NEW CALEDONIA': 13, 'CHILE': 34, 'PAPUA NEW GUINEA': 21, 'MEXICO': 32, 'TURKEY': 51, 'ECUADOR': 16, 'EGYPT': 2, 'PERU': 34, 'SOLOMON ISLANDS': 19, 'CROATIA': 2, 'KYRGYZSTAN': 7, 'ALBANIA': 9, 'PAKISTAN': 25, 'TRINIDAD AND TOBAGO': 4, 'USA TERRITORY': 10, 'VENEZUELA': 9, 'SOUTH AFRICA': 6, 'ITALY': 21, 'TONGA': 3, 'GUATEMALA': 10, 'ANTARCTICA': 3, 'AUSTRIA': 1, 'AZORES (PORTUGAL)': 1, 'ARMENIA': 1, 'SERBIA': 4, 'SPAIN': 3, 'AZERBAIJAN': 6, 'BANGLADESH': 7, 'VANUATU': 20, 'ICELAND': 3, 'AUSTRALIA': 5, 'NICARAGUA': 8, 'TANZANIA': 5, 'PANAMA': 9, 'TURKMENISTAN': 1, 'EL SALVADOR': 9, 'CANADA': 5, 'TAJIKISTAN': 12, 'RWANDA': 4, 'GEORGIA': 2, 'ARGENTINA': 6, 'GERMANY': 4, 'UK': 3, 'FRANCE': 4, 'CONGO': 3, 'BHUTAN': 5, 'INDIAN OCEAN': 1, 'MYANMAR (BURMA)': 9, 'DOMINICAN REPUBLIC': 2, 'BULGARIA': 3, 'SLOVAKIA': 1, 'JORDAN': 1, 'BURUNDI': 1, 'MOROCCO': 2, 'SAUDI ARABIA': 3, 'SLOVENIA': 1, 'POLAND': 6, 'ROMANIA': 1, 'COSTA RICA': 6, 'GUADELOUPE': 2, 'VIETNAM': 1, 'ETHIOPIA': 2, 'MOZAMBIQUE': 3, 'MALAWI': 3, 'HUNGARY': 2, 'SWITZERLAND': 1, 'THAILAND': 2, 'LAOS': 1, 'MARTINIQUE': 1, 'BRAZIL': 4, 'KERMADEC ISLANDS (NEW ZEALAND)': 3, 'LEBANON': 1, 'ATLANTIC OCEAN': 1, 'CZECH REPUBLIC': 1, 'MACEDONIA': 2, 'HONDURAS': 3, 'KAZAKHSTAN': 1, 'UZBEKISTAN': 1, 'BOSNIA-HERZEGOVINA': 1, 'MALAYSIA': 1, 'SOUTH GEORGIA AND THE SOUTH SANDWICH ISLANDS': 1, 'SOUTH KOREA': 2, 'MADAGASCAR': 1, 'ZAMBIA': 1, 'MONTENEGRO': 1, 'NETHERLANDS': 2, 'COMOROS': 1, 'CUBA': 1}\n"
     ]
    }
   ],
   "source": [
    "country_count_earthquakes = {}\n",
    "for country in countries:\n",
    "    if country not in country_count_earthquakes:\n",
    "        country_count_earthquakes[country] = 1\n",
    "    else:\n",
    "        country_count_earthquakes[country] += 1\n",
    "print(country_count_earthquakes)"
   ]
  },
  {
   "cell_type": "code",
   "execution_count": null,
   "metadata": {},
   "outputs": [],
   "source": []
  },
  {
   "cell_type": "code",
   "execution_count": 84,
   "metadata": {},
   "outputs": [],
   "source": [
    "years = df['YEAR'].tolist()"
   ]
  },
  {
   "cell_type": "code",
   "execution_count": 85,
   "metadata": {},
   "outputs": [
    {
     "name": "stdout",
     "output_type": "stream",
     "text": [
      "{1993: 4, 1994: 32, 1995: 31, 1996: 19, 1997: 34, 1998: 31, 1999: 35, 2000: 37, 2001: 25, 2002: 60, 2003: 72, 2004: 78, 2005: 60, 2006: 61, 2007: 67, 2008: 77, 2009: 61, 2010: 62, 2011: 60, 2012: 49, 2013: 52, 2014: 55, 2015: 48, 2016: 52, 2017: 64, 2018: 65, 2019: 61, 2020: 13}\n"
     ]
    }
   ],
   "source": [
    "year_count = {}\n",
    "for year in years:\n",
    "    if year not in year_count:\n",
    "        year_count[year] = 1\n",
    "    else:\n",
    "        year_count[year] += 1\n",
    "print(year_count)\n"
   ]
  },
  {
   "cell_type": "code",
   "execution_count": 86,
   "metadata": {
    "scrolled": false
   },
   "outputs": [
    {
     "data": {
      "application/vnd.plotly.v1+json": {
       "config": {
        "plotlyServerURL": "https://plot.ly"
       },
       "data": [
        {
         "fill": "tozeroy",
         "name": "Earthquakes Per Year",
         "type": "scatter",
         "x": [
          1993,
          1994,
          1995,
          1996,
          1997,
          1998,
          1999,
          2000,
          2001,
          2002,
          2003,
          2004,
          2005,
          2006,
          2007,
          2008,
          2009,
          2010,
          2011,
          2012,
          2013,
          2014,
          2015,
          2016,
          2017,
          2018,
          2019,
          2020
         ],
         "y": [
          4,
          32,
          31,
          19,
          34,
          31,
          35,
          37,
          25,
          60,
          72,
          78,
          60,
          61,
          67,
          77,
          61,
          62,
          60,
          49,
          52,
          55,
          48,
          52,
          64,
          65,
          61,
          13
         ]
        }
       ],
       "layout": {
        "showlegend": true,
        "template": {
         "data": {
          "bar": [
           {
            "error_x": {
             "color": "#2a3f5f"
            },
            "error_y": {
             "color": "#2a3f5f"
            },
            "marker": {
             "line": {
              "color": "#E5ECF6",
              "width": 0.5
             }
            },
            "type": "bar"
           }
          ],
          "barpolar": [
           {
            "marker": {
             "line": {
              "color": "#E5ECF6",
              "width": 0.5
             }
            },
            "type": "barpolar"
           }
          ],
          "carpet": [
           {
            "aaxis": {
             "endlinecolor": "#2a3f5f",
             "gridcolor": "white",
             "linecolor": "white",
             "minorgridcolor": "white",
             "startlinecolor": "#2a3f5f"
            },
            "baxis": {
             "endlinecolor": "#2a3f5f",
             "gridcolor": "white",
             "linecolor": "white",
             "minorgridcolor": "white",
             "startlinecolor": "#2a3f5f"
            },
            "type": "carpet"
           }
          ],
          "choropleth": [
           {
            "colorbar": {
             "outlinewidth": 0,
             "ticks": ""
            },
            "type": "choropleth"
           }
          ],
          "contour": [
           {
            "colorbar": {
             "outlinewidth": 0,
             "ticks": ""
            },
            "colorscale": [
             [
              0,
              "#0d0887"
             ],
             [
              0.1111111111111111,
              "#46039f"
             ],
             [
              0.2222222222222222,
              "#7201a8"
             ],
             [
              0.3333333333333333,
              "#9c179e"
             ],
             [
              0.4444444444444444,
              "#bd3786"
             ],
             [
              0.5555555555555556,
              "#d8576b"
             ],
             [
              0.6666666666666666,
              "#ed7953"
             ],
             [
              0.7777777777777778,
              "#fb9f3a"
             ],
             [
              0.8888888888888888,
              "#fdca26"
             ],
             [
              1,
              "#f0f921"
             ]
            ],
            "type": "contour"
           }
          ],
          "contourcarpet": [
           {
            "colorbar": {
             "outlinewidth": 0,
             "ticks": ""
            },
            "type": "contourcarpet"
           }
          ],
          "heatmap": [
           {
            "colorbar": {
             "outlinewidth": 0,
             "ticks": ""
            },
            "colorscale": [
             [
              0,
              "#0d0887"
             ],
             [
              0.1111111111111111,
              "#46039f"
             ],
             [
              0.2222222222222222,
              "#7201a8"
             ],
             [
              0.3333333333333333,
              "#9c179e"
             ],
             [
              0.4444444444444444,
              "#bd3786"
             ],
             [
              0.5555555555555556,
              "#d8576b"
             ],
             [
              0.6666666666666666,
              "#ed7953"
             ],
             [
              0.7777777777777778,
              "#fb9f3a"
             ],
             [
              0.8888888888888888,
              "#fdca26"
             ],
             [
              1,
              "#f0f921"
             ]
            ],
            "type": "heatmap"
           }
          ],
          "heatmapgl": [
           {
            "colorbar": {
             "outlinewidth": 0,
             "ticks": ""
            },
            "colorscale": [
             [
              0,
              "#0d0887"
             ],
             [
              0.1111111111111111,
              "#46039f"
             ],
             [
              0.2222222222222222,
              "#7201a8"
             ],
             [
              0.3333333333333333,
              "#9c179e"
             ],
             [
              0.4444444444444444,
              "#bd3786"
             ],
             [
              0.5555555555555556,
              "#d8576b"
             ],
             [
              0.6666666666666666,
              "#ed7953"
             ],
             [
              0.7777777777777778,
              "#fb9f3a"
             ],
             [
              0.8888888888888888,
              "#fdca26"
             ],
             [
              1,
              "#f0f921"
             ]
            ],
            "type": "heatmapgl"
           }
          ],
          "histogram": [
           {
            "marker": {
             "colorbar": {
              "outlinewidth": 0,
              "ticks": ""
             }
            },
            "type": "histogram"
           }
          ],
          "histogram2d": [
           {
            "colorbar": {
             "outlinewidth": 0,
             "ticks": ""
            },
            "colorscale": [
             [
              0,
              "#0d0887"
             ],
             [
              0.1111111111111111,
              "#46039f"
             ],
             [
              0.2222222222222222,
              "#7201a8"
             ],
             [
              0.3333333333333333,
              "#9c179e"
             ],
             [
              0.4444444444444444,
              "#bd3786"
             ],
             [
              0.5555555555555556,
              "#d8576b"
             ],
             [
              0.6666666666666666,
              "#ed7953"
             ],
             [
              0.7777777777777778,
              "#fb9f3a"
             ],
             [
              0.8888888888888888,
              "#fdca26"
             ],
             [
              1,
              "#f0f921"
             ]
            ],
            "type": "histogram2d"
           }
          ],
          "histogram2dcontour": [
           {
            "colorbar": {
             "outlinewidth": 0,
             "ticks": ""
            },
            "colorscale": [
             [
              0,
              "#0d0887"
             ],
             [
              0.1111111111111111,
              "#46039f"
             ],
             [
              0.2222222222222222,
              "#7201a8"
             ],
             [
              0.3333333333333333,
              "#9c179e"
             ],
             [
              0.4444444444444444,
              "#bd3786"
             ],
             [
              0.5555555555555556,
              "#d8576b"
             ],
             [
              0.6666666666666666,
              "#ed7953"
             ],
             [
              0.7777777777777778,
              "#fb9f3a"
             ],
             [
              0.8888888888888888,
              "#fdca26"
             ],
             [
              1,
              "#f0f921"
             ]
            ],
            "type": "histogram2dcontour"
           }
          ],
          "mesh3d": [
           {
            "colorbar": {
             "outlinewidth": 0,
             "ticks": ""
            },
            "type": "mesh3d"
           }
          ],
          "parcoords": [
           {
            "line": {
             "colorbar": {
              "outlinewidth": 0,
              "ticks": ""
             }
            },
            "type": "parcoords"
           }
          ],
          "pie": [
           {
            "automargin": true,
            "type": "pie"
           }
          ],
          "scatter": [
           {
            "marker": {
             "colorbar": {
              "outlinewidth": 0,
              "ticks": ""
             }
            },
            "type": "scatter"
           }
          ],
          "scatter3d": [
           {
            "line": {
             "colorbar": {
              "outlinewidth": 0,
              "ticks": ""
             }
            },
            "marker": {
             "colorbar": {
              "outlinewidth": 0,
              "ticks": ""
             }
            },
            "type": "scatter3d"
           }
          ],
          "scattercarpet": [
           {
            "marker": {
             "colorbar": {
              "outlinewidth": 0,
              "ticks": ""
             }
            },
            "type": "scattercarpet"
           }
          ],
          "scattergeo": [
           {
            "marker": {
             "colorbar": {
              "outlinewidth": 0,
              "ticks": ""
             }
            },
            "type": "scattergeo"
           }
          ],
          "scattergl": [
           {
            "marker": {
             "colorbar": {
              "outlinewidth": 0,
              "ticks": ""
             }
            },
            "type": "scattergl"
           }
          ],
          "scattermapbox": [
           {
            "marker": {
             "colorbar": {
              "outlinewidth": 0,
              "ticks": ""
             }
            },
            "type": "scattermapbox"
           }
          ],
          "scatterpolar": [
           {
            "marker": {
             "colorbar": {
              "outlinewidth": 0,
              "ticks": ""
             }
            },
            "type": "scatterpolar"
           }
          ],
          "scatterpolargl": [
           {
            "marker": {
             "colorbar": {
              "outlinewidth": 0,
              "ticks": ""
             }
            },
            "type": "scatterpolargl"
           }
          ],
          "scatterternary": [
           {
            "marker": {
             "colorbar": {
              "outlinewidth": 0,
              "ticks": ""
             }
            },
            "type": "scatterternary"
           }
          ],
          "surface": [
           {
            "colorbar": {
             "outlinewidth": 0,
             "ticks": ""
            },
            "colorscale": [
             [
              0,
              "#0d0887"
             ],
             [
              0.1111111111111111,
              "#46039f"
             ],
             [
              0.2222222222222222,
              "#7201a8"
             ],
             [
              0.3333333333333333,
              "#9c179e"
             ],
             [
              0.4444444444444444,
              "#bd3786"
             ],
             [
              0.5555555555555556,
              "#d8576b"
             ],
             [
              0.6666666666666666,
              "#ed7953"
             ],
             [
              0.7777777777777778,
              "#fb9f3a"
             ],
             [
              0.8888888888888888,
              "#fdca26"
             ],
             [
              1,
              "#f0f921"
             ]
            ],
            "type": "surface"
           }
          ],
          "table": [
           {
            "cells": {
             "fill": {
              "color": "#EBF0F8"
             },
             "line": {
              "color": "white"
             }
            },
            "header": {
             "fill": {
              "color": "#C8D4E3"
             },
             "line": {
              "color": "white"
             }
            },
            "type": "table"
           }
          ]
         },
         "layout": {
          "annotationdefaults": {
           "arrowcolor": "#2a3f5f",
           "arrowhead": 0,
           "arrowwidth": 1
          },
          "coloraxis": {
           "colorbar": {
            "outlinewidth": 0,
            "ticks": ""
           }
          },
          "colorscale": {
           "diverging": [
            [
             0,
             "#8e0152"
            ],
            [
             0.1,
             "#c51b7d"
            ],
            [
             0.2,
             "#de77ae"
            ],
            [
             0.3,
             "#f1b6da"
            ],
            [
             0.4,
             "#fde0ef"
            ],
            [
             0.5,
             "#f7f7f7"
            ],
            [
             0.6,
             "#e6f5d0"
            ],
            [
             0.7,
             "#b8e186"
            ],
            [
             0.8,
             "#7fbc41"
            ],
            [
             0.9,
             "#4d9221"
            ],
            [
             1,
             "#276419"
            ]
           ],
           "sequential": [
            [
             0,
             "#0d0887"
            ],
            [
             0.1111111111111111,
             "#46039f"
            ],
            [
             0.2222222222222222,
             "#7201a8"
            ],
            [
             0.3333333333333333,
             "#9c179e"
            ],
            [
             0.4444444444444444,
             "#bd3786"
            ],
            [
             0.5555555555555556,
             "#d8576b"
            ],
            [
             0.6666666666666666,
             "#ed7953"
            ],
            [
             0.7777777777777778,
             "#fb9f3a"
            ],
            [
             0.8888888888888888,
             "#fdca26"
            ],
            [
             1,
             "#f0f921"
            ]
           ],
           "sequentialminus": [
            [
             0,
             "#0d0887"
            ],
            [
             0.1111111111111111,
             "#46039f"
            ],
            [
             0.2222222222222222,
             "#7201a8"
            ],
            [
             0.3333333333333333,
             "#9c179e"
            ],
            [
             0.4444444444444444,
             "#bd3786"
            ],
            [
             0.5555555555555556,
             "#d8576b"
            ],
            [
             0.6666666666666666,
             "#ed7953"
            ],
            [
             0.7777777777777778,
             "#fb9f3a"
            ],
            [
             0.8888888888888888,
             "#fdca26"
            ],
            [
             1,
             "#f0f921"
            ]
           ]
          },
          "colorway": [
           "#636efa",
           "#EF553B",
           "#00cc96",
           "#ab63fa",
           "#FFA15A",
           "#19d3f3",
           "#FF6692",
           "#B6E880",
           "#FF97FF",
           "#FECB52"
          ],
          "font": {
           "color": "#2a3f5f"
          },
          "geo": {
           "bgcolor": "white",
           "lakecolor": "white",
           "landcolor": "#E5ECF6",
           "showlakes": true,
           "showland": true,
           "subunitcolor": "white"
          },
          "hoverlabel": {
           "align": "left"
          },
          "hovermode": "closest",
          "mapbox": {
           "style": "light"
          },
          "paper_bgcolor": "white",
          "plot_bgcolor": "#E5ECF6",
          "polar": {
           "angularaxis": {
            "gridcolor": "white",
            "linecolor": "white",
            "ticks": ""
           },
           "bgcolor": "#E5ECF6",
           "radialaxis": {
            "gridcolor": "white",
            "linecolor": "white",
            "ticks": ""
           }
          },
          "scene": {
           "xaxis": {
            "backgroundcolor": "#E5ECF6",
            "gridcolor": "white",
            "gridwidth": 2,
            "linecolor": "white",
            "showbackground": true,
            "ticks": "",
            "zerolinecolor": "white"
           },
           "yaxis": {
            "backgroundcolor": "#E5ECF6",
            "gridcolor": "white",
            "gridwidth": 2,
            "linecolor": "white",
            "showbackground": true,
            "ticks": "",
            "zerolinecolor": "white"
           },
           "zaxis": {
            "backgroundcolor": "#E5ECF6",
            "gridcolor": "white",
            "gridwidth": 2,
            "linecolor": "white",
            "showbackground": true,
            "ticks": "",
            "zerolinecolor": "white"
           }
          },
          "shapedefaults": {
           "line": {
            "color": "#2a3f5f"
           }
          },
          "ternary": {
           "aaxis": {
            "gridcolor": "white",
            "linecolor": "white",
            "ticks": ""
           },
           "baxis": {
            "gridcolor": "white",
            "linecolor": "white",
            "ticks": ""
           },
           "bgcolor": "#E5ECF6",
           "caxis": {
            "gridcolor": "white",
            "linecolor": "white",
            "ticks": ""
           }
          },
          "title": {
           "x": 0.05
          },
          "xaxis": {
           "automargin": true,
           "gridcolor": "white",
           "linecolor": "white",
           "ticks": "",
           "title": {
            "standoff": 15
           },
           "zerolinecolor": "white",
           "zerolinewidth": 2
          },
          "yaxis": {
           "automargin": true,
           "gridcolor": "white",
           "linecolor": "white",
           "ticks": "",
           "title": {
            "standoff": 15
           },
           "zerolinecolor": "white",
           "zerolinewidth": 2
          }
         }
        },
        "title": {
         "text": "Earthquakes per Year"
        },
        "xaxis": {
         "rangeslider": {
          "visible": true
         }
        }
       }
      },
      "text/html": [
       "<div>\n",
       "        \n",
       "        \n",
       "            <div id=\"e116c217-3672-4e25-be6c-f0be10a1b2c0\" class=\"plotly-graph-div\" style=\"height:525px; width:100%;\"></div>\n",
       "            <script type=\"text/javascript\">\n",
       "                require([\"plotly\"], function(Plotly) {\n",
       "                    window.PLOTLYENV=window.PLOTLYENV || {};\n",
       "                    \n",
       "                if (document.getElementById(\"e116c217-3672-4e25-be6c-f0be10a1b2c0\")) {\n",
       "                    Plotly.newPlot(\n",
       "                        'e116c217-3672-4e25-be6c-f0be10a1b2c0',\n",
       "                        [{\"fill\": \"tozeroy\", \"name\": \"Earthquakes Per Year\", \"type\": \"scatter\", \"x\": [1993, 1994, 1995, 1996, 1997, 1998, 1999, 2000, 2001, 2002, 2003, 2004, 2005, 2006, 2007, 2008, 2009, 2010, 2011, 2012, 2013, 2014, 2015, 2016, 2017, 2018, 2019, 2020], \"y\": [4, 32, 31, 19, 34, 31, 35, 37, 25, 60, 72, 78, 60, 61, 67, 77, 61, 62, 60, 49, 52, 55, 48, 52, 64, 65, 61, 13]}],\n",
       "                        {\"showlegend\": true, \"template\": {\"data\": {\"bar\": [{\"error_x\": {\"color\": \"#2a3f5f\"}, \"error_y\": {\"color\": \"#2a3f5f\"}, \"marker\": {\"line\": {\"color\": \"#E5ECF6\", \"width\": 0.5}}, \"type\": \"bar\"}], \"barpolar\": [{\"marker\": {\"line\": {\"color\": \"#E5ECF6\", \"width\": 0.5}}, \"type\": \"barpolar\"}], \"carpet\": [{\"aaxis\": {\"endlinecolor\": \"#2a3f5f\", \"gridcolor\": \"white\", \"linecolor\": \"white\", \"minorgridcolor\": \"white\", \"startlinecolor\": \"#2a3f5f\"}, \"baxis\": {\"endlinecolor\": \"#2a3f5f\", \"gridcolor\": \"white\", \"linecolor\": \"white\", \"minorgridcolor\": \"white\", \"startlinecolor\": \"#2a3f5f\"}, \"type\": \"carpet\"}], \"choropleth\": [{\"colorbar\": {\"outlinewidth\": 0, \"ticks\": \"\"}, \"type\": \"choropleth\"}], \"contour\": [{\"colorbar\": {\"outlinewidth\": 0, \"ticks\": \"\"}, \"colorscale\": [[0.0, \"#0d0887\"], [0.1111111111111111, \"#46039f\"], [0.2222222222222222, \"#7201a8\"], [0.3333333333333333, \"#9c179e\"], [0.4444444444444444, \"#bd3786\"], [0.5555555555555556, \"#d8576b\"], [0.6666666666666666, \"#ed7953\"], [0.7777777777777778, \"#fb9f3a\"], [0.8888888888888888, \"#fdca26\"], [1.0, \"#f0f921\"]], \"type\": \"contour\"}], \"contourcarpet\": [{\"colorbar\": {\"outlinewidth\": 0, \"ticks\": \"\"}, \"type\": \"contourcarpet\"}], \"heatmap\": [{\"colorbar\": {\"outlinewidth\": 0, \"ticks\": \"\"}, \"colorscale\": [[0.0, \"#0d0887\"], [0.1111111111111111, \"#46039f\"], [0.2222222222222222, \"#7201a8\"], [0.3333333333333333, \"#9c179e\"], [0.4444444444444444, \"#bd3786\"], [0.5555555555555556, \"#d8576b\"], [0.6666666666666666, \"#ed7953\"], [0.7777777777777778, \"#fb9f3a\"], [0.8888888888888888, \"#fdca26\"], [1.0, \"#f0f921\"]], \"type\": \"heatmap\"}], \"heatmapgl\": [{\"colorbar\": {\"outlinewidth\": 0, \"ticks\": \"\"}, \"colorscale\": [[0.0, \"#0d0887\"], [0.1111111111111111, \"#46039f\"], [0.2222222222222222, \"#7201a8\"], [0.3333333333333333, \"#9c179e\"], [0.4444444444444444, \"#bd3786\"], [0.5555555555555556, \"#d8576b\"], [0.6666666666666666, \"#ed7953\"], [0.7777777777777778, \"#fb9f3a\"], [0.8888888888888888, \"#fdca26\"], [1.0, \"#f0f921\"]], \"type\": \"heatmapgl\"}], \"histogram\": [{\"marker\": {\"colorbar\": {\"outlinewidth\": 0, \"ticks\": \"\"}}, \"type\": \"histogram\"}], \"histogram2d\": [{\"colorbar\": {\"outlinewidth\": 0, \"ticks\": \"\"}, \"colorscale\": [[0.0, \"#0d0887\"], [0.1111111111111111, \"#46039f\"], [0.2222222222222222, \"#7201a8\"], [0.3333333333333333, \"#9c179e\"], [0.4444444444444444, \"#bd3786\"], [0.5555555555555556, \"#d8576b\"], [0.6666666666666666, \"#ed7953\"], [0.7777777777777778, \"#fb9f3a\"], [0.8888888888888888, \"#fdca26\"], [1.0, \"#f0f921\"]], \"type\": \"histogram2d\"}], \"histogram2dcontour\": [{\"colorbar\": {\"outlinewidth\": 0, \"ticks\": \"\"}, \"colorscale\": [[0.0, \"#0d0887\"], [0.1111111111111111, \"#46039f\"], [0.2222222222222222, \"#7201a8\"], [0.3333333333333333, \"#9c179e\"], [0.4444444444444444, \"#bd3786\"], [0.5555555555555556, \"#d8576b\"], [0.6666666666666666, \"#ed7953\"], [0.7777777777777778, \"#fb9f3a\"], [0.8888888888888888, \"#fdca26\"], [1.0, \"#f0f921\"]], \"type\": \"histogram2dcontour\"}], \"mesh3d\": [{\"colorbar\": {\"outlinewidth\": 0, \"ticks\": \"\"}, \"type\": \"mesh3d\"}], \"parcoords\": [{\"line\": {\"colorbar\": {\"outlinewidth\": 0, \"ticks\": \"\"}}, \"type\": \"parcoords\"}], \"pie\": [{\"automargin\": true, \"type\": \"pie\"}], \"scatter\": [{\"marker\": {\"colorbar\": {\"outlinewidth\": 0, \"ticks\": \"\"}}, \"type\": \"scatter\"}], \"scatter3d\": [{\"line\": {\"colorbar\": {\"outlinewidth\": 0, \"ticks\": \"\"}}, \"marker\": {\"colorbar\": {\"outlinewidth\": 0, \"ticks\": \"\"}}, \"type\": \"scatter3d\"}], \"scattercarpet\": [{\"marker\": {\"colorbar\": {\"outlinewidth\": 0, \"ticks\": \"\"}}, \"type\": \"scattercarpet\"}], \"scattergeo\": [{\"marker\": {\"colorbar\": {\"outlinewidth\": 0, \"ticks\": \"\"}}, \"type\": \"scattergeo\"}], \"scattergl\": [{\"marker\": {\"colorbar\": {\"outlinewidth\": 0, \"ticks\": \"\"}}, \"type\": \"scattergl\"}], \"scattermapbox\": [{\"marker\": {\"colorbar\": {\"outlinewidth\": 0, \"ticks\": \"\"}}, \"type\": \"scattermapbox\"}], \"scatterpolar\": [{\"marker\": {\"colorbar\": {\"outlinewidth\": 0, \"ticks\": \"\"}}, \"type\": \"scatterpolar\"}], \"scatterpolargl\": [{\"marker\": {\"colorbar\": {\"outlinewidth\": 0, \"ticks\": \"\"}}, \"type\": \"scatterpolargl\"}], \"scatterternary\": [{\"marker\": {\"colorbar\": {\"outlinewidth\": 0, \"ticks\": \"\"}}, \"type\": \"scatterternary\"}], \"surface\": [{\"colorbar\": {\"outlinewidth\": 0, \"ticks\": \"\"}, \"colorscale\": [[0.0, \"#0d0887\"], [0.1111111111111111, \"#46039f\"], [0.2222222222222222, \"#7201a8\"], [0.3333333333333333, \"#9c179e\"], [0.4444444444444444, \"#bd3786\"], [0.5555555555555556, \"#d8576b\"], [0.6666666666666666, \"#ed7953\"], [0.7777777777777778, \"#fb9f3a\"], [0.8888888888888888, \"#fdca26\"], [1.0, \"#f0f921\"]], \"type\": \"surface\"}], \"table\": [{\"cells\": {\"fill\": {\"color\": \"#EBF0F8\"}, \"line\": {\"color\": \"white\"}}, \"header\": {\"fill\": {\"color\": \"#C8D4E3\"}, \"line\": {\"color\": \"white\"}}, \"type\": \"table\"}]}, \"layout\": {\"annotationdefaults\": {\"arrowcolor\": \"#2a3f5f\", \"arrowhead\": 0, \"arrowwidth\": 1}, \"coloraxis\": {\"colorbar\": {\"outlinewidth\": 0, \"ticks\": \"\"}}, \"colorscale\": {\"diverging\": [[0, \"#8e0152\"], [0.1, \"#c51b7d\"], [0.2, \"#de77ae\"], [0.3, \"#f1b6da\"], [0.4, \"#fde0ef\"], [0.5, \"#f7f7f7\"], [0.6, \"#e6f5d0\"], [0.7, \"#b8e186\"], [0.8, \"#7fbc41\"], [0.9, \"#4d9221\"], [1, \"#276419\"]], \"sequential\": [[0.0, \"#0d0887\"], [0.1111111111111111, \"#46039f\"], [0.2222222222222222, \"#7201a8\"], [0.3333333333333333, \"#9c179e\"], [0.4444444444444444, \"#bd3786\"], [0.5555555555555556, \"#d8576b\"], [0.6666666666666666, \"#ed7953\"], [0.7777777777777778, \"#fb9f3a\"], [0.8888888888888888, \"#fdca26\"], [1.0, \"#f0f921\"]], \"sequentialminus\": [[0.0, \"#0d0887\"], [0.1111111111111111, \"#46039f\"], [0.2222222222222222, \"#7201a8\"], [0.3333333333333333, \"#9c179e\"], [0.4444444444444444, \"#bd3786\"], [0.5555555555555556, \"#d8576b\"], [0.6666666666666666, \"#ed7953\"], [0.7777777777777778, \"#fb9f3a\"], [0.8888888888888888, \"#fdca26\"], [1.0, \"#f0f921\"]]}, \"colorway\": [\"#636efa\", \"#EF553B\", \"#00cc96\", \"#ab63fa\", \"#FFA15A\", \"#19d3f3\", \"#FF6692\", \"#B6E880\", \"#FF97FF\", \"#FECB52\"], \"font\": {\"color\": \"#2a3f5f\"}, \"geo\": {\"bgcolor\": \"white\", \"lakecolor\": \"white\", \"landcolor\": \"#E5ECF6\", \"showlakes\": true, \"showland\": true, \"subunitcolor\": \"white\"}, \"hoverlabel\": {\"align\": \"left\"}, \"hovermode\": \"closest\", \"mapbox\": {\"style\": \"light\"}, \"paper_bgcolor\": \"white\", \"plot_bgcolor\": \"#E5ECF6\", \"polar\": {\"angularaxis\": {\"gridcolor\": \"white\", \"linecolor\": \"white\", \"ticks\": \"\"}, \"bgcolor\": \"#E5ECF6\", \"radialaxis\": {\"gridcolor\": \"white\", \"linecolor\": \"white\", \"ticks\": \"\"}}, \"scene\": {\"xaxis\": {\"backgroundcolor\": \"#E5ECF6\", \"gridcolor\": \"white\", \"gridwidth\": 2, \"linecolor\": \"white\", \"showbackground\": true, \"ticks\": \"\", \"zerolinecolor\": \"white\"}, \"yaxis\": {\"backgroundcolor\": \"#E5ECF6\", \"gridcolor\": \"white\", \"gridwidth\": 2, \"linecolor\": \"white\", \"showbackground\": true, \"ticks\": \"\", \"zerolinecolor\": \"white\"}, \"zaxis\": {\"backgroundcolor\": \"#E5ECF6\", \"gridcolor\": \"white\", \"gridwidth\": 2, \"linecolor\": \"white\", \"showbackground\": true, \"ticks\": \"\", \"zerolinecolor\": \"white\"}}, \"shapedefaults\": {\"line\": {\"color\": \"#2a3f5f\"}}, \"ternary\": {\"aaxis\": {\"gridcolor\": \"white\", \"linecolor\": \"white\", \"ticks\": \"\"}, \"baxis\": {\"gridcolor\": \"white\", \"linecolor\": \"white\", \"ticks\": \"\"}, \"bgcolor\": \"#E5ECF6\", \"caxis\": {\"gridcolor\": \"white\", \"linecolor\": \"white\", \"ticks\": \"\"}}, \"title\": {\"x\": 0.05}, \"xaxis\": {\"automargin\": true, \"gridcolor\": \"white\", \"linecolor\": \"white\", \"ticks\": \"\", \"title\": {\"standoff\": 15}, \"zerolinecolor\": \"white\", \"zerolinewidth\": 2}, \"yaxis\": {\"automargin\": true, \"gridcolor\": \"white\", \"linecolor\": \"white\", \"ticks\": \"\", \"title\": {\"standoff\": 15}, \"zerolinecolor\": \"white\", \"zerolinewidth\": 2}}}, \"title\": {\"text\": \"Earthquakes per Year\"}, \"xaxis\": {\"rangeslider\": {\"visible\": true}}},\n",
       "                        {\"responsive\": true}\n",
       "                    ).then(function(){\n",
       "                            \n",
       "var gd = document.getElementById('e116c217-3672-4e25-be6c-f0be10a1b2c0');\n",
       "var x = new MutationObserver(function (mutations, observer) {{\n",
       "        var display = window.getComputedStyle(gd).display;\n",
       "        if (!display || display === 'none') {{\n",
       "            console.log([gd, 'removed!']);\n",
       "            Plotly.purge(gd);\n",
       "            observer.disconnect();\n",
       "        }}\n",
       "}});\n",
       "\n",
       "// Listen for the removal of the full notebook cells\n",
       "var notebookContainer = gd.closest('#notebook-container');\n",
       "if (notebookContainer) {{\n",
       "    x.observe(notebookContainer, {childList: true});\n",
       "}}\n",
       "\n",
       "// Listen for the clearing of the current output cell\n",
       "var outputEl = gd.closest('.output');\n",
       "if (outputEl) {{\n",
       "    x.observe(outputEl, {childList: true});\n",
       "}}\n",
       "\n",
       "                        })\n",
       "                };\n",
       "                });\n",
       "            </script>\n",
       "        </div>"
      ]
     },
     "metadata": {},
     "output_type": "display_data"
    }
   ],
   "source": [
    "\n",
    "fig = go.Figure()\n",
    "\n",
    "fig.add_trace(go.Scatter(\n",
    "    x=list(year_count.keys()), \n",
    "    y=list(year_count.values()),\n",
    "    name='Earthquakes Per Year',\n",
    "    fill='tozeroy'\n",
    "))   \n",
    "\n",
    "# Set title\n",
    "fig.update_layout(\n",
    "    title_text=\"Earthquakes per Year\"\n",
    ")\n",
    "# Add range slider\n",
    "fig.update_layout(\n",
    "    xaxis=dict(\n",
    "        rangeslider=dict(\n",
    "            visible=True\n",
    "        )\n",
    "    ),\n",
    "    showlegend=True\n",
    ")\n",
    "fig.show()"
   ]
  },
  {
   "cell_type": "code",
   "execution_count": 87,
   "metadata": {},
   "outputs": [
    {
     "data": {
      "application/vnd.plotly.v1+json": {
       "config": {
        "plotlyServerURL": "https://plot.ly"
       },
       "data": [
        {
         "fill": "tozeroy",
         "name": "Earthquakes Per Country from 1920-2020",
         "type": "scatter",
         "x": [
          "NEPAL",
          "INDIA",
          "RUSSIA",
          "CHINA",
          "USA",
          "INDONESIA",
          "UGANDA",
          "IRAN",
          "HAITI",
          "FIJI",
          "JAPAN",
          "AFGHANISTAN",
          "TAIWAN",
          "COLOMBIA",
          "BOLIVIA",
          "NEW ZEALAND",
          "ALGERIA",
          "PHILIPPINES",
          "CYPRUS",
          "SAMOA",
          "GREECE",
          "NEW CALEDONIA",
          "CHILE",
          "PAPUA NEW GUINEA",
          "MEXICO",
          "TURKEY",
          "ECUADOR",
          "EGYPT",
          "PERU",
          "SOLOMON ISLANDS",
          "CROATIA",
          "KYRGYZSTAN",
          "ALBANIA",
          "PAKISTAN",
          "TRINIDAD AND TOBAGO",
          "USA TERRITORY",
          "VENEZUELA",
          "SOUTH AFRICA",
          "ITALY",
          "TONGA",
          "GUATEMALA",
          "ANTARCTICA",
          "AUSTRIA",
          "AZORES (PORTUGAL)",
          "ARMENIA",
          "SERBIA",
          "SPAIN",
          "AZERBAIJAN",
          "BANGLADESH",
          "VANUATU",
          "ICELAND",
          "AUSTRALIA",
          "NICARAGUA",
          "TANZANIA",
          "PANAMA",
          "TURKMENISTAN",
          "EL SALVADOR",
          "CANADA",
          "TAJIKISTAN",
          "RWANDA",
          "GEORGIA",
          "ARGENTINA",
          "GERMANY",
          "UK",
          "FRANCE",
          "CONGO",
          "BHUTAN",
          "INDIAN OCEAN",
          "MYANMAR (BURMA)",
          "DOMINICAN REPUBLIC",
          "BULGARIA",
          "SLOVAKIA",
          "JORDAN",
          "BURUNDI",
          "MOROCCO",
          "SAUDI ARABIA",
          "SLOVENIA",
          "POLAND",
          "ROMANIA",
          "COSTA RICA",
          "GUADELOUPE",
          "VIETNAM",
          "ETHIOPIA",
          "MOZAMBIQUE",
          "MALAWI",
          "HUNGARY",
          "SWITZERLAND",
          "THAILAND",
          "LAOS",
          "MARTINIQUE",
          "BRAZIL",
          "KERMADEC ISLANDS (NEW ZEALAND)",
          "LEBANON",
          "ATLANTIC OCEAN",
          "CZECH REPUBLIC",
          "MACEDONIA",
          "HONDURAS",
          "KAZAKHSTAN",
          "UZBEKISTAN",
          "BOSNIA-HERZEGOVINA",
          "MALAYSIA",
          "SOUTH GEORGIA AND THE SOUTH SANDWICH ISLANDS",
          "SOUTH KOREA",
          "MADAGASCAR",
          "ZAMBIA",
          "MONTENEGRO",
          "NETHERLANDS",
          "COMOROS",
          "CUBA"
         ],
         "y": [
          6,
          53,
          28,
          163,
          61,
          140,
          1,
          92,
          3,
          6,
          80,
          27,
          27,
          14,
          2,
          28,
          16,
          42,
          1,
          3,
          26,
          13,
          34,
          21,
          32,
          51,
          16,
          2,
          34,
          19,
          2,
          7,
          9,
          25,
          4,
          10,
          9,
          6,
          21,
          3,
          10,
          3,
          1,
          1,
          1,
          4,
          3,
          6,
          7,
          20,
          3,
          5,
          8,
          5,
          9,
          1,
          9,
          5,
          12,
          4,
          2,
          6,
          4,
          3,
          4,
          3,
          5,
          1,
          9,
          2,
          3,
          1,
          1,
          1,
          2,
          3,
          1,
          6,
          1,
          6,
          2,
          1,
          2,
          3,
          3,
          2,
          1,
          2,
          1,
          1,
          4,
          3,
          1,
          1,
          1,
          2,
          3,
          1,
          1,
          1,
          1,
          1,
          2,
          1,
          1,
          1,
          2,
          1,
          1
         ]
        }
       ],
       "layout": {
        "showlegend": true,
        "template": {
         "data": {
          "bar": [
           {
            "error_x": {
             "color": "#2a3f5f"
            },
            "error_y": {
             "color": "#2a3f5f"
            },
            "marker": {
             "line": {
              "color": "#E5ECF6",
              "width": 0.5
             }
            },
            "type": "bar"
           }
          ],
          "barpolar": [
           {
            "marker": {
             "line": {
              "color": "#E5ECF6",
              "width": 0.5
             }
            },
            "type": "barpolar"
           }
          ],
          "carpet": [
           {
            "aaxis": {
             "endlinecolor": "#2a3f5f",
             "gridcolor": "white",
             "linecolor": "white",
             "minorgridcolor": "white",
             "startlinecolor": "#2a3f5f"
            },
            "baxis": {
             "endlinecolor": "#2a3f5f",
             "gridcolor": "white",
             "linecolor": "white",
             "minorgridcolor": "white",
             "startlinecolor": "#2a3f5f"
            },
            "type": "carpet"
           }
          ],
          "choropleth": [
           {
            "colorbar": {
             "outlinewidth": 0,
             "ticks": ""
            },
            "type": "choropleth"
           }
          ],
          "contour": [
           {
            "colorbar": {
             "outlinewidth": 0,
             "ticks": ""
            },
            "colorscale": [
             [
              0,
              "#0d0887"
             ],
             [
              0.1111111111111111,
              "#46039f"
             ],
             [
              0.2222222222222222,
              "#7201a8"
             ],
             [
              0.3333333333333333,
              "#9c179e"
             ],
             [
              0.4444444444444444,
              "#bd3786"
             ],
             [
              0.5555555555555556,
              "#d8576b"
             ],
             [
              0.6666666666666666,
              "#ed7953"
             ],
             [
              0.7777777777777778,
              "#fb9f3a"
             ],
             [
              0.8888888888888888,
              "#fdca26"
             ],
             [
              1,
              "#f0f921"
             ]
            ],
            "type": "contour"
           }
          ],
          "contourcarpet": [
           {
            "colorbar": {
             "outlinewidth": 0,
             "ticks": ""
            },
            "type": "contourcarpet"
           }
          ],
          "heatmap": [
           {
            "colorbar": {
             "outlinewidth": 0,
             "ticks": ""
            },
            "colorscale": [
             [
              0,
              "#0d0887"
             ],
             [
              0.1111111111111111,
              "#46039f"
             ],
             [
              0.2222222222222222,
              "#7201a8"
             ],
             [
              0.3333333333333333,
              "#9c179e"
             ],
             [
              0.4444444444444444,
              "#bd3786"
             ],
             [
              0.5555555555555556,
              "#d8576b"
             ],
             [
              0.6666666666666666,
              "#ed7953"
             ],
             [
              0.7777777777777778,
              "#fb9f3a"
             ],
             [
              0.8888888888888888,
              "#fdca26"
             ],
             [
              1,
              "#f0f921"
             ]
            ],
            "type": "heatmap"
           }
          ],
          "heatmapgl": [
           {
            "colorbar": {
             "outlinewidth": 0,
             "ticks": ""
            },
            "colorscale": [
             [
              0,
              "#0d0887"
             ],
             [
              0.1111111111111111,
              "#46039f"
             ],
             [
              0.2222222222222222,
              "#7201a8"
             ],
             [
              0.3333333333333333,
              "#9c179e"
             ],
             [
              0.4444444444444444,
              "#bd3786"
             ],
             [
              0.5555555555555556,
              "#d8576b"
             ],
             [
              0.6666666666666666,
              "#ed7953"
             ],
             [
              0.7777777777777778,
              "#fb9f3a"
             ],
             [
              0.8888888888888888,
              "#fdca26"
             ],
             [
              1,
              "#f0f921"
             ]
            ],
            "type": "heatmapgl"
           }
          ],
          "histogram": [
           {
            "marker": {
             "colorbar": {
              "outlinewidth": 0,
              "ticks": ""
             }
            },
            "type": "histogram"
           }
          ],
          "histogram2d": [
           {
            "colorbar": {
             "outlinewidth": 0,
             "ticks": ""
            },
            "colorscale": [
             [
              0,
              "#0d0887"
             ],
             [
              0.1111111111111111,
              "#46039f"
             ],
             [
              0.2222222222222222,
              "#7201a8"
             ],
             [
              0.3333333333333333,
              "#9c179e"
             ],
             [
              0.4444444444444444,
              "#bd3786"
             ],
             [
              0.5555555555555556,
              "#d8576b"
             ],
             [
              0.6666666666666666,
              "#ed7953"
             ],
             [
              0.7777777777777778,
              "#fb9f3a"
             ],
             [
              0.8888888888888888,
              "#fdca26"
             ],
             [
              1,
              "#f0f921"
             ]
            ],
            "type": "histogram2d"
           }
          ],
          "histogram2dcontour": [
           {
            "colorbar": {
             "outlinewidth": 0,
             "ticks": ""
            },
            "colorscale": [
             [
              0,
              "#0d0887"
             ],
             [
              0.1111111111111111,
              "#46039f"
             ],
             [
              0.2222222222222222,
              "#7201a8"
             ],
             [
              0.3333333333333333,
              "#9c179e"
             ],
             [
              0.4444444444444444,
              "#bd3786"
             ],
             [
              0.5555555555555556,
              "#d8576b"
             ],
             [
              0.6666666666666666,
              "#ed7953"
             ],
             [
              0.7777777777777778,
              "#fb9f3a"
             ],
             [
              0.8888888888888888,
              "#fdca26"
             ],
             [
              1,
              "#f0f921"
             ]
            ],
            "type": "histogram2dcontour"
           }
          ],
          "mesh3d": [
           {
            "colorbar": {
             "outlinewidth": 0,
             "ticks": ""
            },
            "type": "mesh3d"
           }
          ],
          "parcoords": [
           {
            "line": {
             "colorbar": {
              "outlinewidth": 0,
              "ticks": ""
             }
            },
            "type": "parcoords"
           }
          ],
          "pie": [
           {
            "automargin": true,
            "type": "pie"
           }
          ],
          "scatter": [
           {
            "marker": {
             "colorbar": {
              "outlinewidth": 0,
              "ticks": ""
             }
            },
            "type": "scatter"
           }
          ],
          "scatter3d": [
           {
            "line": {
             "colorbar": {
              "outlinewidth": 0,
              "ticks": ""
             }
            },
            "marker": {
             "colorbar": {
              "outlinewidth": 0,
              "ticks": ""
             }
            },
            "type": "scatter3d"
           }
          ],
          "scattercarpet": [
           {
            "marker": {
             "colorbar": {
              "outlinewidth": 0,
              "ticks": ""
             }
            },
            "type": "scattercarpet"
           }
          ],
          "scattergeo": [
           {
            "marker": {
             "colorbar": {
              "outlinewidth": 0,
              "ticks": ""
             }
            },
            "type": "scattergeo"
           }
          ],
          "scattergl": [
           {
            "marker": {
             "colorbar": {
              "outlinewidth": 0,
              "ticks": ""
             }
            },
            "type": "scattergl"
           }
          ],
          "scattermapbox": [
           {
            "marker": {
             "colorbar": {
              "outlinewidth": 0,
              "ticks": ""
             }
            },
            "type": "scattermapbox"
           }
          ],
          "scatterpolar": [
           {
            "marker": {
             "colorbar": {
              "outlinewidth": 0,
              "ticks": ""
             }
            },
            "type": "scatterpolar"
           }
          ],
          "scatterpolargl": [
           {
            "marker": {
             "colorbar": {
              "outlinewidth": 0,
              "ticks": ""
             }
            },
            "type": "scatterpolargl"
           }
          ],
          "scatterternary": [
           {
            "marker": {
             "colorbar": {
              "outlinewidth": 0,
              "ticks": ""
             }
            },
            "type": "scatterternary"
           }
          ],
          "surface": [
           {
            "colorbar": {
             "outlinewidth": 0,
             "ticks": ""
            },
            "colorscale": [
             [
              0,
              "#0d0887"
             ],
             [
              0.1111111111111111,
              "#46039f"
             ],
             [
              0.2222222222222222,
              "#7201a8"
             ],
             [
              0.3333333333333333,
              "#9c179e"
             ],
             [
              0.4444444444444444,
              "#bd3786"
             ],
             [
              0.5555555555555556,
              "#d8576b"
             ],
             [
              0.6666666666666666,
              "#ed7953"
             ],
             [
              0.7777777777777778,
              "#fb9f3a"
             ],
             [
              0.8888888888888888,
              "#fdca26"
             ],
             [
              1,
              "#f0f921"
             ]
            ],
            "type": "surface"
           }
          ],
          "table": [
           {
            "cells": {
             "fill": {
              "color": "#EBF0F8"
             },
             "line": {
              "color": "white"
             }
            },
            "header": {
             "fill": {
              "color": "#C8D4E3"
             },
             "line": {
              "color": "white"
             }
            },
            "type": "table"
           }
          ]
         },
         "layout": {
          "annotationdefaults": {
           "arrowcolor": "#2a3f5f",
           "arrowhead": 0,
           "arrowwidth": 1
          },
          "coloraxis": {
           "colorbar": {
            "outlinewidth": 0,
            "ticks": ""
           }
          },
          "colorscale": {
           "diverging": [
            [
             0,
             "#8e0152"
            ],
            [
             0.1,
             "#c51b7d"
            ],
            [
             0.2,
             "#de77ae"
            ],
            [
             0.3,
             "#f1b6da"
            ],
            [
             0.4,
             "#fde0ef"
            ],
            [
             0.5,
             "#f7f7f7"
            ],
            [
             0.6,
             "#e6f5d0"
            ],
            [
             0.7,
             "#b8e186"
            ],
            [
             0.8,
             "#7fbc41"
            ],
            [
             0.9,
             "#4d9221"
            ],
            [
             1,
             "#276419"
            ]
           ],
           "sequential": [
            [
             0,
             "#0d0887"
            ],
            [
             0.1111111111111111,
             "#46039f"
            ],
            [
             0.2222222222222222,
             "#7201a8"
            ],
            [
             0.3333333333333333,
             "#9c179e"
            ],
            [
             0.4444444444444444,
             "#bd3786"
            ],
            [
             0.5555555555555556,
             "#d8576b"
            ],
            [
             0.6666666666666666,
             "#ed7953"
            ],
            [
             0.7777777777777778,
             "#fb9f3a"
            ],
            [
             0.8888888888888888,
             "#fdca26"
            ],
            [
             1,
             "#f0f921"
            ]
           ],
           "sequentialminus": [
            [
             0,
             "#0d0887"
            ],
            [
             0.1111111111111111,
             "#46039f"
            ],
            [
             0.2222222222222222,
             "#7201a8"
            ],
            [
             0.3333333333333333,
             "#9c179e"
            ],
            [
             0.4444444444444444,
             "#bd3786"
            ],
            [
             0.5555555555555556,
             "#d8576b"
            ],
            [
             0.6666666666666666,
             "#ed7953"
            ],
            [
             0.7777777777777778,
             "#fb9f3a"
            ],
            [
             0.8888888888888888,
             "#fdca26"
            ],
            [
             1,
             "#f0f921"
            ]
           ]
          },
          "colorway": [
           "#636efa",
           "#EF553B",
           "#00cc96",
           "#ab63fa",
           "#FFA15A",
           "#19d3f3",
           "#FF6692",
           "#B6E880",
           "#FF97FF",
           "#FECB52"
          ],
          "font": {
           "color": "#2a3f5f"
          },
          "geo": {
           "bgcolor": "white",
           "lakecolor": "white",
           "landcolor": "#E5ECF6",
           "showlakes": true,
           "showland": true,
           "subunitcolor": "white"
          },
          "hoverlabel": {
           "align": "left"
          },
          "hovermode": "closest",
          "mapbox": {
           "style": "light"
          },
          "paper_bgcolor": "white",
          "plot_bgcolor": "#E5ECF6",
          "polar": {
           "angularaxis": {
            "gridcolor": "white",
            "linecolor": "white",
            "ticks": ""
           },
           "bgcolor": "#E5ECF6",
           "radialaxis": {
            "gridcolor": "white",
            "linecolor": "white",
            "ticks": ""
           }
          },
          "scene": {
           "xaxis": {
            "backgroundcolor": "#E5ECF6",
            "gridcolor": "white",
            "gridwidth": 2,
            "linecolor": "white",
            "showbackground": true,
            "ticks": "",
            "zerolinecolor": "white"
           },
           "yaxis": {
            "backgroundcolor": "#E5ECF6",
            "gridcolor": "white",
            "gridwidth": 2,
            "linecolor": "white",
            "showbackground": true,
            "ticks": "",
            "zerolinecolor": "white"
           },
           "zaxis": {
            "backgroundcolor": "#E5ECF6",
            "gridcolor": "white",
            "gridwidth": 2,
            "linecolor": "white",
            "showbackground": true,
            "ticks": "",
            "zerolinecolor": "white"
           }
          },
          "shapedefaults": {
           "line": {
            "color": "#2a3f5f"
           }
          },
          "ternary": {
           "aaxis": {
            "gridcolor": "white",
            "linecolor": "white",
            "ticks": ""
           },
           "baxis": {
            "gridcolor": "white",
            "linecolor": "white",
            "ticks": ""
           },
           "bgcolor": "#E5ECF6",
           "caxis": {
            "gridcolor": "white",
            "linecolor": "white",
            "ticks": ""
           }
          },
          "title": {
           "x": 0.05
          },
          "xaxis": {
           "automargin": true,
           "gridcolor": "white",
           "linecolor": "white",
           "ticks": "",
           "title": {
            "standoff": 15
           },
           "zerolinecolor": "white",
           "zerolinewidth": 2
          },
          "yaxis": {
           "automargin": true,
           "gridcolor": "white",
           "linecolor": "white",
           "ticks": "",
           "title": {
            "standoff": 15
           },
           "zerolinecolor": "white",
           "zerolinewidth": 2
          }
         }
        },
        "title": {
         "text": "Earthquakes per Country"
        },
        "xaxis": {
         "rangeslider": {
          "visible": true
         }
        }
       }
      },
      "text/html": [
       "<div>\n",
       "        \n",
       "        \n",
       "            <div id=\"f1537821-43b4-46c0-9052-ae195dd24778\" class=\"plotly-graph-div\" style=\"height:525px; width:100%;\"></div>\n",
       "            <script type=\"text/javascript\">\n",
       "                require([\"plotly\"], function(Plotly) {\n",
       "                    window.PLOTLYENV=window.PLOTLYENV || {};\n",
       "                    \n",
       "                if (document.getElementById(\"f1537821-43b4-46c0-9052-ae195dd24778\")) {\n",
       "                    Plotly.newPlot(\n",
       "                        'f1537821-43b4-46c0-9052-ae195dd24778',\n",
       "                        [{\"fill\": \"tozeroy\", \"name\": \"Earthquakes Per Country from 1920-2020\", \"type\": \"scatter\", \"x\": [\"NEPAL\", \"INDIA\", \"RUSSIA\", \"CHINA\", \"USA\", \"INDONESIA\", \"UGANDA\", \"IRAN\", \"HAITI\", \"FIJI\", \"JAPAN\", \"AFGHANISTAN\", \"TAIWAN\", \"COLOMBIA\", \"BOLIVIA\", \"NEW ZEALAND\", \"ALGERIA\", \"PHILIPPINES\", \"CYPRUS\", \"SAMOA\", \"GREECE\", \"NEW CALEDONIA\", \"CHILE\", \"PAPUA NEW GUINEA\", \"MEXICO\", \"TURKEY\", \"ECUADOR\", \"EGYPT\", \"PERU\", \"SOLOMON ISLANDS\", \"CROATIA\", \"KYRGYZSTAN\", \"ALBANIA\", \"PAKISTAN\", \"TRINIDAD AND TOBAGO\", \"USA TERRITORY\", \"VENEZUELA\", \"SOUTH AFRICA\", \"ITALY\", \"TONGA\", \"GUATEMALA\", \"ANTARCTICA\", \"AUSTRIA\", \"AZORES (PORTUGAL)\", \"ARMENIA\", \"SERBIA\", \"SPAIN\", \"AZERBAIJAN\", \"BANGLADESH\", \"VANUATU\", \"ICELAND\", \"AUSTRALIA\", \"NICARAGUA\", \"TANZANIA\", \"PANAMA\", \"TURKMENISTAN\", \"EL SALVADOR\", \"CANADA\", \"TAJIKISTAN\", \"RWANDA\", \"GEORGIA\", \"ARGENTINA\", \"GERMANY\", \"UK\", \"FRANCE\", \"CONGO\", \"BHUTAN\", \"INDIAN OCEAN\", \"MYANMAR (BURMA)\", \"DOMINICAN REPUBLIC\", \"BULGARIA\", \"SLOVAKIA\", \"JORDAN\", \"BURUNDI\", \"MOROCCO\", \"SAUDI ARABIA\", \"SLOVENIA\", \"POLAND\", \"ROMANIA\", \"COSTA RICA\", \"GUADELOUPE\", \"VIETNAM\", \"ETHIOPIA\", \"MOZAMBIQUE\", \"MALAWI\", \"HUNGARY\", \"SWITZERLAND\", \"THAILAND\", \"LAOS\", \"MARTINIQUE\", \"BRAZIL\", \"KERMADEC ISLANDS (NEW ZEALAND)\", \"LEBANON\", \"ATLANTIC OCEAN\", \"CZECH REPUBLIC\", \"MACEDONIA\", \"HONDURAS\", \"KAZAKHSTAN\", \"UZBEKISTAN\", \"BOSNIA-HERZEGOVINA\", \"MALAYSIA\", \"SOUTH GEORGIA AND THE SOUTH SANDWICH ISLANDS\", \"SOUTH KOREA\", \"MADAGASCAR\", \"ZAMBIA\", \"MONTENEGRO\", \"NETHERLANDS\", \"COMOROS\", \"CUBA\"], \"y\": [6, 53, 28, 163, 61, 140, 1, 92, 3, 6, 80, 27, 27, 14, 2, 28, 16, 42, 1, 3, 26, 13, 34, 21, 32, 51, 16, 2, 34, 19, 2, 7, 9, 25, 4, 10, 9, 6, 21, 3, 10, 3, 1, 1, 1, 4, 3, 6, 7, 20, 3, 5, 8, 5, 9, 1, 9, 5, 12, 4, 2, 6, 4, 3, 4, 3, 5, 1, 9, 2, 3, 1, 1, 1, 2, 3, 1, 6, 1, 6, 2, 1, 2, 3, 3, 2, 1, 2, 1, 1, 4, 3, 1, 1, 1, 2, 3, 1, 1, 1, 1, 1, 2, 1, 1, 1, 2, 1, 1]}],\n",
       "                        {\"showlegend\": true, \"template\": {\"data\": {\"bar\": [{\"error_x\": {\"color\": \"#2a3f5f\"}, \"error_y\": {\"color\": \"#2a3f5f\"}, \"marker\": {\"line\": {\"color\": \"#E5ECF6\", \"width\": 0.5}}, \"type\": \"bar\"}], \"barpolar\": [{\"marker\": {\"line\": {\"color\": \"#E5ECF6\", \"width\": 0.5}}, \"type\": \"barpolar\"}], \"carpet\": [{\"aaxis\": {\"endlinecolor\": \"#2a3f5f\", \"gridcolor\": \"white\", \"linecolor\": \"white\", \"minorgridcolor\": \"white\", \"startlinecolor\": \"#2a3f5f\"}, \"baxis\": {\"endlinecolor\": \"#2a3f5f\", \"gridcolor\": \"white\", \"linecolor\": \"white\", \"minorgridcolor\": \"white\", \"startlinecolor\": \"#2a3f5f\"}, \"type\": \"carpet\"}], \"choropleth\": [{\"colorbar\": {\"outlinewidth\": 0, \"ticks\": \"\"}, \"type\": \"choropleth\"}], \"contour\": [{\"colorbar\": {\"outlinewidth\": 0, \"ticks\": \"\"}, \"colorscale\": [[0.0, \"#0d0887\"], [0.1111111111111111, \"#46039f\"], [0.2222222222222222, \"#7201a8\"], [0.3333333333333333, \"#9c179e\"], [0.4444444444444444, \"#bd3786\"], [0.5555555555555556, \"#d8576b\"], [0.6666666666666666, \"#ed7953\"], [0.7777777777777778, \"#fb9f3a\"], [0.8888888888888888, \"#fdca26\"], [1.0, \"#f0f921\"]], \"type\": \"contour\"}], \"contourcarpet\": [{\"colorbar\": {\"outlinewidth\": 0, \"ticks\": \"\"}, \"type\": \"contourcarpet\"}], \"heatmap\": [{\"colorbar\": {\"outlinewidth\": 0, \"ticks\": \"\"}, \"colorscale\": [[0.0, \"#0d0887\"], [0.1111111111111111, \"#46039f\"], [0.2222222222222222, \"#7201a8\"], [0.3333333333333333, \"#9c179e\"], [0.4444444444444444, \"#bd3786\"], [0.5555555555555556, \"#d8576b\"], [0.6666666666666666, \"#ed7953\"], [0.7777777777777778, \"#fb9f3a\"], [0.8888888888888888, \"#fdca26\"], [1.0, \"#f0f921\"]], \"type\": \"heatmap\"}], \"heatmapgl\": [{\"colorbar\": {\"outlinewidth\": 0, \"ticks\": \"\"}, \"colorscale\": [[0.0, \"#0d0887\"], [0.1111111111111111, \"#46039f\"], [0.2222222222222222, \"#7201a8\"], [0.3333333333333333, \"#9c179e\"], [0.4444444444444444, \"#bd3786\"], [0.5555555555555556, \"#d8576b\"], [0.6666666666666666, \"#ed7953\"], [0.7777777777777778, \"#fb9f3a\"], [0.8888888888888888, \"#fdca26\"], [1.0, \"#f0f921\"]], \"type\": \"heatmapgl\"}], \"histogram\": [{\"marker\": {\"colorbar\": {\"outlinewidth\": 0, \"ticks\": \"\"}}, \"type\": \"histogram\"}], \"histogram2d\": [{\"colorbar\": {\"outlinewidth\": 0, \"ticks\": \"\"}, \"colorscale\": [[0.0, \"#0d0887\"], [0.1111111111111111, \"#46039f\"], [0.2222222222222222, \"#7201a8\"], [0.3333333333333333, \"#9c179e\"], [0.4444444444444444, \"#bd3786\"], [0.5555555555555556, \"#d8576b\"], [0.6666666666666666, \"#ed7953\"], [0.7777777777777778, \"#fb9f3a\"], [0.8888888888888888, \"#fdca26\"], [1.0, \"#f0f921\"]], \"type\": \"histogram2d\"}], \"histogram2dcontour\": [{\"colorbar\": {\"outlinewidth\": 0, \"ticks\": \"\"}, \"colorscale\": [[0.0, \"#0d0887\"], [0.1111111111111111, \"#46039f\"], [0.2222222222222222, \"#7201a8\"], [0.3333333333333333, \"#9c179e\"], [0.4444444444444444, \"#bd3786\"], [0.5555555555555556, \"#d8576b\"], [0.6666666666666666, \"#ed7953\"], [0.7777777777777778, \"#fb9f3a\"], [0.8888888888888888, \"#fdca26\"], [1.0, \"#f0f921\"]], \"type\": \"histogram2dcontour\"}], \"mesh3d\": [{\"colorbar\": {\"outlinewidth\": 0, \"ticks\": \"\"}, \"type\": \"mesh3d\"}], \"parcoords\": [{\"line\": {\"colorbar\": {\"outlinewidth\": 0, \"ticks\": \"\"}}, \"type\": \"parcoords\"}], \"pie\": [{\"automargin\": true, \"type\": \"pie\"}], \"scatter\": [{\"marker\": {\"colorbar\": {\"outlinewidth\": 0, \"ticks\": \"\"}}, \"type\": \"scatter\"}], \"scatter3d\": [{\"line\": {\"colorbar\": {\"outlinewidth\": 0, \"ticks\": \"\"}}, \"marker\": {\"colorbar\": {\"outlinewidth\": 0, \"ticks\": \"\"}}, \"type\": \"scatter3d\"}], \"scattercarpet\": [{\"marker\": {\"colorbar\": {\"outlinewidth\": 0, \"ticks\": \"\"}}, \"type\": \"scattercarpet\"}], \"scattergeo\": [{\"marker\": {\"colorbar\": {\"outlinewidth\": 0, \"ticks\": \"\"}}, \"type\": \"scattergeo\"}], \"scattergl\": [{\"marker\": {\"colorbar\": {\"outlinewidth\": 0, \"ticks\": \"\"}}, \"type\": \"scattergl\"}], \"scattermapbox\": [{\"marker\": {\"colorbar\": {\"outlinewidth\": 0, \"ticks\": \"\"}}, \"type\": \"scattermapbox\"}], \"scatterpolar\": [{\"marker\": {\"colorbar\": {\"outlinewidth\": 0, \"ticks\": \"\"}}, \"type\": \"scatterpolar\"}], \"scatterpolargl\": [{\"marker\": {\"colorbar\": {\"outlinewidth\": 0, \"ticks\": \"\"}}, \"type\": \"scatterpolargl\"}], \"scatterternary\": [{\"marker\": {\"colorbar\": {\"outlinewidth\": 0, \"ticks\": \"\"}}, \"type\": \"scatterternary\"}], \"surface\": [{\"colorbar\": {\"outlinewidth\": 0, \"ticks\": \"\"}, \"colorscale\": [[0.0, \"#0d0887\"], [0.1111111111111111, \"#46039f\"], [0.2222222222222222, \"#7201a8\"], [0.3333333333333333, \"#9c179e\"], [0.4444444444444444, \"#bd3786\"], [0.5555555555555556, \"#d8576b\"], [0.6666666666666666, \"#ed7953\"], [0.7777777777777778, \"#fb9f3a\"], [0.8888888888888888, \"#fdca26\"], [1.0, \"#f0f921\"]], \"type\": \"surface\"}], \"table\": [{\"cells\": {\"fill\": {\"color\": \"#EBF0F8\"}, \"line\": {\"color\": \"white\"}}, \"header\": {\"fill\": {\"color\": \"#C8D4E3\"}, \"line\": {\"color\": \"white\"}}, \"type\": \"table\"}]}, \"layout\": {\"annotationdefaults\": {\"arrowcolor\": \"#2a3f5f\", \"arrowhead\": 0, \"arrowwidth\": 1}, \"coloraxis\": {\"colorbar\": {\"outlinewidth\": 0, \"ticks\": \"\"}}, \"colorscale\": {\"diverging\": [[0, \"#8e0152\"], [0.1, \"#c51b7d\"], [0.2, \"#de77ae\"], [0.3, \"#f1b6da\"], [0.4, \"#fde0ef\"], [0.5, \"#f7f7f7\"], [0.6, \"#e6f5d0\"], [0.7, \"#b8e186\"], [0.8, \"#7fbc41\"], [0.9, \"#4d9221\"], [1, \"#276419\"]], \"sequential\": [[0.0, \"#0d0887\"], [0.1111111111111111, \"#46039f\"], [0.2222222222222222, \"#7201a8\"], [0.3333333333333333, \"#9c179e\"], [0.4444444444444444, \"#bd3786\"], [0.5555555555555556, \"#d8576b\"], [0.6666666666666666, \"#ed7953\"], [0.7777777777777778, \"#fb9f3a\"], [0.8888888888888888, \"#fdca26\"], [1.0, \"#f0f921\"]], \"sequentialminus\": [[0.0, \"#0d0887\"], [0.1111111111111111, \"#46039f\"], [0.2222222222222222, \"#7201a8\"], [0.3333333333333333, \"#9c179e\"], [0.4444444444444444, \"#bd3786\"], [0.5555555555555556, \"#d8576b\"], [0.6666666666666666, \"#ed7953\"], [0.7777777777777778, \"#fb9f3a\"], [0.8888888888888888, \"#fdca26\"], [1.0, \"#f0f921\"]]}, \"colorway\": [\"#636efa\", \"#EF553B\", \"#00cc96\", \"#ab63fa\", \"#FFA15A\", \"#19d3f3\", \"#FF6692\", \"#B6E880\", \"#FF97FF\", \"#FECB52\"], \"font\": {\"color\": \"#2a3f5f\"}, \"geo\": {\"bgcolor\": \"white\", \"lakecolor\": \"white\", \"landcolor\": \"#E5ECF6\", \"showlakes\": true, \"showland\": true, \"subunitcolor\": \"white\"}, \"hoverlabel\": {\"align\": \"left\"}, \"hovermode\": \"closest\", \"mapbox\": {\"style\": \"light\"}, \"paper_bgcolor\": \"white\", \"plot_bgcolor\": \"#E5ECF6\", \"polar\": {\"angularaxis\": {\"gridcolor\": \"white\", \"linecolor\": \"white\", \"ticks\": \"\"}, \"bgcolor\": \"#E5ECF6\", \"radialaxis\": {\"gridcolor\": \"white\", \"linecolor\": \"white\", \"ticks\": \"\"}}, \"scene\": {\"xaxis\": {\"backgroundcolor\": \"#E5ECF6\", \"gridcolor\": \"white\", \"gridwidth\": 2, \"linecolor\": \"white\", \"showbackground\": true, \"ticks\": \"\", \"zerolinecolor\": \"white\"}, \"yaxis\": {\"backgroundcolor\": \"#E5ECF6\", \"gridcolor\": \"white\", \"gridwidth\": 2, \"linecolor\": \"white\", \"showbackground\": true, \"ticks\": \"\", \"zerolinecolor\": \"white\"}, \"zaxis\": {\"backgroundcolor\": \"#E5ECF6\", \"gridcolor\": \"white\", \"gridwidth\": 2, \"linecolor\": \"white\", \"showbackground\": true, \"ticks\": \"\", \"zerolinecolor\": \"white\"}}, \"shapedefaults\": {\"line\": {\"color\": \"#2a3f5f\"}}, \"ternary\": {\"aaxis\": {\"gridcolor\": \"white\", \"linecolor\": \"white\", \"ticks\": \"\"}, \"baxis\": {\"gridcolor\": \"white\", \"linecolor\": \"white\", \"ticks\": \"\"}, \"bgcolor\": \"#E5ECF6\", \"caxis\": {\"gridcolor\": \"white\", \"linecolor\": \"white\", \"ticks\": \"\"}}, \"title\": {\"x\": 0.05}, \"xaxis\": {\"automargin\": true, \"gridcolor\": \"white\", \"linecolor\": \"white\", \"ticks\": \"\", \"title\": {\"standoff\": 15}, \"zerolinecolor\": \"white\", \"zerolinewidth\": 2}, \"yaxis\": {\"automargin\": true, \"gridcolor\": \"white\", \"linecolor\": \"white\", \"ticks\": \"\", \"title\": {\"standoff\": 15}, \"zerolinecolor\": \"white\", \"zerolinewidth\": 2}}}, \"title\": {\"text\": \"Earthquakes per Country\"}, \"xaxis\": {\"rangeslider\": {\"visible\": true}}},\n",
       "                        {\"responsive\": true}\n",
       "                    ).then(function(){\n",
       "                            \n",
       "var gd = document.getElementById('f1537821-43b4-46c0-9052-ae195dd24778');\n",
       "var x = new MutationObserver(function (mutations, observer) {{\n",
       "        var display = window.getComputedStyle(gd).display;\n",
       "        if (!display || display === 'none') {{\n",
       "            console.log([gd, 'removed!']);\n",
       "            Plotly.purge(gd);\n",
       "            observer.disconnect();\n",
       "        }}\n",
       "}});\n",
       "\n",
       "// Listen for the removal of the full notebook cells\n",
       "var notebookContainer = gd.closest('#notebook-container');\n",
       "if (notebookContainer) {{\n",
       "    x.observe(notebookContainer, {childList: true});\n",
       "}}\n",
       "\n",
       "// Listen for the clearing of the current output cell\n",
       "var outputEl = gd.closest('.output');\n",
       "if (outputEl) {{\n",
       "    x.observe(outputEl, {childList: true});\n",
       "}}\n",
       "\n",
       "                        })\n",
       "                };\n",
       "                });\n",
       "            </script>\n",
       "        </div>"
      ]
     },
     "metadata": {},
     "output_type": "display_data"
    }
   ],
   "source": [
    "\n",
    "fig = go.Figure()\n",
    "\n",
    "fig.add_trace(go.Scatter(\n",
    "    x=list(country_count_earthquakes.keys()), \n",
    "    y=list(country_count_earthquakes.values()),\n",
    "    name='Earthquakes Per Country from 1920-2020',\n",
    "    fill='tozeroy'\n",
    "))   \n",
    "\n",
    "# Set title\n",
    "fig.update_layout(\n",
    "    title_text=\"Earthquakes per Country\"\n",
    ")\n",
    "# Add range slider\n",
    "fig.update_layout(\n",
    "    xaxis=dict(\n",
    "        rangeslider=dict(\n",
    "            visible=True\n",
    "        )\n",
    "    ),\n",
    "    showlegend=True\n",
    ")\n",
    "fig.show()"
   ]
  },
  {
   "cell_type": "code",
   "execution_count": 88,
   "metadata": {},
   "outputs": [],
   "source": [
    "def total_earthquakes_by_country(country):\n",
    "    results={}\n",
    "    for items in years:\n",
    "        sub = df[\n",
    "            (df['COUNTRY'].str.contains(country)) &  \n",
    "            (df['YEAR'].str.contains(items))\n",
    "        ]\n",
    "        results[items] = sub.shape[0]\n",
    "    return results"
   ]
  },
  {
   "cell_type": "code",
   "execution_count": 89,
   "metadata": {},
   "outputs": [
    {
     "ename": "AttributeError",
     "evalue": "Can only use .str accessor with string values!",
     "output_type": "error",
     "traceback": [
      "\u001b[0;31m---------------------------------------------------------------------------\u001b[0m",
      "\u001b[0;31mAttributeError\u001b[0m                            Traceback (most recent call last)",
      "\u001b[0;32m<ipython-input-89-072fff2d3a6a>\u001b[0m in \u001b[0;36m<module>\u001b[0;34m\u001b[0m\n\u001b[1;32m      4\u001b[0m \u001b[0mfig\u001b[0m \u001b[0;34m=\u001b[0m \u001b[0mgo\u001b[0m\u001b[0;34m.\u001b[0m\u001b[0mFigure\u001b[0m\u001b[0;34m(\u001b[0m\u001b[0;34m)\u001b[0m\u001b[0;34m\u001b[0m\u001b[0;34m\u001b[0m\u001b[0m\n\u001b[1;32m      5\u001b[0m \u001b[0;32mfor\u001b[0m \u001b[0mcountry\u001b[0m \u001b[0;32min\u001b[0m \u001b[0mcountries\u001b[0m\u001b[0;34m[\u001b[0m\u001b[0;36m0\u001b[0m\u001b[0;34m:\u001b[0m\u001b[0;36m5\u001b[0m\u001b[0;34m]\u001b[0m\u001b[0;34m:\u001b[0m\u001b[0;34m\u001b[0m\u001b[0;34m\u001b[0m\u001b[0m\n\u001b[0;32m----> 6\u001b[0;31m     \u001b[0mresults\u001b[0m \u001b[0;34m=\u001b[0m \u001b[0mtotal_earthquakes_by_country\u001b[0m\u001b[0;34m(\u001b[0m\u001b[0mcountry\u001b[0m\u001b[0;34m)\u001b[0m\u001b[0;34m\u001b[0m\u001b[0;34m\u001b[0m\u001b[0m\n\u001b[0m\u001b[1;32m      7\u001b[0m     fig.add_trace(go.Scatter(\n\u001b[1;32m      8\u001b[0m         \u001b[0mx\u001b[0m\u001b[0;34m=\u001b[0m\u001b[0mlist\u001b[0m\u001b[0;34m(\u001b[0m\u001b[0mresults\u001b[0m\u001b[0;34m.\u001b[0m\u001b[0mkeys\u001b[0m\u001b[0;34m(\u001b[0m\u001b[0;34m)\u001b[0m\u001b[0;34m)\u001b[0m\u001b[0;34m,\u001b[0m\u001b[0;34m\u001b[0m\u001b[0;34m\u001b[0m\u001b[0m\n",
      "\u001b[0;32m<ipython-input-88-0d31e5fbf5d0>\u001b[0m in \u001b[0;36mtotal_earthquakes_by_country\u001b[0;34m(country)\u001b[0m\n\u001b[1;32m      4\u001b[0m         sub = df[\n\u001b[1;32m      5\u001b[0m             \u001b[0;34m(\u001b[0m\u001b[0mdf\u001b[0m\u001b[0;34m[\u001b[0m\u001b[0;34m'COUNTRY'\u001b[0m\u001b[0;34m]\u001b[0m\u001b[0;34m.\u001b[0m\u001b[0mstr\u001b[0m\u001b[0;34m.\u001b[0m\u001b[0mcontains\u001b[0m\u001b[0;34m(\u001b[0m\u001b[0mcountry\u001b[0m\u001b[0;34m)\u001b[0m\u001b[0;34m)\u001b[0m \u001b[0;34m&\u001b[0m\u001b[0;34m\u001b[0m\u001b[0;34m\u001b[0m\u001b[0m\n\u001b[0;32m----> 6\u001b[0;31m             \u001b[0;34m(\u001b[0m\u001b[0mdf\u001b[0m\u001b[0;34m[\u001b[0m\u001b[0;34m'YEAR'\u001b[0m\u001b[0;34m]\u001b[0m\u001b[0;34m.\u001b[0m\u001b[0mstr\u001b[0m\u001b[0;34m.\u001b[0m\u001b[0mcontains\u001b[0m\u001b[0;34m(\u001b[0m\u001b[0mitems\u001b[0m\u001b[0;34m)\u001b[0m\u001b[0;34m)\u001b[0m\u001b[0;34m\u001b[0m\u001b[0;34m\u001b[0m\u001b[0m\n\u001b[0m\u001b[1;32m      7\u001b[0m         ]\n\u001b[1;32m      8\u001b[0m         \u001b[0mresults\u001b[0m\u001b[0;34m[\u001b[0m\u001b[0mitems\u001b[0m\u001b[0;34m]\u001b[0m \u001b[0;34m=\u001b[0m \u001b[0msub\u001b[0m\u001b[0;34m.\u001b[0m\u001b[0mshape\u001b[0m\u001b[0;34m[\u001b[0m\u001b[0;36m0\u001b[0m\u001b[0;34m]\u001b[0m\u001b[0;34m\u001b[0m\u001b[0;34m\u001b[0m\u001b[0m\n",
      "\u001b[0;32m~/.conda/envs/practice/lib/python3.7/site-packages/pandas/core/generic.py\u001b[0m in \u001b[0;36m__getattr__\u001b[0;34m(self, name)\u001b[0m\n\u001b[1;32m   5268\u001b[0m             \u001b[0;32mor\u001b[0m \u001b[0mname\u001b[0m \u001b[0;32min\u001b[0m \u001b[0mself\u001b[0m\u001b[0;34m.\u001b[0m\u001b[0m_accessors\u001b[0m\u001b[0;34m\u001b[0m\u001b[0;34m\u001b[0m\u001b[0m\n\u001b[1;32m   5269\u001b[0m         ):\n\u001b[0;32m-> 5270\u001b[0;31m             \u001b[0;32mreturn\u001b[0m \u001b[0mobject\u001b[0m\u001b[0;34m.\u001b[0m\u001b[0m__getattribute__\u001b[0m\u001b[0;34m(\u001b[0m\u001b[0mself\u001b[0m\u001b[0;34m,\u001b[0m \u001b[0mname\u001b[0m\u001b[0;34m)\u001b[0m\u001b[0;34m\u001b[0m\u001b[0;34m\u001b[0m\u001b[0m\n\u001b[0m\u001b[1;32m   5271\u001b[0m         \u001b[0;32melse\u001b[0m\u001b[0;34m:\u001b[0m\u001b[0;34m\u001b[0m\u001b[0;34m\u001b[0m\u001b[0m\n\u001b[1;32m   5272\u001b[0m             \u001b[0;32mif\u001b[0m \u001b[0mself\u001b[0m\u001b[0;34m.\u001b[0m\u001b[0m_info_axis\u001b[0m\u001b[0;34m.\u001b[0m\u001b[0m_can_hold_identifiers_and_holds_name\u001b[0m\u001b[0;34m(\u001b[0m\u001b[0mname\u001b[0m\u001b[0;34m)\u001b[0m\u001b[0;34m:\u001b[0m\u001b[0;34m\u001b[0m\u001b[0;34m\u001b[0m\u001b[0m\n",
      "\u001b[0;32m~/.conda/envs/practice/lib/python3.7/site-packages/pandas/core/accessor.py\u001b[0m in \u001b[0;36m__get__\u001b[0;34m(self, obj, cls)\u001b[0m\n\u001b[1;32m    185\u001b[0m             \u001b[0;31m# we're accessing the attribute of the class, i.e., Dataset.geo\u001b[0m\u001b[0;34m\u001b[0m\u001b[0;34m\u001b[0m\u001b[0;34m\u001b[0m\u001b[0m\n\u001b[1;32m    186\u001b[0m             \u001b[0;32mreturn\u001b[0m \u001b[0mself\u001b[0m\u001b[0;34m.\u001b[0m\u001b[0m_accessor\u001b[0m\u001b[0;34m\u001b[0m\u001b[0;34m\u001b[0m\u001b[0m\n\u001b[0;32m--> 187\u001b[0;31m         \u001b[0maccessor_obj\u001b[0m \u001b[0;34m=\u001b[0m \u001b[0mself\u001b[0m\u001b[0;34m.\u001b[0m\u001b[0m_accessor\u001b[0m\u001b[0;34m(\u001b[0m\u001b[0mobj\u001b[0m\u001b[0;34m)\u001b[0m\u001b[0;34m\u001b[0m\u001b[0;34m\u001b[0m\u001b[0m\n\u001b[0m\u001b[1;32m    188\u001b[0m         \u001b[0;31m# Replace the property with the accessor object. Inspired by:\u001b[0m\u001b[0;34m\u001b[0m\u001b[0;34m\u001b[0m\u001b[0;34m\u001b[0m\u001b[0m\n\u001b[1;32m    189\u001b[0m         \u001b[0;31m# http://www.pydanny.com/cached-property.html\u001b[0m\u001b[0;34m\u001b[0m\u001b[0;34m\u001b[0m\u001b[0;34m\u001b[0m\u001b[0m\n",
      "\u001b[0;32m~/.conda/envs/practice/lib/python3.7/site-packages/pandas/core/strings.py\u001b[0m in \u001b[0;36m__init__\u001b[0;34m(self, data)\u001b[0m\n\u001b[1;32m   2039\u001b[0m \u001b[0;34m\u001b[0m\u001b[0m\n\u001b[1;32m   2040\u001b[0m     \u001b[0;32mdef\u001b[0m \u001b[0m__init__\u001b[0m\u001b[0;34m(\u001b[0m\u001b[0mself\u001b[0m\u001b[0;34m,\u001b[0m \u001b[0mdata\u001b[0m\u001b[0;34m)\u001b[0m\u001b[0;34m:\u001b[0m\u001b[0;34m\u001b[0m\u001b[0;34m\u001b[0m\u001b[0m\n\u001b[0;32m-> 2041\u001b[0;31m         \u001b[0mself\u001b[0m\u001b[0;34m.\u001b[0m\u001b[0m_inferred_dtype\u001b[0m \u001b[0;34m=\u001b[0m \u001b[0mself\u001b[0m\u001b[0;34m.\u001b[0m\u001b[0m_validate\u001b[0m\u001b[0;34m(\u001b[0m\u001b[0mdata\u001b[0m\u001b[0;34m)\u001b[0m\u001b[0;34m\u001b[0m\u001b[0;34m\u001b[0m\u001b[0m\n\u001b[0m\u001b[1;32m   2042\u001b[0m         \u001b[0mself\u001b[0m\u001b[0;34m.\u001b[0m\u001b[0m_is_categorical\u001b[0m \u001b[0;34m=\u001b[0m \u001b[0mis_categorical_dtype\u001b[0m\u001b[0;34m(\u001b[0m\u001b[0mdata\u001b[0m\u001b[0;34m)\u001b[0m\u001b[0;34m\u001b[0m\u001b[0;34m\u001b[0m\u001b[0m\n\u001b[1;32m   2043\u001b[0m         \u001b[0mself\u001b[0m\u001b[0;34m.\u001b[0m\u001b[0m_is_string\u001b[0m \u001b[0;34m=\u001b[0m \u001b[0mdata\u001b[0m\u001b[0;34m.\u001b[0m\u001b[0mdtype\u001b[0m\u001b[0;34m.\u001b[0m\u001b[0mname\u001b[0m \u001b[0;34m==\u001b[0m \u001b[0;34m\"string\"\u001b[0m\u001b[0;34m\u001b[0m\u001b[0;34m\u001b[0m\u001b[0m\n",
      "\u001b[0;32m~/.conda/envs/practice/lib/python3.7/site-packages/pandas/core/strings.py\u001b[0m in \u001b[0;36m_validate\u001b[0;34m(data)\u001b[0m\n\u001b[1;32m   2096\u001b[0m \u001b[0;34m\u001b[0m\u001b[0m\n\u001b[1;32m   2097\u001b[0m         \u001b[0;32mif\u001b[0m \u001b[0minferred_dtype\u001b[0m \u001b[0;32mnot\u001b[0m \u001b[0;32min\u001b[0m \u001b[0mallowed_types\u001b[0m\u001b[0;34m:\u001b[0m\u001b[0;34m\u001b[0m\u001b[0;34m\u001b[0m\u001b[0m\n\u001b[0;32m-> 2098\u001b[0;31m             \u001b[0;32mraise\u001b[0m \u001b[0mAttributeError\u001b[0m\u001b[0;34m(\u001b[0m\u001b[0;34m\"Can only use .str accessor with string values!\"\u001b[0m\u001b[0;34m)\u001b[0m\u001b[0;34m\u001b[0m\u001b[0;34m\u001b[0m\u001b[0m\n\u001b[0m\u001b[1;32m   2099\u001b[0m         \u001b[0;32mreturn\u001b[0m \u001b[0minferred_dtype\u001b[0m\u001b[0;34m\u001b[0m\u001b[0;34m\u001b[0m\u001b[0m\n\u001b[1;32m   2100\u001b[0m \u001b[0;34m\u001b[0m\u001b[0m\n",
      "\u001b[0;31mAttributeError\u001b[0m: Can only use .str accessor with string values!"
     ]
    }
   ],
   "source": [
    "import plotly.graph_objects as go\n",
    "# Create figure\n",
    "\n",
    "fig = go.Figure()\n",
    "for country in countries[0:5]:\n",
    "    results = total_earthquakes_by_country(country)\n",
    "    fig.add_trace(go.Scatter(\n",
    "        x=list(results.keys()), \n",
    "        y=list(results.values()),\n",
    "        name=country,\n",
    "        fill='tozeroy'\n",
    "    ))   \n",
    "            \n",
    "# Set title\n",
    "fig.update_layout(\n",
    "    title_text=\"Number of USA Owned Satellites Launched Per Year\"\n",
    ")\n",
    "# Add range slider\n",
    "fig.update_layout(\n",
    "    xaxis=dict(\n",
    "        rangeslider=dict(\n",
    "            visible=True\n",
    "        )\n",
    "    ),\n",
    "    showlegend=True\n",
    ")\n",
    "fig.show()"
   ]
  }
 ],
 "metadata": {
  "kernelspec": {
   "display_name": "Python 3",
   "language": "python",
   "name": "python3"
  },
  "language_info": {
   "codemirror_mode": {
    "name": "ipython",
    "version": 3
   },
   "file_extension": ".py",
   "mimetype": "text/x-python",
   "name": "python",
   "nbconvert_exporter": "python",
   "pygments_lexer": "ipython3",
   "version": "3.7.7"
  }
 },
 "nbformat": 4,
 "nbformat_minor": 4
}
