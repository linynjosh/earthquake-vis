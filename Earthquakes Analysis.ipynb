{
 "cells": [
  {
   "cell_type": "code",
   "execution_count": 1,
   "metadata": {},
   "outputs": [],
   "source": [
    "import plotly.graph_objects as go\n",
    "# Create figure\n",
    "import matplotlib.pyplot as plt\n",
    "plt.rcParams['figure.figsize'] = [16, 5]\n",
    "import numpy as np\n",
    "import pandas as pd\n",
    " "
   ]
  },
  {
   "cell_type": "code",
   "execution_count": null,
   "metadata": {},
   "outputs": [],
   "source": [
    "filename = \"data.tsv\"\n",
    "data = pd.read_csv(filename, sep='\\t', error_bad_lines=False)\n",
    "df = data.iloc[1925:3290,[i for i in range(47)]]\n",
    "df\n"
   ]
  },
  {
   "cell_type": "code",
   "execution_count": null,
   "metadata": {},
   "outputs": [],
   "source": [
    "df.columns.values\n",
    "df1 = df[['I_D',\n",
    "          'YEAR', \n",
    "          'MONTH', \n",
    "          'DAY', \n",
    "          'FOCAL_DEPTH', \n",
    "          'EQ_MAG_MW', 'COUNTRY', \n",
    "          'LATITUDE', 'LONGITUDE',\n",
    "          'TOTAL_DEATHS', \n",
    "          'TOTAL_INJURIES']]\n",
    "df1\n"
   ]
  },
  {
   "cell_type": "code",
   "execution_count": 11,
   "metadata": {},
   "outputs": [
    {
     "name": "stdout",
     "output_type": "stream",
     "text": [
      "User Guide: https://docs.kepler.gl/docs/keplergl-jupyter\n"
     ]
    },
    {
     "data": {
      "application/vnd.jupyter.widget-view+json": {
       "model_id": "58c8a9fe5b1b4164b1f10486763f4287",
       "version_major": 2,
       "version_minor": 0
      },
      "text/plain": [
       "KeplerGl(height=500)"
      ]
     },
     "metadata": {},
     "output_type": "display_data"
    }
   ],
   "source": [
    "# Load an empty map\n",
    "from keplergl import KeplerGl \n",
    "map_1 = KeplerGl(height=500)\n",
    "map_1"
   ]
  },
  {
   "cell_type": "code",
   "execution_count": 13,
   "metadata": {},
   "outputs": [
    {
     "name": "stdout",
     "output_type": "stream",
     "text": [
      "Map saved to index.html!\n"
     ]
    }
   ],
   "source": [
    "map_1.save_to_html(file_name='index.html')"
   ]
  },
  {
   "cell_type": "code",
   "execution_count": null,
   "metadata": {
    "scrolled": false
   },
   "outputs": [],
   "source": [
    "magnitude = df['EQ_MAG_MW'].dropna()\n",
    "#display(magnitude)\n",
    "#print(magnitude.shape)\n",
    "row_num = df.loc[~df['EQ_MAG_MW'].isna()].index.tolist()"
   ]
  },
  {
   "cell_type": "code",
   "execution_count": null,
   "metadata": {},
   "outputs": [],
   "source": [
    "fig = go.Figure()\n",
    "\n",
    "fig.add_trace(go.Scatter(\n",
    "    x=row_num, \n",
    "    y=magnitude,\n",
    "    name='Earthquakes Per Year',\n",
    "    fill='tozeroy'\n",
    "))   \n",
    "\n",
    "# Set title\n",
    "fig.update_layout(\n",
    "    title_text=\"哈咯你好嗎\"\n",
    ")\n",
    "# Add range slider\n",
    "fig.update_layout(\n",
    "    xaxis=dict(\n",
    "        rangeslider=dict(\n",
    "            visible=True\n",
    "        )\n",
    "    ),\n",
    "    showlegend=True\n",
    ")\n",
    "fig.show()"
   ]
  },
  {
   "cell_type": "code",
   "execution_count": null,
   "metadata": {},
   "outputs": [],
   "source": [
    "magnitude_count = {}\n",
    "for number in magnitude:\n",
    "    if number not in magnitude_count:\n",
    "        magnitude_count[number] = 1\n",
    "    else:\n",
    "        magnitude_count[number] += 1\n",
    "print(magnitude_count)"
   ]
  },
  {
   "cell_type": "code",
   "execution_count": null,
   "metadata": {},
   "outputs": [],
   "source": [
    "display(data.iloc[0:3290,[i for i in range(10,20)]].isna().sum())\n",
    "display(data.iloc[0:3290,16])\n"
   ]
  },
  {
   "cell_type": "code",
   "execution_count": null,
   "metadata": {},
   "outputs": [],
   "source": [
    "countries = df['COUNTRY'].tolist()"
   ]
  },
  {
   "cell_type": "code",
   "execution_count": null,
   "metadata": {},
   "outputs": [],
   "source": [
    "country_count_earthquakes = {}\n",
    "for country in countries:\n",
    "    if country not in country_count_earthquakes:\n",
    "        country_count_earthquakes[country] = 1\n",
    "    else:\n",
    "        country_count_earthquakes[country] += 1\n",
    "print(country_count_earthquakes)"
   ]
  },
  {
   "cell_type": "code",
   "execution_count": null,
   "metadata": {},
   "outputs": [],
   "source": []
  },
  {
   "cell_type": "code",
   "execution_count": null,
   "metadata": {},
   "outputs": [],
   "source": [
    "years = df['YEAR'].tolist()"
   ]
  },
  {
   "cell_type": "code",
   "execution_count": null,
   "metadata": {},
   "outputs": [],
   "source": [
    "year_count = {}\n",
    "for year in years:\n",
    "    if year not in year_count:\n",
    "        year_count[year] = 1\n",
    "    else:\n",
    "        year_count[year] += 1\n",
    "print(year_count)\n"
   ]
  },
  {
   "cell_type": "code",
   "execution_count": null,
   "metadata": {
    "scrolled": false
   },
   "outputs": [],
   "source": [
    "\n",
    "fig = go.Figure()\n",
    "\n",
    "fig.add_trace(go.Scatter(\n",
    "    x=list(year_count.keys()), \n",
    "    y=list(year_count.values()),\n",
    "    name='Earthquakes Per Year',\n",
    "    fill='tozeroy'\n",
    "))   \n",
    "\n",
    "# Set title\n",
    "fig.update_layout(\n",
    "    title_text=\"Earthquakes per Year\"\n",
    ")\n",
    "# Add range slider\n",
    "fig.update_layout(\n",
    "    xaxis=dict(\n",
    "        rangeslider=dict(\n",
    "            visible=True\n",
    "        )\n",
    "    ),\n",
    "    showlegend=True\n",
    ")\n",
    "fig.show()"
   ]
  },
  {
   "cell_type": "code",
   "execution_count": null,
   "metadata": {},
   "outputs": [],
   "source": [
    "\n",
    "fig = go.Figure()\n",
    "\n",
    "fig.add_trace(go.Scatter(\n",
    "    x=list(country_count_earthquakes.keys()), \n",
    "    y=list(country_count_earthquakes.values()),\n",
    "    name='Earthquakes Per Country from 1920-2020',\n",
    "    fill='tozeroy'\n",
    "))   \n",
    "\n",
    "# Set title\n",
    "fig.update_layout(\n",
    "    title_text=\"Earthquakes per Country\"\n",
    ")\n",
    "# Add range slider\n",
    "fig.update_layout(\n",
    "    xaxis=dict(\n",
    "        rangeslider=dict(\n",
    "            visible=True\n",
    "        )\n",
    "    ),\n",
    "    showlegend=True\n",
    ")\n",
    "fig.show()"
   ]
  },
  {
   "cell_type": "code",
   "execution_count": null,
   "metadata": {},
   "outputs": [],
   "source": [
    "def total_earthquakes_by_country(country):\n",
    "    results={}\n",
    "    for items in years:\n",
    "        sub = df[\n",
    "            (df['COUNTRY'].str.contains(country)) &  \n",
    "            (df['YEAR'].str.contains(items))\n",
    "        ]\n",
    "        results[items] = sub.shape[0]\n",
    "    return results"
   ]
  },
  {
   "cell_type": "code",
   "execution_count": null,
   "metadata": {},
   "outputs": [],
   "source": [
    "import plotly.graph_objects as go\n",
    "# Create figure\n",
    "\n",
    "fig = go.Figure()\n",
    "for country in countries[0:5]:\n",
    "    results = total_earthquakes_by_country(country)\n",
    "    fig.add_trace(go.Scatter(\n",
    "        x=list(results.keys()), \n",
    "        y=list(results.values()),\n",
    "        name=country,\n",
    "        fill='tozeroy'\n",
    "    ))   \n",
    "            \n",
    "# Set title\n",
    "fig.update_layout(\n",
    "    title_text=\"Number of USA Owned Satellites Launched Per Year\"\n",
    ")\n",
    "# Add range slider\n",
    "fig.update_layout(\n",
    "    xaxis=dict(\n",
    "        rangeslider=dict(\n",
    "            visible=True\n",
    "        )\n",
    "    ),\n",
    "    showlegend=True\n",
    ")\n",
    "fig.show()"
   ]
  }
 ],
 "metadata": {
  "kernelspec": {
   "display_name": "Python 3",
   "language": "python",
   "name": "python3"
  },
  "language_info": {
   "codemirror_mode": {
    "name": "ipython",
    "version": 3
   },
   "file_extension": ".py",
   "mimetype": "text/x-python",
   "name": "python",
   "nbconvert_exporter": "python",
   "pygments_lexer": "ipython3",
   "version": "3.7.7"
  }
 },
 "nbformat": 4,
 "nbformat_minor": 4
}
